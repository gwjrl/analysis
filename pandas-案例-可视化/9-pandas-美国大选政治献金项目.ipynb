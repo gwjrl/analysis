{
 "cells": [
  {
   "cell_type": "code",
   "execution_count": 1,
   "metadata": {},
   "outputs": [],
   "source": [
    "import numpy as np\n",
    "\n",
    "import pandas as pd\n",
    "\n",
    "from pandas import Series,DataFrame\n",
    "\n",
    "import matplotlib.pyplot as plt"
   ]
  },
  {
   "cell_type": "code",
   "execution_count": 4,
   "metadata": {
    "collapsed": true
   },
   "outputs": [
    {
     "name": "stdout",
     "output_type": "stream",
     "text": [
      "<class 'pandas.core.frame.DataFrame'>\n",
      "RangeIndex: 536041 entries, 0 to 536040\n",
      "Data columns (total 16 columns):\n",
      "cmte_id              536041 non-null object\n",
      "cand_id              536041 non-null object\n",
      "cand_nm              536041 non-null object\n",
      "contbr_nm            536041 non-null object\n",
      "contbr_city          536026 non-null object\n",
      "contbr_st            536040 non-null object\n",
      "contbr_zip           535973 non-null object\n",
      "contbr_employer      525088 non-null object\n",
      "contbr_occupation    530520 non-null object\n",
      "contb_receipt_amt    536041 non-null float64\n",
      "contb_receipt_dt     536041 non-null object\n",
      "receipt_desc         8479 non-null object\n",
      "memo_cd              49718 non-null object\n",
      "memo_text            52740 non-null object\n",
      "form_tp              536041 non-null object\n",
      "file_num             536041 non-null int64\n",
      "dtypes: float64(1), int64(1), object(14)\n",
      "memory usage: 65.4+ MB\n"
     ]
    }
   ],
   "source": [
    "df = pd.read_csv('./usa_election.csv',low_memory=False)\n",
    "df.info()"
   ]
  },
  {
   "cell_type": "code",
   "execution_count": 5,
   "metadata": {
    "collapsed": true
   },
   "outputs": [
    {
     "data": {
      "text/html": [
       "<div>\n",
       "<style scoped>\n",
       "    .dataframe tbody tr th:only-of-type {\n",
       "        vertical-align: middle;\n",
       "    }\n",
       "\n",
       "    .dataframe tbody tr th {\n",
       "        vertical-align: top;\n",
       "    }\n",
       "\n",
       "    .dataframe thead th {\n",
       "        text-align: right;\n",
       "    }\n",
       "</style>\n",
       "<table border=\"1\" class=\"dataframe\">\n",
       "  <thead>\n",
       "    <tr style=\"text-align: right;\">\n",
       "      <th></th>\n",
       "      <th>cmte_id</th>\n",
       "      <th>cand_id</th>\n",
       "      <th>cand_nm</th>\n",
       "      <th>contbr_nm</th>\n",
       "      <th>contbr_city</th>\n",
       "      <th>contbr_st</th>\n",
       "      <th>contbr_zip</th>\n",
       "      <th>contbr_employer</th>\n",
       "      <th>contbr_occupation</th>\n",
       "      <th>contb_receipt_amt</th>\n",
       "      <th>contb_receipt_dt</th>\n",
       "      <th>receipt_desc</th>\n",
       "      <th>memo_cd</th>\n",
       "      <th>memo_text</th>\n",
       "      <th>form_tp</th>\n",
       "      <th>file_num</th>\n",
       "    </tr>\n",
       "  </thead>\n",
       "  <tbody>\n",
       "    <tr>\n",
       "      <th>0</th>\n",
       "      <td>C00410118</td>\n",
       "      <td>P20002978</td>\n",
       "      <td>Bachmann, Michelle</td>\n",
       "      <td>HARVEY, WILLIAM</td>\n",
       "      <td>MOBILE</td>\n",
       "      <td>AL</td>\n",
       "      <td>366010290</td>\n",
       "      <td>RETIRED</td>\n",
       "      <td>RETIRED</td>\n",
       "      <td>250.0</td>\n",
       "      <td>20-JUN-11</td>\n",
       "      <td>NaN</td>\n",
       "      <td>NaN</td>\n",
       "      <td>NaN</td>\n",
       "      <td>SA17A</td>\n",
       "      <td>736166</td>\n",
       "    </tr>\n",
       "    <tr>\n",
       "      <th>1</th>\n",
       "      <td>C00410118</td>\n",
       "      <td>P20002978</td>\n",
       "      <td>Bachmann, Michelle</td>\n",
       "      <td>HARVEY, WILLIAM</td>\n",
       "      <td>MOBILE</td>\n",
       "      <td>AL</td>\n",
       "      <td>366010290</td>\n",
       "      <td>RETIRED</td>\n",
       "      <td>RETIRED</td>\n",
       "      <td>50.0</td>\n",
       "      <td>23-JUN-11</td>\n",
       "      <td>NaN</td>\n",
       "      <td>NaN</td>\n",
       "      <td>NaN</td>\n",
       "      <td>SA17A</td>\n",
       "      <td>736166</td>\n",
       "    </tr>\n",
       "    <tr>\n",
       "      <th>2</th>\n",
       "      <td>C00410118</td>\n",
       "      <td>P20002978</td>\n",
       "      <td>Bachmann, Michelle</td>\n",
       "      <td>SMITH, LANIER</td>\n",
       "      <td>LANETT</td>\n",
       "      <td>AL</td>\n",
       "      <td>368633403</td>\n",
       "      <td>INFORMATION REQUESTED</td>\n",
       "      <td>INFORMATION REQUESTED</td>\n",
       "      <td>250.0</td>\n",
       "      <td>05-JUL-11</td>\n",
       "      <td>NaN</td>\n",
       "      <td>NaN</td>\n",
       "      <td>NaN</td>\n",
       "      <td>SA17A</td>\n",
       "      <td>749073</td>\n",
       "    </tr>\n",
       "    <tr>\n",
       "      <th>3</th>\n",
       "      <td>C00410118</td>\n",
       "      <td>P20002978</td>\n",
       "      <td>Bachmann, Michelle</td>\n",
       "      <td>BLEVINS, DARONDA</td>\n",
       "      <td>PIGGOTT</td>\n",
       "      <td>AR</td>\n",
       "      <td>724548253</td>\n",
       "      <td>NONE</td>\n",
       "      <td>RETIRED</td>\n",
       "      <td>250.0</td>\n",
       "      <td>01-AUG-11</td>\n",
       "      <td>NaN</td>\n",
       "      <td>NaN</td>\n",
       "      <td>NaN</td>\n",
       "      <td>SA17A</td>\n",
       "      <td>749073</td>\n",
       "    </tr>\n",
       "    <tr>\n",
       "      <th>4</th>\n",
       "      <td>C00410118</td>\n",
       "      <td>P20002978</td>\n",
       "      <td>Bachmann, Michelle</td>\n",
       "      <td>WARDENBURG, HAROLD</td>\n",
       "      <td>HOT SPRINGS NATION</td>\n",
       "      <td>AR</td>\n",
       "      <td>719016467</td>\n",
       "      <td>NONE</td>\n",
       "      <td>RETIRED</td>\n",
       "      <td>300.0</td>\n",
       "      <td>20-JUN-11</td>\n",
       "      <td>NaN</td>\n",
       "      <td>NaN</td>\n",
       "      <td>NaN</td>\n",
       "      <td>SA17A</td>\n",
       "      <td>736166</td>\n",
       "    </tr>\n",
       "  </tbody>\n",
       "</table>\n",
       "</div>"
      ],
      "text/plain": [
       "     cmte_id    cand_id  ... form_tp file_num\n",
       "0  C00410118  P20002978  ...   SA17A   736166\n",
       "1  C00410118  P20002978  ...   SA17A   736166\n",
       "2  C00410118  P20002978  ...   SA17A   749073\n",
       "3  C00410118  P20002978  ...   SA17A   749073\n",
       "4  C00410118  P20002978  ...   SA17A   736166\n",
       "\n",
       "[5 rows x 16 columns]"
      ]
     },
     "execution_count": 5,
     "metadata": {},
     "output_type": "execute_result"
    }
   ],
   "source": [
    "'''\n",
    "cand_nm – 接受捐赠的候选人姓名\n",
    "contbr_nm – 捐赠人姓名\n",
    "contbr_st – 捐赠人所在州\n",
    "contbr_zip - 捐赠者邮编\n",
    "contbr_employer – 捐赠人所在公司\n",
    "contbr_occupation – 捐赠人职业\n",
    "contb_receipt_amt – 捐赠数额（美元）\n",
    "contb_receipt_dt – 收到捐款的日期'''\n",
    "df.head()"
   ]
  },
  {
   "cell_type": "markdown",
   "metadata": {},
   "source": [
    "### 数据预览和基本统计分析"
   ]
  },
  {
   "cell_type": "code",
   "execution_count": 6,
   "metadata": {},
   "outputs": [
    {
     "data": {
      "text/plain": [
       "(536041, 16)"
      ]
     },
     "execution_count": 6,
     "metadata": {},
     "output_type": "execute_result"
    }
   ],
   "source": [
    "df.shape"
   ]
  },
  {
   "cell_type": "code",
   "execution_count": 7,
   "metadata": {
    "collapsed": true
   },
   "outputs": [
    {
     "name": "stdout",
     "output_type": "stream",
     "text": [
      "<class 'pandas.core.frame.DataFrame'>\n",
      "RangeIndex: 536041 entries, 0 to 536040\n",
      "Data columns (total 16 columns):\n",
      "cmte_id              536041 non-null object\n",
      "cand_id              536041 non-null object\n",
      "cand_nm              536041 non-null object\n",
      "contbr_nm            536041 non-null object\n",
      "contbr_city          536026 non-null object\n",
      "contbr_st            536040 non-null object\n",
      "contbr_zip           535973 non-null object\n",
      "contbr_employer      525088 non-null object\n",
      "contbr_occupation    530520 non-null object\n",
      "contb_receipt_amt    536041 non-null float64\n",
      "contb_receipt_dt     536041 non-null object\n",
      "receipt_desc         8479 non-null object\n",
      "memo_cd              49718 non-null object\n",
      "memo_text            52740 non-null object\n",
      "form_tp              536041 non-null object\n",
      "file_num             536041 non-null int64\n",
      "dtypes: float64(1), int64(1), object(14)\n",
      "memory usage: 65.4+ MB\n"
     ]
    }
   ],
   "source": [
    "df.info()"
   ]
  },
  {
   "cell_type": "code",
   "execution_count": 8,
   "metadata": {
    "collapsed": true
   },
   "outputs": [
    {
     "data": {
      "text/html": [
       "<div>\n",
       "<style scoped>\n",
       "    .dataframe tbody tr th:only-of-type {\n",
       "        vertical-align: middle;\n",
       "    }\n",
       "\n",
       "    .dataframe tbody tr th {\n",
       "        vertical-align: top;\n",
       "    }\n",
       "\n",
       "    .dataframe thead th {\n",
       "        text-align: right;\n",
       "    }\n",
       "</style>\n",
       "<table border=\"1\" class=\"dataframe\">\n",
       "  <thead>\n",
       "    <tr style=\"text-align: right;\">\n",
       "      <th></th>\n",
       "      <th>contb_receipt_amt</th>\n",
       "      <th>file_num</th>\n",
       "    </tr>\n",
       "  </thead>\n",
       "  <tbody>\n",
       "    <tr>\n",
       "      <th>count</th>\n",
       "      <td>5.360410e+05</td>\n",
       "      <td>536041.000000</td>\n",
       "    </tr>\n",
       "    <tr>\n",
       "      <th>mean</th>\n",
       "      <td>3.750373e+02</td>\n",
       "      <td>761472.107800</td>\n",
       "    </tr>\n",
       "    <tr>\n",
       "      <th>std</th>\n",
       "      <td>3.564436e+03</td>\n",
       "      <td>5148.893508</td>\n",
       "    </tr>\n",
       "    <tr>\n",
       "      <th>min</th>\n",
       "      <td>-3.080000e+04</td>\n",
       "      <td>723511.000000</td>\n",
       "    </tr>\n",
       "    <tr>\n",
       "      <th>25%</th>\n",
       "      <td>5.000000e+01</td>\n",
       "      <td>756218.000000</td>\n",
       "    </tr>\n",
       "    <tr>\n",
       "      <th>50%</th>\n",
       "      <td>1.000000e+02</td>\n",
       "      <td>763233.000000</td>\n",
       "    </tr>\n",
       "    <tr>\n",
       "      <th>75%</th>\n",
       "      <td>2.500000e+02</td>\n",
       "      <td>763621.000000</td>\n",
       "    </tr>\n",
       "    <tr>\n",
       "      <th>max</th>\n",
       "      <td>1.944042e+06</td>\n",
       "      <td>767394.000000</td>\n",
       "    </tr>\n",
       "  </tbody>\n",
       "</table>\n",
       "</div>"
      ],
      "text/plain": [
       "       contb_receipt_amt       file_num\n",
       "count       5.360410e+05  536041.000000\n",
       "mean        3.750373e+02  761472.107800\n",
       "std         3.564436e+03    5148.893508\n",
       "min        -3.080000e+04  723511.000000\n",
       "25%         5.000000e+01  756218.000000\n",
       "50%         1.000000e+02  763233.000000\n",
       "75%         2.500000e+02  763621.000000\n",
       "max         1.944042e+06  767394.000000"
      ]
     },
     "execution_count": 8,
     "metadata": {},
     "output_type": "execute_result"
    }
   ],
   "source": [
    "# 数值型的数据进行描述\n",
    "df.describe()"
   ]
  },
  {
   "cell_type": "markdown",
   "metadata": {},
   "source": [
    "### 数据清洗"
   ]
  },
  {
   "cell_type": "code",
   "execution_count": 12,
   "metadata": {},
   "outputs": [],
   "source": [
    "# 政治献金者的公司\n",
    "# 政治献金者的职业\n",
    "df['contbr_employer'].fillna('NOT_PROVIDE',inplace = True)\n",
    "df['contbr_occupation'].fillna('NOT_PROVIDE',inplace = True)"
   ]
  },
  {
   "cell_type": "code",
   "execution_count": 13,
   "metadata": {
    "collapsed": true
   },
   "outputs": [
    {
     "name": "stdout",
     "output_type": "stream",
     "text": [
      "<class 'pandas.core.frame.DataFrame'>\n",
      "RangeIndex: 536041 entries, 0 to 536040\n",
      "Data columns (total 16 columns):\n",
      "cmte_id              536041 non-null object\n",
      "cand_id              536041 non-null object\n",
      "cand_nm              536041 non-null object\n",
      "contbr_nm            536041 non-null object\n",
      "contbr_city          536026 non-null object\n",
      "contbr_st            536040 non-null object\n",
      "contbr_zip           535973 non-null object\n",
      "contbr_employer      536041 non-null object\n",
      "contbr_occupation    536041 non-null object\n",
      "contb_receipt_amt    536041 non-null float64\n",
      "contb_receipt_dt     536041 non-null object\n",
      "receipt_desc         8479 non-null object\n",
      "memo_cd              49718 non-null object\n",
      "memo_text            52740 non-null object\n",
      "form_tp              536041 non-null object\n",
      "file_num             536041 non-null int64\n",
      "dtypes: float64(1), int64(1), object(14)\n",
      "memory usage: 65.4+ MB\n"
     ]
    }
   ],
   "source": [
    "df.info()"
   ]
  },
  {
   "cell_type": "markdown",
   "metadata": {},
   "source": [
    "### 数据转换"
   ]
  },
  {
   "cell_type": "markdown",
   "metadata": {},
   "source": [
    "#### 党派分析"
   ]
  },
  {
   "cell_type": "code",
   "execution_count": 15,
   "metadata": {
    "collapsed": true
   },
   "outputs": [
    {
     "data": {
      "text/plain": [
       "array(['Bachmann, Michelle', 'Romney, Mitt', 'Obama, Barack',\n",
       "       \"Roemer, Charles E. 'Buddy' III\", 'Pawlenty, Timothy',\n",
       "       'Johnson, Gary Earl', 'Paul, Ron', 'Santorum, Rick',\n",
       "       'Cain, Herman', 'Gingrich, Newt', 'McCotter, Thaddeus G',\n",
       "       'Huntsman, Jon', 'Perry, Rick'], dtype=object)"
      ]
     },
     "execution_count": 15,
     "metadata": {},
     "output_type": "execute_result"
    }
   ],
   "source": [
    "df['cand_nm'].unique()"
   ]
  },
  {
   "cell_type": "code",
   "execution_count": 16,
   "metadata": {},
   "outputs": [],
   "source": [
    "parties = {'Bachmann, Michelle': 'Republican',\n",
    "           'Cain, Herman': 'Republican',\n",
    "           'Gingrich, Newt': 'Republican',\n",
    "           'Huntsman, Jon': 'Republican',\n",
    "           'Johnson, Gary Earl': 'Republican',\n",
    "           'McCotter, Thaddeus G': 'Republican',\n",
    "           'Obama, Barack': 'Democrat',\n",
    "           'Paul, Ron': 'Republican',\n",
    "           'Pawlenty, Timothy': 'Republican',\n",
    "           'Perry, Rick': 'Republican',\n",
    "           \"Roemer, Charles E. 'Buddy' III\": 'Republican',\n",
    "           'Romney, Mitt': 'Republican',\n",
    "           'Santorum, Rick': 'Republican'}"
   ]
  },
  {
   "cell_type": "code",
   "execution_count": 18,
   "metadata": {},
   "outputs": [
    {
     "name": "stdout",
     "output_type": "stream",
     "text": [
      "Wall time: 70.8 ms\n"
     ]
    }
   ],
   "source": [
    "%%time\n",
    "# 增加一列，研究党派\n",
    "df['party'] = df['cand_nm'].map(parties)"
   ]
  },
  {
   "cell_type": "code",
   "execution_count": 19,
   "metadata": {
    "collapsed": true
   },
   "outputs": [
    {
     "name": "stdout",
     "output_type": "stream",
     "text": [
      "<class 'pandas.core.frame.DataFrame'>\n",
      "RangeIndex: 536041 entries, 0 to 536040\n",
      "Data columns (total 17 columns):\n",
      "cmte_id              536041 non-null object\n",
      "cand_id              536041 non-null object\n",
      "cand_nm              536041 non-null object\n",
      "contbr_nm            536041 non-null object\n",
      "contbr_city          536026 non-null object\n",
      "contbr_st            536040 non-null object\n",
      "contbr_zip           535973 non-null object\n",
      "contbr_employer      536041 non-null object\n",
      "contbr_occupation    536041 non-null object\n",
      "contb_receipt_amt    536041 non-null float64\n",
      "contb_receipt_dt     536041 non-null object\n",
      "receipt_desc         8479 non-null object\n",
      "memo_cd              49718 non-null object\n",
      "memo_text            52740 non-null object\n",
      "form_tp              536041 non-null object\n",
      "file_num             536041 non-null int64\n",
      "party                536041 non-null object\n",
      "dtypes: float64(1), int64(1), object(15)\n",
      "memory usage: 69.5+ MB\n"
     ]
    }
   ],
   "source": [
    "df.info()"
   ]
  },
  {
   "cell_type": "code",
   "execution_count": 20,
   "metadata": {},
   "outputs": [
    {
     "data": {
      "text/plain": [
       "array(['Republican', 'Democrat'], dtype=object)"
      ]
     },
     "execution_count": 20,
     "metadata": {},
     "output_type": "execute_result"
    }
   ],
   "source": [
    "df['party'].unique()"
   ]
  },
  {
   "cell_type": "markdown",
   "metadata": {},
   "source": [
    "#### 排序：按照职业汇总对赞助总金额进行排序"
   ]
  },
  {
   "cell_type": "code",
   "execution_count": 21,
   "metadata": {},
   "outputs": [
    {
     "data": {
      "text/plain": [
       "Index(['cmte_id', 'cand_id', 'cand_nm', 'contbr_nm', 'contbr_city',\n",
       "       'contbr_st', 'contbr_zip', 'contbr_employer', 'contbr_occupation',\n",
       "       'contb_receipt_amt', 'contb_receipt_dt', 'receipt_desc', 'memo_cd',\n",
       "       'memo_text', 'form_tp', 'file_num', 'party'],\n",
       "      dtype='object')"
      ]
     },
     "execution_count": 21,
     "metadata": {},
     "output_type": "execute_result"
    }
   ],
   "source": [
    "df.columns"
   ]
  },
  {
   "cell_type": "code",
   "execution_count": 25,
   "metadata": {},
   "outputs": [
    {
     "data": {
      "text/plain": [
       "contbr_occupation\n",
       "RETIRED                                   29865435.00\n",
       "ATTORNEY                                  12580812.94\n",
       "HOMEMAKER                                 12410217.32\n",
       "INFORMATION REQUESTED PER BEST EFFORTS     9832750.00\n",
       "INFORMATION REQUESTED                      6652373.48\n",
       "PHYSICIAN                                  4732676.66\n",
       "PRESIDENT                                  4663978.28\n",
       "EXECUTIVE                                  3897020.71\n",
       "CONSULTANT                                 3445289.59\n",
       "CEO                                        2625375.89\n",
       "INVESTOR                                   2499492.16\n",
       "OWNER                                      2397779.75\n",
       "LAWYER                                     2305835.79\n",
       "C.E.O.                                     1830051.48\n",
       "ENGINEER                                   1743040.13\n",
       "REAL ESTATE                                1668360.55\n",
       "PROFESSOR                                  1524503.64\n",
       "NOT_PROVIDE                                1456138.20\n",
       "MANAGER                                    1429909.01\n",
       "SELF-EMPLOYED                              1374817.30\n",
       "CHAIRMAN                                   1339631.37\n",
       "FINANCE                                    1330261.88\n",
       "SALES                                      1225337.97\n",
       "BUSINESS OWNER                             1179904.84\n",
       "STUDENT                                    1155684.17\n",
       "BANKER                                     1133177.68\n",
       "NOT EMPLOYED                               1065220.57\n",
       "TEACHER                                     984944.53\n",
       "PARTNER                                     933350.51\n",
       "INVESTMENTS                                 884374.03\n",
       "VICE PRESIDENT                              861050.63\n",
       "WRITER                                      843070.91\n",
       "INVESTMENT BANKER                           812166.20\n",
       "MANAGING DIRECTOR                           733055.32\n",
       "DIRECTOR                                    583423.44\n",
       "ARTIST                                      570839.79\n",
       "ACCOUNTANT                                  568414.18\n",
       "SOFTWARE ENGINEER                           559254.70\n",
       "PRESIDENT & C.E.O.                          512923.28\n",
       "DENTIST                                     494070.23\n",
       "PRIVATE EQUITY                              479509.00\n",
       "FARMER                                      469295.72\n",
       "INVESTMENT MANAGER                          468120.80\n",
       "REAL ESTATE DEVELOPER                       458958.00\n",
       "INVESTMENT MANAGEMENT                       443547.52\n",
       "FINANCIAL ADVISOR                           436870.72\n",
       "PRINCIPAL                                   432636.32\n",
       "ARCHITECT                                   416997.09\n",
       "CPA                                         402906.76\n",
       "MANAGING PARTNER                            399183.80\n",
       "Name: contb_receipt_amt, dtype: float64"
      ]
     },
     "execution_count": 25,
     "metadata": {},
     "output_type": "execute_result"
    }
   ],
   "source": [
    "# 分组聚合\n",
    "df.groupby(by = ['contbr_occupation'])['contb_receipt_amt'].sum().sort_values(ascending = False)[:50]"
   ]
  }
 ],
 "metadata": {
  "kernelspec": {
   "display_name": "Python 3",
   "language": "python",
   "name": "python3"
  },
  "language_info": {
   "codemirror_mode": {
    "name": "ipython",
    "version": 3
   },
   "file_extension": ".py",
   "mimetype": "text/x-python",
   "name": "python",
   "nbconvert_exporter": "python",
   "pygments_lexer": "ipython3",
   "version": "3.7.4"
  }
 },
 "nbformat": 4,
 "nbformat_minor": 2
}
