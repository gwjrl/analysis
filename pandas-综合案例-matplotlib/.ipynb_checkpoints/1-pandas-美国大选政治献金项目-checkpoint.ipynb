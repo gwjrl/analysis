{
 "cells": [
  {
   "cell_type": "code",
   "execution_count": 20,
   "metadata": {},
   "outputs": [],
   "source": [
    "import numpy as np\n",
    "\n",
    "import pandas as pd\n",
    "\n",
    "from pandas import Series,DataFrame\n",
    "\n",
    "import matplotlib.pyplot as plt"
   ]
  },
  {
   "cell_type": "code",
   "execution_count": 21,
   "metadata": {},
   "outputs": [
    {
     "name": "stdout",
     "output_type": "stream",
     "text": [
      "<class 'pandas.core.frame.DataFrame'>\n",
      "RangeIndex: 536041 entries, 0 to 536040\n",
      "Data columns (total 16 columns):\n",
      "cmte_id              536041 non-null object\n",
      "cand_id              536041 non-null object\n",
      "cand_nm              536041 non-null object\n",
      "contbr_nm            536041 non-null object\n",
      "contbr_city          536026 non-null object\n",
      "contbr_st            536040 non-null object\n",
      "contbr_zip           535973 non-null object\n",
      "contbr_employer      525088 non-null object\n",
      "contbr_occupation    530520 non-null object\n",
      "contb_receipt_amt    536041 non-null float64\n",
      "contb_receipt_dt     536041 non-null object\n",
      "receipt_desc         8479 non-null object\n",
      "memo_cd              49718 non-null object\n",
      "memo_text            52740 non-null object\n",
      "form_tp              536041 non-null object\n",
      "file_num             536041 non-null int64\n",
      "dtypes: float64(1), int64(1), object(14)\n",
      "memory usage: 65.4+ MB\n"
     ]
    }
   ],
   "source": [
    "df = pd.read_csv('./usa_election.csv',low_memory=False)\n",
    "df.info()"
   ]
  },
  {
   "cell_type": "code",
   "execution_count": 22,
   "metadata": {},
   "outputs": [
    {
     "data": {
      "text/html": [
       "<div>\n",
       "<style scoped>\n",
       "    .dataframe tbody tr th:only-of-type {\n",
       "        vertical-align: middle;\n",
       "    }\n",
       "\n",
       "    .dataframe tbody tr th {\n",
       "        vertical-align: top;\n",
       "    }\n",
       "\n",
       "    .dataframe thead th {\n",
       "        text-align: right;\n",
       "    }\n",
       "</style>\n",
       "<table border=\"1\" class=\"dataframe\">\n",
       "  <thead>\n",
       "    <tr style=\"text-align: right;\">\n",
       "      <th></th>\n",
       "      <th>cmte_id</th>\n",
       "      <th>cand_id</th>\n",
       "      <th>cand_nm</th>\n",
       "      <th>contbr_nm</th>\n",
       "      <th>contbr_city</th>\n",
       "      <th>contbr_st</th>\n",
       "      <th>contbr_zip</th>\n",
       "      <th>contbr_employer</th>\n",
       "      <th>contbr_occupation</th>\n",
       "      <th>contb_receipt_amt</th>\n",
       "      <th>contb_receipt_dt</th>\n",
       "      <th>receipt_desc</th>\n",
       "      <th>memo_cd</th>\n",
       "      <th>memo_text</th>\n",
       "      <th>form_tp</th>\n",
       "      <th>file_num</th>\n",
       "    </tr>\n",
       "  </thead>\n",
       "  <tbody>\n",
       "    <tr>\n",
       "      <th>0</th>\n",
       "      <td>C00410118</td>\n",
       "      <td>P20002978</td>\n",
       "      <td>Bachmann, Michelle</td>\n",
       "      <td>HARVEY, WILLIAM</td>\n",
       "      <td>MOBILE</td>\n",
       "      <td>AL</td>\n",
       "      <td>366010290</td>\n",
       "      <td>RETIRED</td>\n",
       "      <td>RETIRED</td>\n",
       "      <td>250.0</td>\n",
       "      <td>20-JUN-11</td>\n",
       "      <td>NaN</td>\n",
       "      <td>NaN</td>\n",
       "      <td>NaN</td>\n",
       "      <td>SA17A</td>\n",
       "      <td>736166</td>\n",
       "    </tr>\n",
       "    <tr>\n",
       "      <th>1</th>\n",
       "      <td>C00410118</td>\n",
       "      <td>P20002978</td>\n",
       "      <td>Bachmann, Michelle</td>\n",
       "      <td>HARVEY, WILLIAM</td>\n",
       "      <td>MOBILE</td>\n",
       "      <td>AL</td>\n",
       "      <td>366010290</td>\n",
       "      <td>RETIRED</td>\n",
       "      <td>RETIRED</td>\n",
       "      <td>50.0</td>\n",
       "      <td>23-JUN-11</td>\n",
       "      <td>NaN</td>\n",
       "      <td>NaN</td>\n",
       "      <td>NaN</td>\n",
       "      <td>SA17A</td>\n",
       "      <td>736166</td>\n",
       "    </tr>\n",
       "    <tr>\n",
       "      <th>2</th>\n",
       "      <td>C00410118</td>\n",
       "      <td>P20002978</td>\n",
       "      <td>Bachmann, Michelle</td>\n",
       "      <td>SMITH, LANIER</td>\n",
       "      <td>LANETT</td>\n",
       "      <td>AL</td>\n",
       "      <td>368633403</td>\n",
       "      <td>INFORMATION REQUESTED</td>\n",
       "      <td>INFORMATION REQUESTED</td>\n",
       "      <td>250.0</td>\n",
       "      <td>05-JUL-11</td>\n",
       "      <td>NaN</td>\n",
       "      <td>NaN</td>\n",
       "      <td>NaN</td>\n",
       "      <td>SA17A</td>\n",
       "      <td>749073</td>\n",
       "    </tr>\n",
       "    <tr>\n",
       "      <th>3</th>\n",
       "      <td>C00410118</td>\n",
       "      <td>P20002978</td>\n",
       "      <td>Bachmann, Michelle</td>\n",
       "      <td>BLEVINS, DARONDA</td>\n",
       "      <td>PIGGOTT</td>\n",
       "      <td>AR</td>\n",
       "      <td>724548253</td>\n",
       "      <td>NONE</td>\n",
       "      <td>RETIRED</td>\n",
       "      <td>250.0</td>\n",
       "      <td>01-AUG-11</td>\n",
       "      <td>NaN</td>\n",
       "      <td>NaN</td>\n",
       "      <td>NaN</td>\n",
       "      <td>SA17A</td>\n",
       "      <td>749073</td>\n",
       "    </tr>\n",
       "    <tr>\n",
       "      <th>4</th>\n",
       "      <td>C00410118</td>\n",
       "      <td>P20002978</td>\n",
       "      <td>Bachmann, Michelle</td>\n",
       "      <td>WARDENBURG, HAROLD</td>\n",
       "      <td>HOT SPRINGS NATION</td>\n",
       "      <td>AR</td>\n",
       "      <td>719016467</td>\n",
       "      <td>NONE</td>\n",
       "      <td>RETIRED</td>\n",
       "      <td>300.0</td>\n",
       "      <td>20-JUN-11</td>\n",
       "      <td>NaN</td>\n",
       "      <td>NaN</td>\n",
       "      <td>NaN</td>\n",
       "      <td>SA17A</td>\n",
       "      <td>736166</td>\n",
       "    </tr>\n",
       "  </tbody>\n",
       "</table>\n",
       "</div>"
      ],
      "text/plain": [
       "     cmte_id    cand_id             cand_nm           contbr_nm  \\\n",
       "0  C00410118  P20002978  Bachmann, Michelle     HARVEY, WILLIAM   \n",
       "1  C00410118  P20002978  Bachmann, Michelle     HARVEY, WILLIAM   \n",
       "2  C00410118  P20002978  Bachmann, Michelle       SMITH, LANIER   \n",
       "3  C00410118  P20002978  Bachmann, Michelle    BLEVINS, DARONDA   \n",
       "4  C00410118  P20002978  Bachmann, Michelle  WARDENBURG, HAROLD   \n",
       "\n",
       "          contbr_city contbr_st contbr_zip        contbr_employer  \\\n",
       "0              MOBILE        AL  366010290                RETIRED   \n",
       "1              MOBILE        AL  366010290                RETIRED   \n",
       "2              LANETT        AL  368633403  INFORMATION REQUESTED   \n",
       "3             PIGGOTT        AR  724548253                   NONE   \n",
       "4  HOT SPRINGS NATION        AR  719016467                   NONE   \n",
       "\n",
       "       contbr_occupation  contb_receipt_amt contb_receipt_dt receipt_desc  \\\n",
       "0                RETIRED              250.0        20-JUN-11          NaN   \n",
       "1                RETIRED               50.0        23-JUN-11          NaN   \n",
       "2  INFORMATION REQUESTED              250.0        05-JUL-11          NaN   \n",
       "3                RETIRED              250.0        01-AUG-11          NaN   \n",
       "4                RETIRED              300.0        20-JUN-11          NaN   \n",
       "\n",
       "  memo_cd memo_text form_tp  file_num  \n",
       "0     NaN       NaN   SA17A    736166  \n",
       "1     NaN       NaN   SA17A    736166  \n",
       "2     NaN       NaN   SA17A    749073  \n",
       "3     NaN       NaN   SA17A    749073  \n",
       "4     NaN       NaN   SA17A    736166  "
      ]
     },
     "execution_count": 22,
     "metadata": {},
     "output_type": "execute_result"
    }
   ],
   "source": [
    "'''\n",
    "cand_nm – 接受捐赠的候选人姓名\n",
    "contbr_nm – 捐赠人姓名\n",
    "contbr_st – 捐赠人所在州\n",
    "contbr_zip - 捐赠者邮编\n",
    "contbr_employer – 捐赠人所在公司\n",
    "contbr_occupation – 捐赠人职业\n",
    "contb_receipt_amt – 捐赠数额（美元）\n",
    "contb_receipt_dt – 收到捐款的日期'''\n",
    "df.head()"
   ]
  },
  {
   "cell_type": "markdown",
   "metadata": {},
   "source": [
    "### 数据预览和基本统计分析"
   ]
  },
  {
   "cell_type": "code",
   "execution_count": 23,
   "metadata": {},
   "outputs": [
    {
     "data": {
      "text/plain": [
       "(536041, 16)"
      ]
     },
     "execution_count": 23,
     "metadata": {},
     "output_type": "execute_result"
    }
   ],
   "source": [
    "df.shape"
   ]
  },
  {
   "cell_type": "code",
   "execution_count": 24,
   "metadata": {},
   "outputs": [
    {
     "name": "stdout",
     "output_type": "stream",
     "text": [
      "<class 'pandas.core.frame.DataFrame'>\n",
      "RangeIndex: 536041 entries, 0 to 536040\n",
      "Data columns (total 16 columns):\n",
      "cmte_id              536041 non-null object\n",
      "cand_id              536041 non-null object\n",
      "cand_nm              536041 non-null object\n",
      "contbr_nm            536041 non-null object\n",
      "contbr_city          536026 non-null object\n",
      "contbr_st            536040 non-null object\n",
      "contbr_zip           535973 non-null object\n",
      "contbr_employer      525088 non-null object\n",
      "contbr_occupation    530520 non-null object\n",
      "contb_receipt_amt    536041 non-null float64\n",
      "contb_receipt_dt     536041 non-null object\n",
      "receipt_desc         8479 non-null object\n",
      "memo_cd              49718 non-null object\n",
      "memo_text            52740 non-null object\n",
      "form_tp              536041 non-null object\n",
      "file_num             536041 non-null int64\n",
      "dtypes: float64(1), int64(1), object(14)\n",
      "memory usage: 65.4+ MB\n"
     ]
    }
   ],
   "source": [
    "df.info()"
   ]
  },
  {
   "cell_type": "code",
   "execution_count": 25,
   "metadata": {},
   "outputs": [
    {
     "data": {
      "text/html": [
       "<div>\n",
       "<style scoped>\n",
       "    .dataframe tbody tr th:only-of-type {\n",
       "        vertical-align: middle;\n",
       "    }\n",
       "\n",
       "    .dataframe tbody tr th {\n",
       "        vertical-align: top;\n",
       "    }\n",
       "\n",
       "    .dataframe thead th {\n",
       "        text-align: right;\n",
       "    }\n",
       "</style>\n",
       "<table border=\"1\" class=\"dataframe\">\n",
       "  <thead>\n",
       "    <tr style=\"text-align: right;\">\n",
       "      <th></th>\n",
       "      <th>contb_receipt_amt</th>\n",
       "      <th>file_num</th>\n",
       "    </tr>\n",
       "  </thead>\n",
       "  <tbody>\n",
       "    <tr>\n",
       "      <th>count</th>\n",
       "      <td>5.360410e+05</td>\n",
       "      <td>536041.000000</td>\n",
       "    </tr>\n",
       "    <tr>\n",
       "      <th>mean</th>\n",
       "      <td>3.750373e+02</td>\n",
       "      <td>761472.107800</td>\n",
       "    </tr>\n",
       "    <tr>\n",
       "      <th>std</th>\n",
       "      <td>3.564436e+03</td>\n",
       "      <td>5148.893508</td>\n",
       "    </tr>\n",
       "    <tr>\n",
       "      <th>min</th>\n",
       "      <td>-3.080000e+04</td>\n",
       "      <td>723511.000000</td>\n",
       "    </tr>\n",
       "    <tr>\n",
       "      <th>25%</th>\n",
       "      <td>5.000000e+01</td>\n",
       "      <td>756218.000000</td>\n",
       "    </tr>\n",
       "    <tr>\n",
       "      <th>50%</th>\n",
       "      <td>1.000000e+02</td>\n",
       "      <td>763233.000000</td>\n",
       "    </tr>\n",
       "    <tr>\n",
       "      <th>75%</th>\n",
       "      <td>2.500000e+02</td>\n",
       "      <td>763621.000000</td>\n",
       "    </tr>\n",
       "    <tr>\n",
       "      <th>max</th>\n",
       "      <td>1.944042e+06</td>\n",
       "      <td>767394.000000</td>\n",
       "    </tr>\n",
       "  </tbody>\n",
       "</table>\n",
       "</div>"
      ],
      "text/plain": [
       "       contb_receipt_amt       file_num\n",
       "count       5.360410e+05  536041.000000\n",
       "mean        3.750373e+02  761472.107800\n",
       "std         3.564436e+03    5148.893508\n",
       "min        -3.080000e+04  723511.000000\n",
       "25%         5.000000e+01  756218.000000\n",
       "50%         1.000000e+02  763233.000000\n",
       "75%         2.500000e+02  763621.000000\n",
       "max         1.944042e+06  767394.000000"
      ]
     },
     "execution_count": 25,
     "metadata": {},
     "output_type": "execute_result"
    }
   ],
   "source": [
    "# 数值型的数据进行描述\n",
    "df.describe()"
   ]
  },
  {
   "cell_type": "markdown",
   "metadata": {},
   "source": [
    "### 数据清洗"
   ]
  },
  {
   "cell_type": "code",
   "execution_count": 26,
   "metadata": {},
   "outputs": [],
   "source": [
    "# 政治献金者的公司\n",
    "# 政治献金者的职业\n",
    "df['contbr_employer'].fillna('NOT_PROVIDE',inplace = True)\n",
    "df['contbr_occupation'].fillna('NOT_PROVIDE',inplace = True)"
   ]
  },
  {
   "cell_type": "code",
   "execution_count": 27,
   "metadata": {},
   "outputs": [
    {
     "name": "stdout",
     "output_type": "stream",
     "text": [
      "<class 'pandas.core.frame.DataFrame'>\n",
      "RangeIndex: 536041 entries, 0 to 536040\n",
      "Data columns (total 16 columns):\n",
      "cmte_id              536041 non-null object\n",
      "cand_id              536041 non-null object\n",
      "cand_nm              536041 non-null object\n",
      "contbr_nm            536041 non-null object\n",
      "contbr_city          536026 non-null object\n",
      "contbr_st            536040 non-null object\n",
      "contbr_zip           535973 non-null object\n",
      "contbr_employer      536041 non-null object\n",
      "contbr_occupation    536041 non-null object\n",
      "contb_receipt_amt    536041 non-null float64\n",
      "contb_receipt_dt     536041 non-null object\n",
      "receipt_desc         8479 non-null object\n",
      "memo_cd              49718 non-null object\n",
      "memo_text            52740 non-null object\n",
      "form_tp              536041 non-null object\n",
      "file_num             536041 non-null int64\n",
      "dtypes: float64(1), int64(1), object(14)\n",
      "memory usage: 65.4+ MB\n"
     ]
    }
   ],
   "source": [
    "df.info()"
   ]
  },
  {
   "cell_type": "markdown",
   "metadata": {},
   "source": [
    "### 数据转换"
   ]
  },
  {
   "cell_type": "markdown",
   "metadata": {},
   "source": [
    "#### 党派分析"
   ]
  },
  {
   "cell_type": "code",
   "execution_count": 28,
   "metadata": {},
   "outputs": [
    {
     "data": {
      "text/plain": [
       "array(['Bachmann, Michelle', 'Romney, Mitt', 'Obama, Barack',\n",
       "       \"Roemer, Charles E. 'Buddy' III\", 'Pawlenty, Timothy',\n",
       "       'Johnson, Gary Earl', 'Paul, Ron', 'Santorum, Rick',\n",
       "       'Cain, Herman', 'Gingrich, Newt', 'McCotter, Thaddeus G',\n",
       "       'Huntsman, Jon', 'Perry, Rick'], dtype=object)"
      ]
     },
     "execution_count": 28,
     "metadata": {},
     "output_type": "execute_result"
    }
   ],
   "source": [
    "df['cand_nm'].unique()"
   ]
  },
  {
   "cell_type": "code",
   "execution_count": 29,
   "metadata": {},
   "outputs": [],
   "source": [
    "parties = {'Bachmann, Michelle': 'Republican',\n",
    "           'Cain, Herman': 'Republican',\n",
    "           'Gingrich, Newt': 'Republican',\n",
    "           'Huntsman, Jon': 'Republican',\n",
    "           'Johnson, Gary Earl': 'Republican',\n",
    "           'McCotter, Thaddeus G': 'Republican',\n",
    "           'Obama, Barack': 'Democrat',\n",
    "           'Paul, Ron': 'Republican',\n",
    "           'Pawlenty, Timothy': 'Republican',\n",
    "           'Perry, Rick': 'Republican',\n",
    "           \"Roemer, Charles E. 'Buddy' III\": 'Republican',\n",
    "           'Romney, Mitt': 'Republican',\n",
    "           'Santorum, Rick': 'Republican'}"
   ]
  },
  {
   "cell_type": "code",
   "execution_count": 30,
   "metadata": {},
   "outputs": [
    {
     "name": "stdout",
     "output_type": "stream",
     "text": [
      "Wall time: 65.4 ms\n"
     ]
    }
   ],
   "source": [
    "%%time\n",
    "# 增加一列，研究党派\n",
    "df['party'] = df['cand_nm'].map(parties)"
   ]
  },
  {
   "cell_type": "code",
   "execution_count": 31,
   "metadata": {},
   "outputs": [
    {
     "name": "stdout",
     "output_type": "stream",
     "text": [
      "<class 'pandas.core.frame.DataFrame'>\n",
      "RangeIndex: 536041 entries, 0 to 536040\n",
      "Data columns (total 17 columns):\n",
      "cmte_id              536041 non-null object\n",
      "cand_id              536041 non-null object\n",
      "cand_nm              536041 non-null object\n",
      "contbr_nm            536041 non-null object\n",
      "contbr_city          536026 non-null object\n",
      "contbr_st            536040 non-null object\n",
      "contbr_zip           535973 non-null object\n",
      "contbr_employer      536041 non-null object\n",
      "contbr_occupation    536041 non-null object\n",
      "contb_receipt_amt    536041 non-null float64\n",
      "contb_receipt_dt     536041 non-null object\n",
      "receipt_desc         8479 non-null object\n",
      "memo_cd              49718 non-null object\n",
      "memo_text            52740 non-null object\n",
      "form_tp              536041 non-null object\n",
      "file_num             536041 non-null int64\n",
      "party                536041 non-null object\n",
      "dtypes: float64(1), int64(1), object(15)\n",
      "memory usage: 69.5+ MB\n"
     ]
    }
   ],
   "source": [
    "df.info()"
   ]
  },
  {
   "cell_type": "code",
   "execution_count": 32,
   "metadata": {},
   "outputs": [
    {
     "data": {
      "text/plain": [
       "array(['Republican', 'Democrat'], dtype=object)"
      ]
     },
     "execution_count": 32,
     "metadata": {},
     "output_type": "execute_result"
    }
   ],
   "source": [
    "df['party'].unique()"
   ]
  },
  {
   "cell_type": "markdown",
   "metadata": {},
   "source": [
    "#### 排序：按照职业汇总对赞助总金额进行排序"
   ]
  },
  {
   "cell_type": "code",
   "execution_count": 33,
   "metadata": {},
   "outputs": [
    {
     "data": {
      "text/plain": [
       "contbr_occupation\n",
       "RETIRED                                   29865435.00\n",
       "ATTORNEY                                  12580812.94\n",
       "HOMEMAKER                                 12410217.32\n",
       "INFORMATION REQUESTED PER BEST EFFORTS     9832750.00\n",
       "INFORMATION REQUESTED                      6652373.48\n",
       "                                             ...     \n",
       "ELEVATOR OPERATOR                                0.00\n",
       "MFG. REP                                       -50.00\n",
       "AVIATION ATTORNEY                            -2500.00\n",
       "PRES OF GAS & ELECTRIC                       -2500.00\n",
       "METAL SMITH                                  -4250.00\n",
       "Name: contb_receipt_amt, Length: 29620, dtype: float64"
      ]
     },
     "execution_count": 33,
     "metadata": {},
     "output_type": "execute_result"
    }
   ],
   "source": [
    "# 分组聚合\n",
    "df.groupby(by = ['contbr_occupation'])['contb_receipt_amt'].sum().sort_values(ascending = False)"
   ]
  },
  {
   "cell_type": "markdown",
   "metadata": {},
   "source": [
    "#### 利用重复职业名称，进行数据的变换"
   ]
  },
  {
   "cell_type": "code",
   "execution_count": 36,
   "metadata": {},
   "outputs": [],
   "source": [
    "# 职业360行，数据汇总，29620个不同职业，重合\n",
    "# 数据变换\n",
    "occupationn_map= {'C.E.O.':'CEO',\n",
    "                 'LAWYER':'ATTORNEY',\n",
    "                  'INFORMATION REQUESTED PER BEST EFFORTS':'NOT_PROVIDE',\n",
    "                  'INFORMATION REQUESTED':'NOT_PROVIDE',\n",
    "                  'C.P.A.':'CPA'}\n",
    "f = lambda x :occupationn_map.get(x,x)\n",
    "df['contbr_occupation'] = df['contbr_occupation'].map(f)"
   ]
  },
  {
   "cell_type": "code",
   "execution_count": 37,
   "metadata": {
    "collapsed": true
   },
   "outputs": [
    {
     "data": {
      "text/plain": [
       "contbr_occupation\n",
       "RETIRED                  29865435.00\n",
       "NOT_PROVIDE              17941261.68\n",
       "ATTORNEY                 14886648.73\n",
       "HOMEMAKER                12410217.32\n",
       "PHYSICIAN                 4732676.66\n",
       "PRESIDENT                 4663978.28\n",
       "CEO                       4455427.37\n",
       "EXECUTIVE                 3897020.71\n",
       "CONSULTANT                3445289.59\n",
       "INVESTOR                  2499492.16\n",
       "OWNER                     2397779.75\n",
       "ENGINEER                  1743040.13\n",
       "REAL ESTATE               1668360.55\n",
       "PROFESSOR                 1524503.64\n",
       "MANAGER                   1429909.01\n",
       "SELF-EMPLOYED             1374817.30\n",
       "CHAIRMAN                  1339631.37\n",
       "FINANCE                   1330261.88\n",
       "SALES                     1225337.97\n",
       "BUSINESS OWNER            1179904.84\n",
       "STUDENT                   1155684.17\n",
       "BANKER                    1133177.68\n",
       "NOT EMPLOYED              1065220.57\n",
       "TEACHER                    984944.53\n",
       "PARTNER                    933350.51\n",
       "INVESTMENTS                884374.03\n",
       "VICE PRESIDENT             861050.63\n",
       "WRITER                     843070.91\n",
       "INVESTMENT BANKER          812166.20\n",
       "CPA                        791643.87\n",
       "MANAGING DIRECTOR          733055.32\n",
       "DIRECTOR                   583423.44\n",
       "ARTIST                     570839.79\n",
       "ACCOUNTANT                 568414.18\n",
       "SOFTWARE ENGINEER          559254.70\n",
       "PRESIDENT & C.E.O.         512923.28\n",
       "DENTIST                    494070.23\n",
       "PRIVATE EQUITY             479509.00\n",
       "FARMER                     469295.72\n",
       "INVESTMENT MANAGER         468120.80\n",
       "REAL ESTATE DEVELOPER      458958.00\n",
       "INVESTMENT MANAGEMENT      443547.52\n",
       "FINANCIAL ADVISOR          436870.72\n",
       "PRINCIPAL                  432636.32\n",
       "ARCHITECT                  416997.09\n",
       "MANAGING PARTNER           399183.80\n",
       "ENTREPRENEUR               383773.62\n",
       "REQUESTED                  381640.72\n",
       "REALTOR                    363979.43\n",
       "CONTRACTOR                 356532.16\n",
       "Name: contb_receipt_amt, dtype: float64"
      ]
     },
     "execution_count": 37,
     "metadata": {},
     "output_type": "execute_result"
    }
   ],
   "source": [
    "# 分组聚合\n",
    "df.groupby(by = ['contbr_occupation'])['contb_receipt_amt'].sum().sort_values(ascending = False)[:50]"
   ]
  },
  {
   "cell_type": "markdown",
   "metadata": {},
   "source": [
    "### 赞助金额筛选"
   ]
  },
  {
   "cell_type": "code",
   "execution_count": 40,
   "metadata": {
    "collapsed": true
   },
   "outputs": [
    {
     "data": {
      "text/html": [
       "<div>\n",
       "<style scoped>\n",
       "    .dataframe tbody tr th:only-of-type {\n",
       "        vertical-align: middle;\n",
       "    }\n",
       "\n",
       "    .dataframe tbody tr th {\n",
       "        vertical-align: top;\n",
       "    }\n",
       "\n",
       "    .dataframe thead th {\n",
       "        text-align: right;\n",
       "    }\n",
       "</style>\n",
       "<table border=\"1\" class=\"dataframe\">\n",
       "  <thead>\n",
       "    <tr style=\"text-align: right;\">\n",
       "      <th></th>\n",
       "      <th>contb_receipt_amt</th>\n",
       "      <th>file_num</th>\n",
       "    </tr>\n",
       "  </thead>\n",
       "  <tbody>\n",
       "    <tr>\n",
       "      <th>count</th>\n",
       "      <td>5.303140e+05</td>\n",
       "      <td>530314.000000</td>\n",
       "    </tr>\n",
       "    <tr>\n",
       "      <th>mean</th>\n",
       "      <td>3.931043e+02</td>\n",
       "      <td>761487.469446</td>\n",
       "    </tr>\n",
       "    <tr>\n",
       "      <th>std</th>\n",
       "      <td>3.576869e+03</td>\n",
       "      <td>5139.973314</td>\n",
       "    </tr>\n",
       "    <tr>\n",
       "      <th>min</th>\n",
       "      <td>1.000000e-02</td>\n",
       "      <td>723511.000000</td>\n",
       "    </tr>\n",
       "    <tr>\n",
       "      <th>25%</th>\n",
       "      <td>5.000000e+01</td>\n",
       "      <td>756218.000000</td>\n",
       "    </tr>\n",
       "    <tr>\n",
       "      <th>50%</th>\n",
       "      <td>1.000000e+02</td>\n",
       "      <td>763233.000000</td>\n",
       "    </tr>\n",
       "    <tr>\n",
       "      <th>75%</th>\n",
       "      <td>2.500000e+02</td>\n",
       "      <td>763621.000000</td>\n",
       "    </tr>\n",
       "    <tr>\n",
       "      <th>max</th>\n",
       "      <td>1.944042e+06</td>\n",
       "      <td>767394.000000</td>\n",
       "    </tr>\n",
       "  </tbody>\n",
       "</table>\n",
       "</div>"
      ],
      "text/plain": [
       "       contb_receipt_amt       file_num\n",
       "count       5.303140e+05  530314.000000\n",
       "mean        3.931043e+02  761487.469446\n",
       "std         3.576869e+03    5139.973314\n",
       "min         1.000000e-02  723511.000000\n",
       "25%         5.000000e+01  756218.000000\n",
       "50%         1.000000e+02  763233.000000\n",
       "75%         2.500000e+02  763621.000000\n",
       "max         1.944042e+06  767394.000000"
      ]
     },
     "execution_count": 40,
     "metadata": {},
     "output_type": "execute_result"
    }
   ],
   "source": [
    "cond = df['contb_receipt_amt'] > 0\n",
    "df2 = df[cond]\n",
    "df2.describe()"
   ]
  },
  {
   "cell_type": "markdown",
   "metadata": {},
   "source": [
    "#### 根据候选人进行分组计算政治献金总额，排序"
   ]
  },
  {
   "cell_type": "code",
   "execution_count": 41,
   "metadata": {
    "collapsed": true
   },
   "outputs": [
    {
     "data": {
      "text/plain": [
       "cand_nm\n",
       "Obama, Barack                     8.259441e+07\n",
       "Romney, Mitt                      5.702315e+07\n",
       "Perry, Rick                       2.020167e+07\n",
       "Paul, Ron                         1.559408e+07\n",
       "Gingrich, Newt                    9.895836e+06\n",
       "Cain, Herman                      7.058163e+06\n",
       "Pawlenty, Timothy                 5.978124e+06\n",
       "Santorum, Rick                    3.364115e+06\n",
       "Huntsman, Jon                     3.324373e+06\n",
       "Bachmann, Michelle                2.639510e+06\n",
       "Johnson, Gary Earl                4.132769e+05\n",
       "Roemer, Charles E. 'Buddy' III    3.429658e+05\n",
       "McCotter, Thaddeus G              3.903000e+04\n",
       "Name: contb_receipt_amt, dtype: float64"
      ]
     },
     "execution_count": 41,
     "metadata": {},
     "output_type": "execute_result"
    }
   ],
   "source": [
    "df2.groupby(by = ['cand_nm'])['contb_receipt_amt'].sum().sort_values(ascending = False)"
   ]
  },
  {
   "cell_type": "code",
   "execution_count": null,
   "metadata": {},
   "outputs": [],
   "source": [
    "'''Obama, Barack                     8.259441e+07\n",
    "Romney, Mitt                      5.702315e+07\n",
    "Perry, Rick                       2.020167e+07\n",
    "Paul, Ron                         1.559408e+07'''\n",
    "# 收到捐款总额排名前四，最优希望赢得大选"
   ]
  },
  {
   "cell_type": "markdown",
   "metadata": {},
   "source": [
    "#### 将前两名的候选人筛选出来\n"
   ]
  },
  {
   "cell_type": "code",
   "execution_count": 45,
   "metadata": {},
   "outputs": [
    {
     "data": {
      "text/plain": [
       "(347470, 17)"
      ]
     },
     "execution_count": 45,
     "metadata": {},
     "output_type": "execute_result"
    }
   ],
   "source": [
    "cond1 = df2['cand_nm'] == 'Romney, Mitt'\n",
    "cond2 = df2['cand_nm'] == 'Obama, Barack'\n",
    "cond = cond1 | cond2\n",
    "df_vs = df2[cond]\n",
    "df_vs.shape"
   ]
  },
  {
   "cell_type": "code",
   "execution_count": 44,
   "metadata": {},
   "outputs": [
    {
     "data": {
      "text/plain": [
       "(347470, 17)"
      ]
     },
     "execution_count": 44,
     "metadata": {},
     "output_type": "execute_result"
    }
   ],
   "source": [
    "# isin 数据是否在列表中包含\n",
    "cond = df2['cand_nm'].isin(['Obama, Barack','Romney, Mitt'])\n",
    "df_vs = df2[cond]\n",
    "df_vs.shape"
   ]
  },
  {
   "cell_type": "markdown",
   "metadata": {},
   "source": [
    "### 面元化操作"
   ]
  },
  {
   "cell_type": "code",
   "execution_count": 49,
   "metadata": {},
   "outputs": [
    {
     "data": {
      "text/plain": [
       "array([1.00000000e-02, 2.50000000e-01, 4.00000000e-01, ...,\n",
       "       5.12710910e+05, 1.51119217e+06, 1.94404243e+06])"
      ]
     },
     "execution_count": 49,
     "metadata": {},
     "output_type": "execute_result"
    }
   ],
   "source": [
    "# 分箱操作\n",
    "amt = df_vs['contb_receipt_amt'].unique()\n",
    "amt.sort()\n",
    "amt"
   ]
  },
  {
   "cell_type": "code",
   "execution_count": 50,
   "metadata": {
    "collapsed": true
   },
   "outputs": [
    {
     "data": {
      "text/plain": [
       "409       (1000, 10000]\n",
       "410         (100, 1000]\n",
       "411         (100, 1000]\n",
       "412         (100, 1000]\n",
       "413         (100, 1000]\n",
       "              ...      \n",
       "351224        (10, 100]\n",
       "351225        (10, 100]\n",
       "351226    (1000, 10000]\n",
       "351227    (1000, 10000]\n",
       "351228        (10, 100]\n",
       "Name: contb_receipt_amt, Length: 347470, dtype: category\n",
       "Categories (8, interval[int64]): [(0, 1] < (1, 10] < (10, 100] < (100, 1000] < (1000, 10000] < (10000, 100000] < (100000, 1000000] < (1000000, 10000000]]"
      ]
     },
     "execution_count": 50,
     "metadata": {},
     "output_type": "execute_result"
    }
   ],
   "source": [
    "bins = [0,1,10,100,1000,10000,100000,1000000,10000000]\n",
    "labels = pd.cut(df_vs['contb_receipt_amt'],bins)\n",
    "labels"
   ]
  },
  {
   "cell_type": "code",
   "execution_count": 52,
   "metadata": {
    "collapsed": true
   },
   "outputs": [
    {
     "name": "stderr",
     "output_type": "stream",
     "text": [
      "d:\\python3.7.4\\lib\\site-packages\\ipykernel_launcher.py:1: SettingWithCopyWarning: \n",
      "A value is trying to be set on a copy of a slice from a DataFrame.\n",
      "Try using .loc[row_indexer,col_indexer] = value instead\n",
      "\n",
      "See the caveats in the documentation: http://pandas.pydata.org/pandas-docs/stable/user_guide/indexing.html#returning-a-view-versus-a-copy\n",
      "  \"\"\"Entry point for launching an IPython kernel.\n"
     ]
    }
   ],
   "source": [
    "df_vs['label'] = labels"
   ]
  },
  {
   "cell_type": "code",
   "execution_count": 53,
   "metadata": {
    "collapsed": true
   },
   "outputs": [
    {
     "data": {
      "text/html": [
       "<div>\n",
       "<style scoped>\n",
       "    .dataframe tbody tr th:only-of-type {\n",
       "        vertical-align: middle;\n",
       "    }\n",
       "\n",
       "    .dataframe tbody tr th {\n",
       "        vertical-align: top;\n",
       "    }\n",
       "\n",
       "    .dataframe thead th {\n",
       "        text-align: right;\n",
       "    }\n",
       "</style>\n",
       "<table border=\"1\" class=\"dataframe\">\n",
       "  <thead>\n",
       "    <tr style=\"text-align: right;\">\n",
       "      <th></th>\n",
       "      <th>cmte_id</th>\n",
       "      <th>cand_id</th>\n",
       "      <th>cand_nm</th>\n",
       "      <th>contbr_nm</th>\n",
       "      <th>contbr_city</th>\n",
       "      <th>contbr_st</th>\n",
       "      <th>contbr_zip</th>\n",
       "      <th>contbr_employer</th>\n",
       "      <th>contbr_occupation</th>\n",
       "      <th>contb_receipt_amt</th>\n",
       "      <th>contb_receipt_dt</th>\n",
       "      <th>receipt_desc</th>\n",
       "      <th>memo_cd</th>\n",
       "      <th>memo_text</th>\n",
       "      <th>form_tp</th>\n",
       "      <th>file_num</th>\n",
       "      <th>party</th>\n",
       "      <th>label</th>\n",
       "    </tr>\n",
       "  </thead>\n",
       "  <tbody>\n",
       "    <tr>\n",
       "      <th>409</th>\n",
       "      <td>C00431171</td>\n",
       "      <td>P80003353</td>\n",
       "      <td>Romney, Mitt</td>\n",
       "      <td>EDWARDS, BRYANT MR.</td>\n",
       "      <td>LONDON UK</td>\n",
       "      <td>AE</td>\n",
       "      <td>90071</td>\n",
       "      <td>LATHAM &amp; WATKINS</td>\n",
       "      <td>ATTORNEY</td>\n",
       "      <td>2500.0</td>\n",
       "      <td>20-JUN-11</td>\n",
       "      <td>NaN</td>\n",
       "      <td>NaN</td>\n",
       "      <td>NaN</td>\n",
       "      <td>SA17A</td>\n",
       "      <td>760248</td>\n",
       "      <td>Republican</td>\n",
       "      <td>(1000, 10000]</td>\n",
       "    </tr>\n",
       "    <tr>\n",
       "      <th>410</th>\n",
       "      <td>C00431171</td>\n",
       "      <td>P80003353</td>\n",
       "      <td>Romney, Mitt</td>\n",
       "      <td>DELUCA, PIERRE</td>\n",
       "      <td>APO</td>\n",
       "      <td>AE</td>\n",
       "      <td>091280005</td>\n",
       "      <td>CISCO</td>\n",
       "      <td>ENGINEER</td>\n",
       "      <td>250.0</td>\n",
       "      <td>28-APR-11</td>\n",
       "      <td>NaN</td>\n",
       "      <td>NaN</td>\n",
       "      <td>NaN</td>\n",
       "      <td>SA17A</td>\n",
       "      <td>760248</td>\n",
       "      <td>Republican</td>\n",
       "      <td>(100, 1000]</td>\n",
       "    </tr>\n",
       "    <tr>\n",
       "      <th>411</th>\n",
       "      <td>C00431171</td>\n",
       "      <td>P80003353</td>\n",
       "      <td>Romney, Mitt</td>\n",
       "      <td>DELUCA, PIERRE</td>\n",
       "      <td>APO</td>\n",
       "      <td>AE</td>\n",
       "      <td>091280005</td>\n",
       "      <td>CISCO</td>\n",
       "      <td>ENGINEER</td>\n",
       "      <td>250.0</td>\n",
       "      <td>27-JUN-11</td>\n",
       "      <td>NaN</td>\n",
       "      <td>NaN</td>\n",
       "      <td>NaN</td>\n",
       "      <td>SA17A</td>\n",
       "      <td>760248</td>\n",
       "      <td>Republican</td>\n",
       "      <td>(100, 1000]</td>\n",
       "    </tr>\n",
       "    <tr>\n",
       "      <th>412</th>\n",
       "      <td>C00431171</td>\n",
       "      <td>P80003353</td>\n",
       "      <td>Romney, Mitt</td>\n",
       "      <td>KAMMER, DONALD</td>\n",
       "      <td>APO</td>\n",
       "      <td>AE</td>\n",
       "      <td>09267</td>\n",
       "      <td>US</td>\n",
       "      <td>MILITARY</td>\n",
       "      <td>500.0</td>\n",
       "      <td>31-DEC-11</td>\n",
       "      <td>NaN</td>\n",
       "      <td>NaN</td>\n",
       "      <td>NaN</td>\n",
       "      <td>SA17A</td>\n",
       "      <td>763507</td>\n",
       "      <td>Republican</td>\n",
       "      <td>(100, 1000]</td>\n",
       "    </tr>\n",
       "    <tr>\n",
       "      <th>413</th>\n",
       "      <td>C00431171</td>\n",
       "      <td>P80003353</td>\n",
       "      <td>Romney, Mitt</td>\n",
       "      <td>CLAUDE, FOUKS</td>\n",
       "      <td>PARIS FRANCE</td>\n",
       "      <td>AE</td>\n",
       "      <td>75011</td>\n",
       "      <td>PALPATINE</td>\n",
       "      <td>SECRET</td>\n",
       "      <td>250.0</td>\n",
       "      <td>29-DEC-11</td>\n",
       "      <td>NaN</td>\n",
       "      <td>NaN</td>\n",
       "      <td>NaN</td>\n",
       "      <td>SA17A</td>\n",
       "      <td>763507</td>\n",
       "      <td>Republican</td>\n",
       "      <td>(100, 1000]</td>\n",
       "    </tr>\n",
       "  </tbody>\n",
       "</table>\n",
       "</div>"
      ],
      "text/plain": [
       "       cmte_id    cand_id       cand_nm            contbr_nm   contbr_city  \\\n",
       "409  C00431171  P80003353  Romney, Mitt  EDWARDS, BRYANT MR.     LONDON UK   \n",
       "410  C00431171  P80003353  Romney, Mitt       DELUCA, PIERRE           APO   \n",
       "411  C00431171  P80003353  Romney, Mitt       DELUCA, PIERRE           APO   \n",
       "412  C00431171  P80003353  Romney, Mitt       KAMMER, DONALD           APO   \n",
       "413  C00431171  P80003353  Romney, Mitt        CLAUDE, FOUKS  PARIS FRANCE   \n",
       "\n",
       "    contbr_st contbr_zip   contbr_employer contbr_occupation  \\\n",
       "409        AE      90071  LATHAM & WATKINS          ATTORNEY   \n",
       "410        AE  091280005             CISCO          ENGINEER   \n",
       "411        AE  091280005             CISCO          ENGINEER   \n",
       "412        AE      09267                US          MILITARY   \n",
       "413        AE      75011         PALPATINE            SECRET   \n",
       "\n",
       "     contb_receipt_amt contb_receipt_dt receipt_desc memo_cd memo_text  \\\n",
       "409             2500.0        20-JUN-11          NaN     NaN       NaN   \n",
       "410              250.0        28-APR-11          NaN     NaN       NaN   \n",
       "411              250.0        27-JUN-11          NaN     NaN       NaN   \n",
       "412              500.0        31-DEC-11          NaN     NaN       NaN   \n",
       "413              250.0        29-DEC-11          NaN     NaN       NaN   \n",
       "\n",
       "    form_tp  file_num       party          label  \n",
       "409   SA17A    760248  Republican  (1000, 10000]  \n",
       "410   SA17A    760248  Republican    (100, 1000]  \n",
       "411   SA17A    760248  Republican    (100, 1000]  \n",
       "412   SA17A    763507  Republican    (100, 1000]  \n",
       "413   SA17A    763507  Republican    (100, 1000]  "
      ]
     },
     "execution_count": 53,
     "metadata": {},
     "output_type": "execute_result"
    }
   ],
   "source": [
    "df_vs.head()"
   ]
  },
  {
   "cell_type": "markdown",
   "metadata": {},
   "source": [
    "### 透视表分析党派和职业"
   ]
  },
  {
   "cell_type": "code",
   "execution_count": 57,
   "metadata": {
    "collapsed": true
   },
   "outputs": [
    {
     "data": {
      "text/html": [
       "<div>\n",
       "<style scoped>\n",
       "    .dataframe tbody tr th:only-of-type {\n",
       "        vertical-align: middle;\n",
       "    }\n",
       "\n",
       "    .dataframe tbody tr th {\n",
       "        vertical-align: top;\n",
       "    }\n",
       "\n",
       "    .dataframe thead th {\n",
       "        text-align: right;\n",
       "    }\n",
       "</style>\n",
       "<table border=\"1\" class=\"dataframe\">\n",
       "  <thead>\n",
       "    <tr style=\"text-align: right;\">\n",
       "      <th>party</th>\n",
       "      <th>Democrat</th>\n",
       "      <th>Republican</th>\n",
       "    </tr>\n",
       "    <tr>\n",
       "      <th>contbr_occupation</th>\n",
       "      <th></th>\n",
       "      <th></th>\n",
       "    </tr>\n",
       "  </thead>\n",
       "  <tbody>\n",
       "    <tr>\n",
       "      <th>MIXED-MEDIA ARTIST / STORYTELLER</th>\n",
       "      <td>100.0</td>\n",
       "      <td>NaN</td>\n",
       "    </tr>\n",
       "    <tr>\n",
       "      <th>AREA VICE PRESIDENT</th>\n",
       "      <td>250.0</td>\n",
       "      <td>NaN</td>\n",
       "    </tr>\n",
       "    <tr>\n",
       "      <th>RESEARCH ASSOCIATE</th>\n",
       "      <td>100.0</td>\n",
       "      <td>NaN</td>\n",
       "    </tr>\n",
       "    <tr>\n",
       "      <th>TEACHER</th>\n",
       "      <td>500.0</td>\n",
       "      <td>NaN</td>\n",
       "    </tr>\n",
       "    <tr>\n",
       "      <th>THERAPIST</th>\n",
       "      <td>3900.0</td>\n",
       "      <td>NaN</td>\n",
       "    </tr>\n",
       "    <tr>\n",
       "      <th>...</th>\n",
       "      <td>...</td>\n",
       "      <td>...</td>\n",
       "    </tr>\n",
       "    <tr>\n",
       "      <th>YOUTH SERVICES LIBRARIAN</th>\n",
       "      <td>290.0</td>\n",
       "      <td>NaN</td>\n",
       "    </tr>\n",
       "    <tr>\n",
       "      <th>YOUTH SPECIALIST</th>\n",
       "      <td>525.0</td>\n",
       "      <td>NaN</td>\n",
       "    </tr>\n",
       "    <tr>\n",
       "      <th>ZEN BUDDHIST PRIEST</th>\n",
       "      <td>300.0</td>\n",
       "      <td>NaN</td>\n",
       "    </tr>\n",
       "    <tr>\n",
       "      <th>ZEPPOS AND ASSOCIATES</th>\n",
       "      <td>1000.0</td>\n",
       "      <td>NaN</td>\n",
       "    </tr>\n",
       "    <tr>\n",
       "      <th>ZOOLOGIST</th>\n",
       "      <td>100.0</td>\n",
       "      <td>NaN</td>\n",
       "    </tr>\n",
       "  </tbody>\n",
       "</table>\n",
       "<p>19893 rows × 2 columns</p>\n",
       "</div>"
      ],
      "text/plain": [
       "party                                Democrat  Republican\n",
       "contbr_occupation                                        \n",
       "   MIXED-MEDIA ARTIST / STORYTELLER     100.0         NaN\n",
       " AREA VICE PRESIDENT                    250.0         NaN\n",
       " RESEARCH ASSOCIATE                     100.0         NaN\n",
       " TEACHER                                500.0         NaN\n",
       " THERAPIST                             3900.0         NaN\n",
       "...                                       ...         ...\n",
       "YOUTH SERVICES LIBRARIAN                290.0         NaN\n",
       "YOUTH SPECIALIST                        525.0         NaN\n",
       "ZEN BUDDHIST PRIEST                     300.0         NaN\n",
       "ZEPPOS AND ASSOCIATES                  1000.0         NaN\n",
       "ZOOLOGIST                               100.0         NaN\n",
       "\n",
       "[19893 rows x 2 columns]"
      ]
     },
     "execution_count": 57,
     "metadata": {},
     "output_type": "execute_result"
    }
   ],
   "source": [
    "df_vs2 = df_vs.pivot_table(values='contb_receipt_amt',index = 'contbr_occupation',columns='party',aggfunc='sum')\n",
    "df_vs2"
   ]
  },
  {
   "cell_type": "code",
   "execution_count": 58,
   "metadata": {},
   "outputs": [],
   "source": [
    "df_vs2.fillna(0,inplace = True)"
   ]
  },
  {
   "cell_type": "code",
   "execution_count": 62,
   "metadata": {
    "collapsed": true
   },
   "outputs": [
    {
     "data": {
      "text/html": [
       "<div>\n",
       "<style scoped>\n",
       "    .dataframe tbody tr th:only-of-type {\n",
       "        vertical-align: middle;\n",
       "    }\n",
       "\n",
       "    .dataframe tbody tr th {\n",
       "        vertical-align: top;\n",
       "    }\n",
       "\n",
       "    .dataframe thead th {\n",
       "        text-align: right;\n",
       "    }\n",
       "</style>\n",
       "<table border=\"1\" class=\"dataframe\">\n",
       "  <thead>\n",
       "    <tr style=\"text-align: right;\">\n",
       "      <th>party</th>\n",
       "      <th>Democrat</th>\n",
       "      <th>Republican</th>\n",
       "    </tr>\n",
       "    <tr>\n",
       "      <th>contbr_occupation</th>\n",
       "      <th></th>\n",
       "      <th></th>\n",
       "    </tr>\n",
       "  </thead>\n",
       "  <tbody>\n",
       "    <tr>\n",
       "      <th>MIXED-MEDIA ARTIST / STORYTELLER</th>\n",
       "      <td>100.0</td>\n",
       "      <td>0.0</td>\n",
       "    </tr>\n",
       "    <tr>\n",
       "      <th>AREA VICE PRESIDENT</th>\n",
       "      <td>250.0</td>\n",
       "      <td>0.0</td>\n",
       "    </tr>\n",
       "    <tr>\n",
       "      <th>RESEARCH ASSOCIATE</th>\n",
       "      <td>100.0</td>\n",
       "      <td>0.0</td>\n",
       "    </tr>\n",
       "    <tr>\n",
       "      <th>TEACHER</th>\n",
       "      <td>500.0</td>\n",
       "      <td>0.0</td>\n",
       "    </tr>\n",
       "    <tr>\n",
       "      <th>THERAPIST</th>\n",
       "      <td>3900.0</td>\n",
       "      <td>0.0</td>\n",
       "    </tr>\n",
       "    <tr>\n",
       "      <th>...</th>\n",
       "      <td>...</td>\n",
       "      <td>...</td>\n",
       "    </tr>\n",
       "    <tr>\n",
       "      <th>YOUTH SERVICES LIBRARIAN</th>\n",
       "      <td>290.0</td>\n",
       "      <td>0.0</td>\n",
       "    </tr>\n",
       "    <tr>\n",
       "      <th>YOUTH SPECIALIST</th>\n",
       "      <td>525.0</td>\n",
       "      <td>0.0</td>\n",
       "    </tr>\n",
       "    <tr>\n",
       "      <th>ZEN BUDDHIST PRIEST</th>\n",
       "      <td>300.0</td>\n",
       "      <td>0.0</td>\n",
       "    </tr>\n",
       "    <tr>\n",
       "      <th>ZEPPOS AND ASSOCIATES</th>\n",
       "      <td>1000.0</td>\n",
       "      <td>0.0</td>\n",
       "    </tr>\n",
       "    <tr>\n",
       "      <th>ZOOLOGIST</th>\n",
       "      <td>100.0</td>\n",
       "      <td>0.0</td>\n",
       "    </tr>\n",
       "  </tbody>\n",
       "</table>\n",
       "<p>19893 rows × 2 columns</p>\n",
       "</div>"
      ],
      "text/plain": [
       "party                                Democrat  Republican\n",
       "contbr_occupation                                        \n",
       "   MIXED-MEDIA ARTIST / STORYTELLER     100.0         0.0\n",
       " AREA VICE PRESIDENT                    250.0         0.0\n",
       " RESEARCH ASSOCIATE                     100.0         0.0\n",
       " TEACHER                                500.0         0.0\n",
       " THERAPIST                             3900.0         0.0\n",
       "...                                       ...         ...\n",
       "YOUTH SERVICES LIBRARIAN                290.0         0.0\n",
       "YOUTH SPECIALIST                        525.0         0.0\n",
       "ZEN BUDDHIST PRIEST                     300.0         0.0\n",
       "ZEPPOS AND ASSOCIATES                  1000.0         0.0\n",
       "ZOOLOGIST                               100.0         0.0\n",
       "\n",
       "[19893 rows x 2 columns]"
      ]
     },
     "execution_count": 62,
     "metadata": {},
     "output_type": "execute_result"
    }
   ],
   "source": [
    "df_vs2"
   ]
  },
  {
   "cell_type": "code",
   "execution_count": 64,
   "metadata": {
    "collapsed": true
   },
   "outputs": [
    {
     "data": {
      "text/html": [
       "<div>\n",
       "<style scoped>\n",
       "    .dataframe tbody tr th:only-of-type {\n",
       "        vertical-align: middle;\n",
       "    }\n",
       "\n",
       "    .dataframe tbody tr th {\n",
       "        vertical-align: top;\n",
       "    }\n",
       "\n",
       "    .dataframe thead th {\n",
       "        text-align: right;\n",
       "    }\n",
       "</style>\n",
       "<table border=\"1\" class=\"dataframe\">\n",
       "  <thead>\n",
       "    <tr style=\"text-align: right;\">\n",
       "      <th></th>\n",
       "      <th>total</th>\n",
       "    </tr>\n",
       "    <tr>\n",
       "      <th>contbr_occupation</th>\n",
       "      <th></th>\n",
       "    </tr>\n",
       "  </thead>\n",
       "  <tbody>\n",
       "    <tr>\n",
       "      <th>MIXED-MEDIA ARTIST / STORYTELLER</th>\n",
       "      <td>100.0</td>\n",
       "    </tr>\n",
       "    <tr>\n",
       "      <th>AREA VICE PRESIDENT</th>\n",
       "      <td>250.0</td>\n",
       "    </tr>\n",
       "    <tr>\n",
       "      <th>RESEARCH ASSOCIATE</th>\n",
       "      <td>100.0</td>\n",
       "    </tr>\n",
       "    <tr>\n",
       "      <th>TEACHER</th>\n",
       "      <td>500.0</td>\n",
       "    </tr>\n",
       "    <tr>\n",
       "      <th>THERAPIST</th>\n",
       "      <td>3900.0</td>\n",
       "    </tr>\n",
       "    <tr>\n",
       "      <th>...</th>\n",
       "      <td>...</td>\n",
       "    </tr>\n",
       "    <tr>\n",
       "      <th>YOUTH SERVICES LIBRARIAN</th>\n",
       "      <td>290.0</td>\n",
       "    </tr>\n",
       "    <tr>\n",
       "      <th>YOUTH SPECIALIST</th>\n",
       "      <td>525.0</td>\n",
       "    </tr>\n",
       "    <tr>\n",
       "      <th>ZEN BUDDHIST PRIEST</th>\n",
       "      <td>300.0</td>\n",
       "    </tr>\n",
       "    <tr>\n",
       "      <th>ZEPPOS AND ASSOCIATES</th>\n",
       "      <td>1000.0</td>\n",
       "    </tr>\n",
       "    <tr>\n",
       "      <th>ZOOLOGIST</th>\n",
       "      <td>100.0</td>\n",
       "    </tr>\n",
       "  </tbody>\n",
       "</table>\n",
       "<p>19893 rows × 1 columns</p>\n",
       "</div>"
      ],
      "text/plain": [
       "                                      total\n",
       "contbr_occupation                          \n",
       "   MIXED-MEDIA ARTIST / STORYTELLER   100.0\n",
       " AREA VICE PRESIDENT                  250.0\n",
       " RESEARCH ASSOCIATE                   100.0\n",
       " TEACHER                              500.0\n",
       " THERAPIST                           3900.0\n",
       "...                                     ...\n",
       "YOUTH SERVICES LIBRARIAN              290.0\n",
       "YOUTH SPECIALIST                      525.0\n",
       "ZEN BUDDHIST PRIEST                   300.0\n",
       "ZEPPOS AND ASSOCIATES                1000.0\n",
       "ZOOLOGIST                             100.0\n",
       "\n",
       "[19893 rows x 1 columns]"
      ]
     },
     "execution_count": 64,
     "metadata": {},
     "output_type": "execute_result"
    }
   ],
   "source": [
    "total = DataFrame(df_vs2.sum(axis = 1),columns=['total'])\n",
    "total"
   ]
  },
  {
   "cell_type": "code",
   "execution_count": 65,
   "metadata": {
    "collapsed": true
   },
   "outputs": [
    {
     "data": {
      "text/html": [
       "<div>\n",
       "<style scoped>\n",
       "    .dataframe tbody tr th:only-of-type {\n",
       "        vertical-align: middle;\n",
       "    }\n",
       "\n",
       "    .dataframe tbody tr th {\n",
       "        vertical-align: top;\n",
       "    }\n",
       "\n",
       "    .dataframe thead th {\n",
       "        text-align: right;\n",
       "    }\n",
       "</style>\n",
       "<table border=\"1\" class=\"dataframe\">\n",
       "  <thead>\n",
       "    <tr style=\"text-align: right;\">\n",
       "      <th></th>\n",
       "      <th>Democrat</th>\n",
       "      <th>Republican</th>\n",
       "      <th>total</th>\n",
       "    </tr>\n",
       "    <tr>\n",
       "      <th>contbr_occupation</th>\n",
       "      <th></th>\n",
       "      <th></th>\n",
       "      <th></th>\n",
       "    </tr>\n",
       "  </thead>\n",
       "  <tbody>\n",
       "    <tr>\n",
       "      <th>MIXED-MEDIA ARTIST / STORYTELLER</th>\n",
       "      <td>100.0</td>\n",
       "      <td>0.0</td>\n",
       "      <td>100.0</td>\n",
       "    </tr>\n",
       "    <tr>\n",
       "      <th>AREA VICE PRESIDENT</th>\n",
       "      <td>250.0</td>\n",
       "      <td>0.0</td>\n",
       "      <td>250.0</td>\n",
       "    </tr>\n",
       "    <tr>\n",
       "      <th>RESEARCH ASSOCIATE</th>\n",
       "      <td>100.0</td>\n",
       "      <td>0.0</td>\n",
       "      <td>100.0</td>\n",
       "    </tr>\n",
       "    <tr>\n",
       "      <th>TEACHER</th>\n",
       "      <td>500.0</td>\n",
       "      <td>0.0</td>\n",
       "      <td>500.0</td>\n",
       "    </tr>\n",
       "    <tr>\n",
       "      <th>THERAPIST</th>\n",
       "      <td>3900.0</td>\n",
       "      <td>0.0</td>\n",
       "      <td>3900.0</td>\n",
       "    </tr>\n",
       "    <tr>\n",
       "      <th>...</th>\n",
       "      <td>...</td>\n",
       "      <td>...</td>\n",
       "      <td>...</td>\n",
       "    </tr>\n",
       "    <tr>\n",
       "      <th>YOUTH SERVICES LIBRARIAN</th>\n",
       "      <td>290.0</td>\n",
       "      <td>0.0</td>\n",
       "      <td>290.0</td>\n",
       "    </tr>\n",
       "    <tr>\n",
       "      <th>YOUTH SPECIALIST</th>\n",
       "      <td>525.0</td>\n",
       "      <td>0.0</td>\n",
       "      <td>525.0</td>\n",
       "    </tr>\n",
       "    <tr>\n",
       "      <th>ZEN BUDDHIST PRIEST</th>\n",
       "      <td>300.0</td>\n",
       "      <td>0.0</td>\n",
       "      <td>300.0</td>\n",
       "    </tr>\n",
       "    <tr>\n",
       "      <th>ZEPPOS AND ASSOCIATES</th>\n",
       "      <td>1000.0</td>\n",
       "      <td>0.0</td>\n",
       "      <td>1000.0</td>\n",
       "    </tr>\n",
       "    <tr>\n",
       "      <th>ZOOLOGIST</th>\n",
       "      <td>100.0</td>\n",
       "      <td>0.0</td>\n",
       "      <td>100.0</td>\n",
       "    </tr>\n",
       "  </tbody>\n",
       "</table>\n",
       "<p>19893 rows × 3 columns</p>\n",
       "</div>"
      ],
      "text/plain": [
       "                                     Democrat  Republican   total\n",
       "contbr_occupation                                                \n",
       "   MIXED-MEDIA ARTIST / STORYTELLER     100.0         0.0   100.0\n",
       " AREA VICE PRESIDENT                    250.0         0.0   250.0\n",
       " RESEARCH ASSOCIATE                     100.0         0.0   100.0\n",
       " TEACHER                                500.0         0.0   500.0\n",
       " THERAPIST                             3900.0         0.0  3900.0\n",
       "...                                       ...         ...     ...\n",
       "YOUTH SERVICES LIBRARIAN                290.0         0.0   290.0\n",
       "YOUTH SPECIALIST                        525.0         0.0   525.0\n",
       "ZEN BUDDHIST PRIEST                     300.0         0.0   300.0\n",
       "ZEPPOS AND ASSOCIATES                  1000.0         0.0  1000.0\n",
       "ZOOLOGIST                               100.0         0.0   100.0\n",
       "\n",
       "[19893 rows x 3 columns]"
      ]
     },
     "execution_count": 65,
     "metadata": {},
     "output_type": "execute_result"
    }
   ],
   "source": [
    "df_vs3 = pd.merge(df_vs2,total,left_index=True,right_index=True)\n",
    "df_vs3"
   ]
  },
  {
   "cell_type": "code",
   "execution_count": 67,
   "metadata": {
    "collapsed": true
   },
   "outputs": [
    {
     "data": {
      "text/html": [
       "<div>\n",
       "<style scoped>\n",
       "    .dataframe tbody tr th:only-of-type {\n",
       "        vertical-align: middle;\n",
       "    }\n",
       "\n",
       "    .dataframe tbody tr th {\n",
       "        vertical-align: top;\n",
       "    }\n",
       "\n",
       "    .dataframe thead th {\n",
       "        text-align: right;\n",
       "    }\n",
       "</style>\n",
       "<table border=\"1\" class=\"dataframe\">\n",
       "  <thead>\n",
       "    <tr style=\"text-align: right;\">\n",
       "      <th></th>\n",
       "      <th>Democrat</th>\n",
       "      <th>Republican</th>\n",
       "      <th>total</th>\n",
       "    </tr>\n",
       "    <tr>\n",
       "      <th>contbr_occupation</th>\n",
       "      <th></th>\n",
       "      <th></th>\n",
       "      <th></th>\n",
       "    </tr>\n",
       "  </thead>\n",
       "  <tbody>\n",
       "    <tr>\n",
       "      <th>RETIRED</th>\n",
       "      <td>15103811.07</td>\n",
       "      <td>6570601.24</td>\n",
       "      <td>21674412.31</td>\n",
       "    </tr>\n",
       "    <tr>\n",
       "      <th>NOT_PROVIDE</th>\n",
       "      <td>7214735.33</td>\n",
       "      <td>6683258.06</td>\n",
       "      <td>13897993.39</td>\n",
       "    </tr>\n",
       "    <tr>\n",
       "      <th>ATTORNEY</th>\n",
       "      <td>9089821.27</td>\n",
       "      <td>3697735.21</td>\n",
       "      <td>12787556.48</td>\n",
       "    </tr>\n",
       "    <tr>\n",
       "      <th>HOMEMAKER</th>\n",
       "      <td>2784593.60</td>\n",
       "      <td>5464673.84</td>\n",
       "      <td>8249267.44</td>\n",
       "    </tr>\n",
       "    <tr>\n",
       "      <th>PHYSICIAN</th>\n",
       "      <td>2244445.92</td>\n",
       "      <td>790381.04</td>\n",
       "      <td>3034826.96</td>\n",
       "    </tr>\n",
       "    <tr>\n",
       "      <th>CEO</th>\n",
       "      <td>1426163.67</td>\n",
       "      <td>1558278.84</td>\n",
       "      <td>2984442.51</td>\n",
       "    </tr>\n",
       "    <tr>\n",
       "      <th>PRESIDENT</th>\n",
       "      <td>1285419.95</td>\n",
       "      <td>1545556.99</td>\n",
       "      <td>2830976.94</td>\n",
       "    </tr>\n",
       "    <tr>\n",
       "      <th>CONSULTANT</th>\n",
       "      <td>1636016.36</td>\n",
       "      <td>925820.38</td>\n",
       "      <td>2561836.74</td>\n",
       "    </tr>\n",
       "    <tr>\n",
       "      <th>EXECUTIVE</th>\n",
       "      <td>972931.63</td>\n",
       "      <td>1458961.36</td>\n",
       "      <td>2431892.99</td>\n",
       "    </tr>\n",
       "    <tr>\n",
       "      <th>INVESTOR</th>\n",
       "      <td>639607.00</td>\n",
       "      <td>1146559.12</td>\n",
       "      <td>1786166.12</td>\n",
       "    </tr>\n",
       "    <tr>\n",
       "      <th>PROFESSOR</th>\n",
       "      <td>1322512.54</td>\n",
       "      <td>108521.12</td>\n",
       "      <td>1431033.66</td>\n",
       "    </tr>\n",
       "    <tr>\n",
       "      <th>OWNER</th>\n",
       "      <td>643033.42</td>\n",
       "      <td>530034.12</td>\n",
       "      <td>1173067.54</td>\n",
       "    </tr>\n",
       "    <tr>\n",
       "      <th>REAL ESTATE</th>\n",
       "      <td>377200.55</td>\n",
       "      <td>753941.00</td>\n",
       "      <td>1131141.55</td>\n",
       "    </tr>\n",
       "    <tr>\n",
       "      <th>FINANCE</th>\n",
       "      <td>154856.40</td>\n",
       "      <td>934266.96</td>\n",
       "      <td>1089123.36</td>\n",
       "    </tr>\n",
       "    <tr>\n",
       "      <th>NOT EMPLOYED</th>\n",
       "      <td>1035639.53</td>\n",
       "      <td>0.00</td>\n",
       "      <td>1035639.53</td>\n",
       "    </tr>\n",
       "    <tr>\n",
       "      <th>SELF-EMPLOYED</th>\n",
       "      <td>378857.22</td>\n",
       "      <td>626089.44</td>\n",
       "      <td>1004946.66</td>\n",
       "    </tr>\n",
       "    <tr>\n",
       "      <th>CHAIRMAN</th>\n",
       "      <td>390823.00</td>\n",
       "      <td>554771.75</td>\n",
       "      <td>945594.75</td>\n",
       "    </tr>\n",
       "    <tr>\n",
       "      <th>BANKER</th>\n",
       "      <td>147439.00</td>\n",
       "      <td>779090.24</td>\n",
       "      <td>926529.24</td>\n",
       "    </tr>\n",
       "    <tr>\n",
       "      <th>TEACHER</th>\n",
       "      <td>691746.04</td>\n",
       "      <td>87810.77</td>\n",
       "      <td>779556.81</td>\n",
       "    </tr>\n",
       "    <tr>\n",
       "      <th>MANAGER</th>\n",
       "      <td>419079.16</td>\n",
       "      <td>360437.32</td>\n",
       "      <td>779516.48</td>\n",
       "    </tr>\n",
       "  </tbody>\n",
       "</table>\n",
       "</div>"
      ],
      "text/plain": [
       "                      Democrat  Republican        total\n",
       "contbr_occupation                                      \n",
       "RETIRED            15103811.07  6570601.24  21674412.31\n",
       "NOT_PROVIDE         7214735.33  6683258.06  13897993.39\n",
       "ATTORNEY            9089821.27  3697735.21  12787556.48\n",
       "HOMEMAKER           2784593.60  5464673.84   8249267.44\n",
       "PHYSICIAN           2244445.92   790381.04   3034826.96\n",
       "CEO                 1426163.67  1558278.84   2984442.51\n",
       "PRESIDENT           1285419.95  1545556.99   2830976.94\n",
       "CONSULTANT          1636016.36   925820.38   2561836.74\n",
       "EXECUTIVE            972931.63  1458961.36   2431892.99\n",
       "INVESTOR             639607.00  1146559.12   1786166.12\n",
       "PROFESSOR           1322512.54   108521.12   1431033.66\n",
       "OWNER                643033.42   530034.12   1173067.54\n",
       "REAL ESTATE          377200.55   753941.00   1131141.55\n",
       "FINANCE              154856.40   934266.96   1089123.36\n",
       "NOT EMPLOYED        1035639.53        0.00   1035639.53\n",
       "SELF-EMPLOYED        378857.22   626089.44   1004946.66\n",
       "CHAIRMAN             390823.00   554771.75    945594.75\n",
       "BANKER               147439.00   779090.24    926529.24\n",
       "TEACHER              691746.04    87810.77    779556.81\n",
       "MANAGER              419079.16   360437.32    779516.48"
      ]
     },
     "execution_count": 67,
     "metadata": {},
     "output_type": "execute_result"
    }
   ],
   "source": [
    "df_vs4 = df_vs3.sort_values(by = 'total',ascending=False)\n",
    "df_vs4[:20]"
   ]
  },
  {
   "cell_type": "code",
   "execution_count": 70,
   "metadata": {
    "collapsed": true
   },
   "outputs": [
    {
     "data": {
      "text/plain": [
       "<matplotlib.axes._subplots.AxesSubplot at 0x1b6b196b248>"
      ]
     },
     "execution_count": 70,
     "metadata": {},
     "output_type": "execute_result"
    },
    {
     "data": {
      "image/png": "[encoded data removed]",
      "text/plain": [
       "<Figure size 432x288 with 1 Axes>"
      ]
     },
     "metadata": {
      "needs_background": "light"
     },
     "output_type": "display_data"
    }
   ],
   "source": [
    "df_vs4.iloc[:,:2][:10].plot(kind = 'bar')"
   ]
  },
  {
   "cell_type": "code",
   "execution_count": 71,
   "metadata": {},
   "outputs": [
    {
     "data": {
      "text/plain": [
       "<matplotlib.axes._subplots.AxesSubplot at 0x1b6b18d1fc8>"
      ]
     },
     "execution_count": 71,
     "metadata": {},
     "output_type": "execute_result"
    },
    {
     "data": {
      "image/png": "[encoded data removed]",
      "text/plain": [
       "<Figure size 432x288 with 1 Axes>"
      ]
     },
     "metadata": {
      "needs_background": "light"
     },
     "output_type": "display_data"
    }
   ],
   "source": [
    "df_vs4.iloc[:,:2][:10].plot(kind = 'bar',stacked = True)"
   ]
  },
  {
   "cell_type": "markdown",
   "metadata": {},
   "source": [
    "### 根据职业和雇主进行分组运算"
   ]
  },
  {
   "cell_type": "code",
   "execution_count": 72,
   "metadata": {
    "collapsed": true
   },
   "outputs": [
    {
     "data": {
      "text/html": [
       "<div>\n",
       "<style scoped>\n",
       "    .dataframe tbody tr th:only-of-type {\n",
       "        vertical-align: middle;\n",
       "    }\n",
       "\n",
       "    .dataframe tbody tr th {\n",
       "        vertical-align: top;\n",
       "    }\n",
       "\n",
       "    .dataframe thead th {\n",
       "        text-align: right;\n",
       "    }\n",
       "</style>\n",
       "<table border=\"1\" class=\"dataframe\">\n",
       "  <thead>\n",
       "    <tr style=\"text-align: right;\">\n",
       "      <th></th>\n",
       "      <th>cmte_id</th>\n",
       "      <th>cand_id</th>\n",
       "      <th>cand_nm</th>\n",
       "      <th>contbr_nm</th>\n",
       "      <th>contbr_city</th>\n",
       "      <th>contbr_st</th>\n",
       "      <th>contbr_zip</th>\n",
       "      <th>contbr_employer</th>\n",
       "      <th>contbr_occupation</th>\n",
       "      <th>contb_receipt_amt</th>\n",
       "      <th>contb_receipt_dt</th>\n",
       "      <th>receipt_desc</th>\n",
       "      <th>memo_cd</th>\n",
       "      <th>memo_text</th>\n",
       "      <th>form_tp</th>\n",
       "      <th>file_num</th>\n",
       "      <th>party</th>\n",
       "      <th>label</th>\n",
       "    </tr>\n",
       "  </thead>\n",
       "  <tbody>\n",
       "    <tr>\n",
       "      <th>409</th>\n",
       "      <td>C00431171</td>\n",
       "      <td>P80003353</td>\n",
       "      <td>Romney, Mitt</td>\n",
       "      <td>EDWARDS, BRYANT MR.</td>\n",
       "      <td>LONDON UK</td>\n",
       "      <td>AE</td>\n",
       "      <td>90071</td>\n",
       "      <td>LATHAM &amp; WATKINS</td>\n",
       "      <td>ATTORNEY</td>\n",
       "      <td>2500.0</td>\n",
       "      <td>20-JUN-11</td>\n",
       "      <td>NaN</td>\n",
       "      <td>NaN</td>\n",
       "      <td>NaN</td>\n",
       "      <td>SA17A</td>\n",
       "      <td>760248</td>\n",
       "      <td>Republican</td>\n",
       "      <td>(1000, 10000]</td>\n",
       "    </tr>\n",
       "    <tr>\n",
       "      <th>410</th>\n",
       "      <td>C00431171</td>\n",
       "      <td>P80003353</td>\n",
       "      <td>Romney, Mitt</td>\n",
       "      <td>DELUCA, PIERRE</td>\n",
       "      <td>APO</td>\n",
       "      <td>AE</td>\n",
       "      <td>091280005</td>\n",
       "      <td>CISCO</td>\n",
       "      <td>ENGINEER</td>\n",
       "      <td>250.0</td>\n",
       "      <td>28-APR-11</td>\n",
       "      <td>NaN</td>\n",
       "      <td>NaN</td>\n",
       "      <td>NaN</td>\n",
       "      <td>SA17A</td>\n",
       "      <td>760248</td>\n",
       "      <td>Republican</td>\n",
       "      <td>(100, 1000]</td>\n",
       "    </tr>\n",
       "    <tr>\n",
       "      <th>411</th>\n",
       "      <td>C00431171</td>\n",
       "      <td>P80003353</td>\n",
       "      <td>Romney, Mitt</td>\n",
       "      <td>DELUCA, PIERRE</td>\n",
       "      <td>APO</td>\n",
       "      <td>AE</td>\n",
       "      <td>091280005</td>\n",
       "      <td>CISCO</td>\n",
       "      <td>ENGINEER</td>\n",
       "      <td>250.0</td>\n",
       "      <td>27-JUN-11</td>\n",
       "      <td>NaN</td>\n",
       "      <td>NaN</td>\n",
       "      <td>NaN</td>\n",
       "      <td>SA17A</td>\n",
       "      <td>760248</td>\n",
       "      <td>Republican</td>\n",
       "      <td>(100, 1000]</td>\n",
       "    </tr>\n",
       "    <tr>\n",
       "      <th>412</th>\n",
       "      <td>C00431171</td>\n",
       "      <td>P80003353</td>\n",
       "      <td>Romney, Mitt</td>\n",
       "      <td>KAMMER, DONALD</td>\n",
       "      <td>APO</td>\n",
       "      <td>AE</td>\n",
       "      <td>09267</td>\n",
       "      <td>US</td>\n",
       "      <td>MILITARY</td>\n",
       "      <td>500.0</td>\n",
       "      <td>31-DEC-11</td>\n",
       "      <td>NaN</td>\n",
       "      <td>NaN</td>\n",
       "      <td>NaN</td>\n",
       "      <td>SA17A</td>\n",
       "      <td>763507</td>\n",
       "      <td>Republican</td>\n",
       "      <td>(100, 1000]</td>\n",
       "    </tr>\n",
       "    <tr>\n",
       "      <th>413</th>\n",
       "      <td>C00431171</td>\n",
       "      <td>P80003353</td>\n",
       "      <td>Romney, Mitt</td>\n",
       "      <td>CLAUDE, FOUKS</td>\n",
       "      <td>PARIS FRANCE</td>\n",
       "      <td>AE</td>\n",
       "      <td>75011</td>\n",
       "      <td>PALPATINE</td>\n",
       "      <td>SECRET</td>\n",
       "      <td>250.0</td>\n",
       "      <td>29-DEC-11</td>\n",
       "      <td>NaN</td>\n",
       "      <td>NaN</td>\n",
       "      <td>NaN</td>\n",
       "      <td>SA17A</td>\n",
       "      <td>763507</td>\n",
       "      <td>Republican</td>\n",
       "      <td>(100, 1000]</td>\n",
       "    </tr>\n",
       "    <tr>\n",
       "      <th>...</th>\n",
       "      <td>...</td>\n",
       "      <td>...</td>\n",
       "      <td>...</td>\n",
       "      <td>...</td>\n",
       "      <td>...</td>\n",
       "      <td>...</td>\n",
       "      <td>...</td>\n",
       "      <td>...</td>\n",
       "      <td>...</td>\n",
       "      <td>...</td>\n",
       "      <td>...</td>\n",
       "      <td>...</td>\n",
       "      <td>...</td>\n",
       "      <td>...</td>\n",
       "      <td>...</td>\n",
       "      <td>...</td>\n",
       "      <td>...</td>\n",
       "      <td>...</td>\n",
       "    </tr>\n",
       "    <tr>\n",
       "      <th>351224</th>\n",
       "      <td>C00431445</td>\n",
       "      <td>P80003338</td>\n",
       "      <td>Obama, Barack</td>\n",
       "      <td>MOUNTS, ROBERT</td>\n",
       "      <td>APO</td>\n",
       "      <td>ZZ</td>\n",
       "      <td>962043077</td>\n",
       "      <td>HQ USFK (FKDC-SA)</td>\n",
       "      <td>GS-15 INTERNATIONAL RELATIONS OFFICER</td>\n",
       "      <td>25.0</td>\n",
       "      <td>26-NOV-11</td>\n",
       "      <td>NaN</td>\n",
       "      <td>NaN</td>\n",
       "      <td>NaN</td>\n",
       "      <td>SA17A</td>\n",
       "      <td>763233</td>\n",
       "      <td>Democrat</td>\n",
       "      <td>(10, 100]</td>\n",
       "    </tr>\n",
       "    <tr>\n",
       "      <th>351225</th>\n",
       "      <td>C00431445</td>\n",
       "      <td>P80003338</td>\n",
       "      <td>Obama, Barack</td>\n",
       "      <td>MOUNTS, ROBERT</td>\n",
       "      <td>APO</td>\n",
       "      <td>ZZ</td>\n",
       "      <td>962043077</td>\n",
       "      <td>HQ USFK (FKDC-SA)</td>\n",
       "      <td>GS-15 INTERNATIONAL RELATIONS OFFICER</td>\n",
       "      <td>25.0</td>\n",
       "      <td>26-JAN-12</td>\n",
       "      <td>NaN</td>\n",
       "      <td>NaN</td>\n",
       "      <td>NaN</td>\n",
       "      <td>SA17A</td>\n",
       "      <td>766535</td>\n",
       "      <td>Democrat</td>\n",
       "      <td>(10, 100]</td>\n",
       "    </tr>\n",
       "    <tr>\n",
       "      <th>351226</th>\n",
       "      <td>C00431445</td>\n",
       "      <td>P80003338</td>\n",
       "      <td>Obama, Barack</td>\n",
       "      <td>JONES, LESLIE</td>\n",
       "      <td>HAMILTON PARISH</td>\n",
       "      <td>ZZ</td>\n",
       "      <td>0CR04</td>\n",
       "      <td>SELF-EMPLOYED</td>\n",
       "      <td>ATTORNEY</td>\n",
       "      <td>2500.0</td>\n",
       "      <td>30-DEC-11</td>\n",
       "      <td>NaN</td>\n",
       "      <td>X</td>\n",
       "      <td>* OBAMA VICTORY FUND 2012</td>\n",
       "      <td>SA18</td>\n",
       "      <td>763233</td>\n",
       "      <td>Democrat</td>\n",
       "      <td>(1000, 10000]</td>\n",
       "    </tr>\n",
       "    <tr>\n",
       "      <th>351227</th>\n",
       "      <td>C00431445</td>\n",
       "      <td>P80003338</td>\n",
       "      <td>Obama, Barack</td>\n",
       "      <td>JONES, LESLIE</td>\n",
       "      <td>HAMILTON PARISH</td>\n",
       "      <td>ZZ</td>\n",
       "      <td>0CR04</td>\n",
       "      <td>SELF-EMPLOYED</td>\n",
       "      <td>ATTORNEY</td>\n",
       "      <td>2500.0</td>\n",
       "      <td>30-DEC-11</td>\n",
       "      <td>NaN</td>\n",
       "      <td>X</td>\n",
       "      <td>* OBAMA VICTORY FUND 2012</td>\n",
       "      <td>SA18</td>\n",
       "      <td>763233</td>\n",
       "      <td>Democrat</td>\n",
       "      <td>(1000, 10000]</td>\n",
       "    </tr>\n",
       "    <tr>\n",
       "      <th>351228</th>\n",
       "      <td>C00431445</td>\n",
       "      <td>P80003338</td>\n",
       "      <td>Obama, Barack</td>\n",
       "      <td>MOUNTS, ROBERT</td>\n",
       "      <td>APO</td>\n",
       "      <td>ZZ</td>\n",
       "      <td>962043077</td>\n",
       "      <td>HQ USFK (FKDC-SA)</td>\n",
       "      <td>GS-15 INTERNATIONAL RELATIONS OFFICER</td>\n",
       "      <td>25.0</td>\n",
       "      <td>26-OCT-11</td>\n",
       "      <td>NaN</td>\n",
       "      <td>NaN</td>\n",
       "      <td>NaN</td>\n",
       "      <td>SA17A</td>\n",
       "      <td>763233</td>\n",
       "      <td>Democrat</td>\n",
       "      <td>(10, 100]</td>\n",
       "    </tr>\n",
       "  </tbody>\n",
       "</table>\n",
       "<p>347470 rows × 18 columns</p>\n",
       "</div>"
      ],
      "text/plain": [
       "          cmte_id    cand_id        cand_nm            contbr_nm  \\\n",
       "409     C00431171  P80003353   Romney, Mitt  EDWARDS, BRYANT MR.   \n",
       "410     C00431171  P80003353   Romney, Mitt       DELUCA, PIERRE   \n",
       "411     C00431171  P80003353   Romney, Mitt       DELUCA, PIERRE   \n",
       "412     C00431171  P80003353   Romney, Mitt       KAMMER, DONALD   \n",
       "413     C00431171  P80003353   Romney, Mitt        CLAUDE, FOUKS   \n",
       "...           ...        ...            ...                  ...   \n",
       "351224  C00431445  P80003338  Obama, Barack       MOUNTS, ROBERT   \n",
       "351225  C00431445  P80003338  Obama, Barack       MOUNTS, ROBERT   \n",
       "351226  C00431445  P80003338  Obama, Barack        JONES, LESLIE   \n",
       "351227  C00431445  P80003338  Obama, Barack        JONES, LESLIE   \n",
       "351228  C00431445  P80003338  Obama, Barack       MOUNTS, ROBERT   \n",
       "\n",
       "            contbr_city contbr_st contbr_zip    contbr_employer  \\\n",
       "409           LONDON UK        AE      90071   LATHAM & WATKINS   \n",
       "410                 APO        AE  091280005              CISCO   \n",
       "411                 APO        AE  091280005              CISCO   \n",
       "412                 APO        AE      09267                 US   \n",
       "413        PARIS FRANCE        AE      75011          PALPATINE   \n",
       "...                 ...       ...        ...                ...   \n",
       "351224              APO        ZZ  962043077  HQ USFK (FKDC-SA)   \n",
       "351225              APO        ZZ  962043077  HQ USFK (FKDC-SA)   \n",
       "351226  HAMILTON PARISH        ZZ      0CR04      SELF-EMPLOYED   \n",
       "351227  HAMILTON PARISH        ZZ      0CR04      SELF-EMPLOYED   \n",
       "351228              APO        ZZ  962043077  HQ USFK (FKDC-SA)   \n",
       "\n",
       "                            contbr_occupation  contb_receipt_amt  \\\n",
       "409                                  ATTORNEY             2500.0   \n",
       "410                                  ENGINEER              250.0   \n",
       "411                                  ENGINEER              250.0   \n",
       "412                                  MILITARY              500.0   \n",
       "413                                    SECRET              250.0   \n",
       "...                                       ...                ...   \n",
       "351224  GS-15 INTERNATIONAL RELATIONS OFFICER               25.0   \n",
       "351225  GS-15 INTERNATIONAL RELATIONS OFFICER               25.0   \n",
       "351226                               ATTORNEY             2500.0   \n",
       "351227                               ATTORNEY             2500.0   \n",
       "351228  GS-15 INTERNATIONAL RELATIONS OFFICER               25.0   \n",
       "\n",
       "       contb_receipt_dt receipt_desc memo_cd                  memo_text  \\\n",
       "409           20-JUN-11          NaN     NaN                        NaN   \n",
       "410           28-APR-11          NaN     NaN                        NaN   \n",
       "411           27-JUN-11          NaN     NaN                        NaN   \n",
       "412           31-DEC-11          NaN     NaN                        NaN   \n",
       "413           29-DEC-11          NaN     NaN                        NaN   \n",
       "...                 ...          ...     ...                        ...   \n",
       "351224        26-NOV-11          NaN     NaN                        NaN   \n",
       "351225        26-JAN-12          NaN     NaN                        NaN   \n",
       "351226        30-DEC-11          NaN       X  * OBAMA VICTORY FUND 2012   \n",
       "351227        30-DEC-11          NaN       X  * OBAMA VICTORY FUND 2012   \n",
       "351228        26-OCT-11          NaN     NaN                        NaN   \n",
       "\n",
       "       form_tp  file_num       party          label  \n",
       "409      SA17A    760248  Republican  (1000, 10000]  \n",
       "410      SA17A    760248  Republican    (100, 1000]  \n",
       "411      SA17A    760248  Republican    (100, 1000]  \n",
       "412      SA17A    763507  Republican    (100, 1000]  \n",
       "413      SA17A    763507  Republican    (100, 1000]  \n",
       "...        ...       ...         ...            ...  \n",
       "351224   SA17A    763233    Democrat      (10, 100]  \n",
       "351225   SA17A    766535    Democrat      (10, 100]  \n",
       "351226    SA18    763233    Democrat  (1000, 10000]  \n",
       "351227    SA18    763233    Democrat  (1000, 10000]  \n",
       "351228   SA17A    763233    Democrat      (10, 100]  \n",
       "\n",
       "[347470 rows x 18 columns]"
      ]
     },
     "execution_count": 72,
     "metadata": {},
     "output_type": "execute_result"
    }
   ],
   "source": [
    "# 依然根据df_vs，这个数据进行分析\n",
    "df_vs"
   ]
  },
  {
   "cell_type": "code",
   "execution_count": 101,
   "metadata": {
    "collapsed": true
   },
   "outputs": [
    {
     "data": {
      "text/plain": [
       "cand_nm        contbr_occupation\n",
       "Obama, Barack  RETIRED              15103811.07\n",
       "               ATTORNEY              9089821.27\n",
       "               NOT_PROVIDE           7214735.33\n",
       "               HOMEMAKER             2784593.60\n",
       "               PHYSICIAN             2244445.92\n",
       "               CONSULTANT            1636016.36\n",
       "               CEO                   1426163.67\n",
       "               PROFESSOR             1322512.54\n",
       "               PRESIDENT             1285419.95\n",
       "               NOT EMPLOYED          1035639.53\n",
       "               EXECUTIVE              972931.63\n",
       "               TEACHER                691746.04\n",
       "               WRITER                 687807.68\n",
       "               OWNER                  643033.42\n",
       "               INVESTOR               639607.00\n",
       "Romney, Mitt   NOT_PROVIDE           6683258.06\n",
       "               RETIRED               6570601.24\n",
       "               HOMEMAKER             5464673.84\n",
       "               ATTORNEY              3697735.21\n",
       "               CEO                   1558278.84\n",
       "               PRESIDENT             1545556.99\n",
       "               EXECUTIVE             1458961.36\n",
       "               INVESTOR              1146559.12\n",
       "               FINANCE                934266.96\n",
       "               CONSULTANT             925820.38\n",
       "               PHYSICIAN              790381.04\n",
       "               BANKER                 779090.24\n",
       "               REAL ESTATE            753941.00\n",
       "               SELF-EMPLOYED          626089.44\n",
       "               CHAIRMAN               554771.75\n",
       "Name: contb_receipt_amt, dtype: float64"
      ]
     },
     "execution_count": 101,
     "metadata": {},
     "output_type": "execute_result"
    }
   ],
   "source": [
    "# 首选进行了分组，没有运算\n",
    "g = df_vs.groupby('cand_nm')\n",
    "def get_top_amount(g,key = 'contbr_occupation',n = 5):\n",
    "    return g.groupby(key)['contb_receipt_amt'].sum().sort_values(ascending = False)[:n]\n",
    "# 将分组结果，apply\n",
    "# apply中的方法自己定义\n",
    "g.apply(get_top_amount,'contbr_occupation',n = 15)"
   ]
  },
  {
   "cell_type": "code",
   "execution_count": null,
   "metadata": {},
   "outputs": [],
   "source": [
    "# 支持奥巴马：知识分子比较多\n",
    "# 支持罗姆尼：高管比较多"
   ]
  },
  {
   "cell_type": "code",
   "execution_count": 97,
   "metadata": {
    "collapsed": true
   },
   "outputs": [
    {
     "data": {
      "text/plain": [
       "cand_nm        contbr_occupation\n",
       "Obama, Barack  RETIRED              15103811.07\n",
       "               ATTORNEY              9089821.27\n",
       "               NOT_PROVIDE           7214735.33\n",
       "               HOMEMAKER             2784593.60\n",
       "               PHYSICIAN             2244445.92\n",
       "               CONSULTANT            1636016.36\n",
       "               CEO                   1426163.67\n",
       "Romney, Mitt   NOT_PROVIDE           6683258.06\n",
       "               RETIRED               6570601.24\n",
       "               HOMEMAKER             5464673.84\n",
       "               ATTORNEY              3697735.21\n",
       "               CEO                   1558278.84\n",
       "               PRESIDENT             1545556.99\n",
       "               EXECUTIVE             1458961.36\n",
       "Name: contb_receipt_amt, dtype: float64"
      ]
     },
     "execution_count": 97,
     "metadata": {},
     "output_type": "execute_result"
    }
   ],
   "source": [
    "# 分组聚合运算，方法二\n",
    "df_vs5 = df_vs.groupby(by = ['cand_nm','contbr_occupation'])['contb_receipt_amt'].sum().sort_values(ascending = False)[:14]\n",
    "df_vs6 = df_vs5.sort_index(level=0)\n",
    "df_vs6.iloc[:7].sort_values(ascending = False).append(df_vs6.iloc[7:].sort_values(ascending = False))\n"
   ]
  },
  {
   "cell_type": "code",
   "execution_count": 100,
   "metadata": {
    "collapsed": true
   },
   "outputs": [
    {
     "data": {
      "text/plain": [
       "cand_nm        contbr_employer                       \n",
       "Obama, Barack  RETIRED                                   14519353.14\n",
       "               SELF-EMPLOYED                              9946404.76\n",
       "               NOT_PROVIDE                                4559691.03\n",
       "               NOT EMPLOYED                               3808329.55\n",
       "               INFORMATION REQUESTED                      2742344.81\n",
       "               HOMEMAKER                                  2029236.95\n",
       "               SELF                                       1054984.00\n",
       "               SELF EMPLOYED                               459404.00\n",
       "               STUDENT                                     251293.45\n",
       "               VOLUNTEER                                   222504.00\n",
       "               MICROSOFT                                   107014.00\n",
       "               HARVARD UNIVERSITY                           88631.44\n",
       "               MORGAN & MORGAN                              86750.00\n",
       "               DLA PIPER                                    83652.00\n",
       "               IBM                                          76428.07\n",
       "Romney, Mitt   INFORMATION REQUESTED PER BEST EFFORTS     6926967.90\n",
       "               RETIRED                                    6568611.36\n",
       "               HOMEMAKER                                  5464673.84\n",
       "               SELF-EMPLOYED                              4575108.20\n",
       "               STUDENT                                     342933.48\n",
       "               CREDIT SUISSE                               262850.00\n",
       "               GOLDMAN SACH & CO.                          238250.00\n",
       "               MORGAN STANLEY                              213950.00\n",
       "               NOT_PROVIDE                                 188719.00\n",
       "               BARCLAYS CAPITAL                            159400.00\n",
       "               H.I.G. CAPITAL                              137000.00\n",
       "               CITIGROUP                                   115500.00\n",
       "               E.M.C. CORPORATION                          104450.00\n",
       "               J.P. MORGAN                                  97050.00\n",
       "               KIRKLAND & ELLIS L.L.P.                      95376.00\n",
       "Name: contb_receipt_amt, dtype: float64"
      ]
     },
     "execution_count": 100,
     "metadata": {},
     "output_type": "execute_result"
    }
   ],
   "source": [
    "g = df_vs.groupby('cand_nm')\n",
    "def get_top_amount(g,key = 'contbr_occupation',n = 5):\n",
    "    return g.groupby(key)['contb_receipt_amt'].sum().sort_values(ascending = False)[:n]\n",
    "# 将分组结果，apply\n",
    "# apply中的方法自己定义\n",
    "g.apply(get_top_amount,'contbr_employer',n = 15)"
   ]
  },
  {
   "cell_type": "code",
   "execution_count": null,
   "metadata": {},
   "outputs": [],
   "source": [
    "# 支持奥巴马：科技公司\n",
    "# 支持罗姆尼：大财团，金融公司"
   ]
  },
  {
   "cell_type": "markdown",
   "metadata": {},
   "source": [
    "#### 对赞助金额进行分组分析"
   ]
  },
  {
   "cell_type": "code",
   "execution_count": 103,
   "metadata": {
    "collapsed": true
   },
   "outputs": [
    {
     "data": {
      "text/html": [
       "<div>\n",
       "<style scoped>\n",
       "    .dataframe tbody tr th:only-of-type {\n",
       "        vertical-align: middle;\n",
       "    }\n",
       "\n",
       "    .dataframe tbody tr th {\n",
       "        vertical-align: top;\n",
       "    }\n",
       "\n",
       "    .dataframe thead th {\n",
       "        text-align: right;\n",
       "    }\n",
       "</style>\n",
       "<table border=\"1\" class=\"dataframe\">\n",
       "  <thead>\n",
       "    <tr style=\"text-align: right;\">\n",
       "      <th></th>\n",
       "      <th>cmte_id</th>\n",
       "      <th>cand_id</th>\n",
       "      <th>cand_nm</th>\n",
       "      <th>contbr_nm</th>\n",
       "      <th>contbr_city</th>\n",
       "      <th>contbr_st</th>\n",
       "      <th>contbr_zip</th>\n",
       "      <th>contbr_employer</th>\n",
       "      <th>contbr_occupation</th>\n",
       "      <th>contb_receipt_amt</th>\n",
       "      <th>contb_receipt_dt</th>\n",
       "      <th>receipt_desc</th>\n",
       "      <th>memo_cd</th>\n",
       "      <th>memo_text</th>\n",
       "      <th>form_tp</th>\n",
       "      <th>file_num</th>\n",
       "      <th>party</th>\n",
       "      <th>label</th>\n",
       "    </tr>\n",
       "  </thead>\n",
       "  <tbody>\n",
       "    <tr>\n",
       "      <th>409</th>\n",
       "      <td>C00431171</td>\n",
       "      <td>P80003353</td>\n",
       "      <td>Romney, Mitt</td>\n",
       "      <td>EDWARDS, BRYANT MR.</td>\n",
       "      <td>LONDON UK</td>\n",
       "      <td>AE</td>\n",
       "      <td>90071</td>\n",
       "      <td>LATHAM &amp; WATKINS</td>\n",
       "      <td>ATTORNEY</td>\n",
       "      <td>2500.0</td>\n",
       "      <td>20-JUN-11</td>\n",
       "      <td>NaN</td>\n",
       "      <td>NaN</td>\n",
       "      <td>NaN</td>\n",
       "      <td>SA17A</td>\n",
       "      <td>760248</td>\n",
       "      <td>Republican</td>\n",
       "      <td>(1000, 10000]</td>\n",
       "    </tr>\n",
       "    <tr>\n",
       "      <th>410</th>\n",
       "      <td>C00431171</td>\n",
       "      <td>P80003353</td>\n",
       "      <td>Romney, Mitt</td>\n",
       "      <td>DELUCA, PIERRE</td>\n",
       "      <td>APO</td>\n",
       "      <td>AE</td>\n",
       "      <td>091280005</td>\n",
       "      <td>CISCO</td>\n",
       "      <td>ENGINEER</td>\n",
       "      <td>250.0</td>\n",
       "      <td>28-APR-11</td>\n",
       "      <td>NaN</td>\n",
       "      <td>NaN</td>\n",
       "      <td>NaN</td>\n",
       "      <td>SA17A</td>\n",
       "      <td>760248</td>\n",
       "      <td>Republican</td>\n",
       "      <td>(100, 1000]</td>\n",
       "    </tr>\n",
       "    <tr>\n",
       "      <th>411</th>\n",
       "      <td>C00431171</td>\n",
       "      <td>P80003353</td>\n",
       "      <td>Romney, Mitt</td>\n",
       "      <td>DELUCA, PIERRE</td>\n",
       "      <td>APO</td>\n",
       "      <td>AE</td>\n",
       "      <td>091280005</td>\n",
       "      <td>CISCO</td>\n",
       "      <td>ENGINEER</td>\n",
       "      <td>250.0</td>\n",
       "      <td>27-JUN-11</td>\n",
       "      <td>NaN</td>\n",
       "      <td>NaN</td>\n",
       "      <td>NaN</td>\n",
       "      <td>SA17A</td>\n",
       "      <td>760248</td>\n",
       "      <td>Republican</td>\n",
       "      <td>(100, 1000]</td>\n",
       "    </tr>\n",
       "    <tr>\n",
       "      <th>412</th>\n",
       "      <td>C00431171</td>\n",
       "      <td>P80003353</td>\n",
       "      <td>Romney, Mitt</td>\n",
       "      <td>KAMMER, DONALD</td>\n",
       "      <td>APO</td>\n",
       "      <td>AE</td>\n",
       "      <td>09267</td>\n",
       "      <td>US</td>\n",
       "      <td>MILITARY</td>\n",
       "      <td>500.0</td>\n",
       "      <td>31-DEC-11</td>\n",
       "      <td>NaN</td>\n",
       "      <td>NaN</td>\n",
       "      <td>NaN</td>\n",
       "      <td>SA17A</td>\n",
       "      <td>763507</td>\n",
       "      <td>Republican</td>\n",
       "      <td>(100, 1000]</td>\n",
       "    </tr>\n",
       "    <tr>\n",
       "      <th>413</th>\n",
       "      <td>C00431171</td>\n",
       "      <td>P80003353</td>\n",
       "      <td>Romney, Mitt</td>\n",
       "      <td>CLAUDE, FOUKS</td>\n",
       "      <td>PARIS FRANCE</td>\n",
       "      <td>AE</td>\n",
       "      <td>75011</td>\n",
       "      <td>PALPATINE</td>\n",
       "      <td>SECRET</td>\n",
       "      <td>250.0</td>\n",
       "      <td>29-DEC-11</td>\n",
       "      <td>NaN</td>\n",
       "      <td>NaN</td>\n",
       "      <td>NaN</td>\n",
       "      <td>SA17A</td>\n",
       "      <td>763507</td>\n",
       "      <td>Republican</td>\n",
       "      <td>(100, 1000]</td>\n",
       "    </tr>\n",
       "  </tbody>\n",
       "</table>\n",
       "</div>"
      ],
      "text/plain": [
       "       cmte_id    cand_id       cand_nm            contbr_nm   contbr_city  \\\n",
       "409  C00431171  P80003353  Romney, Mitt  EDWARDS, BRYANT MR.     LONDON UK   \n",
       "410  C00431171  P80003353  Romney, Mitt       DELUCA, PIERRE           APO   \n",
       "411  C00431171  P80003353  Romney, Mitt       DELUCA, PIERRE           APO   \n",
       "412  C00431171  P80003353  Romney, Mitt       KAMMER, DONALD           APO   \n",
       "413  C00431171  P80003353  Romney, Mitt        CLAUDE, FOUKS  PARIS FRANCE   \n",
       "\n",
       "    contbr_st contbr_zip   contbr_employer contbr_occupation  \\\n",
       "409        AE      90071  LATHAM & WATKINS          ATTORNEY   \n",
       "410        AE  091280005             CISCO          ENGINEER   \n",
       "411        AE  091280005             CISCO          ENGINEER   \n",
       "412        AE      09267                US          MILITARY   \n",
       "413        AE      75011         PALPATINE            SECRET   \n",
       "\n",
       "     contb_receipt_amt contb_receipt_dt receipt_desc memo_cd memo_text  \\\n",
       "409             2500.0        20-JUN-11          NaN     NaN       NaN   \n",
       "410              250.0        28-APR-11          NaN     NaN       NaN   \n",
       "411              250.0        27-JUN-11          NaN     NaN       NaN   \n",
       "412              500.0        31-DEC-11          NaN     NaN       NaN   \n",
       "413              250.0        29-DEC-11          NaN     NaN       NaN   \n",
       "\n",
       "    form_tp  file_num       party          label  \n",
       "409   SA17A    760248  Republican  (1000, 10000]  \n",
       "410   SA17A    760248  Republican    (100, 1000]  \n",
       "411   SA17A    760248  Republican    (100, 1000]  \n",
       "412   SA17A    763507  Republican    (100, 1000]  \n",
       "413   SA17A    763507  Republican    (100, 1000]  "
      ]
     },
     "execution_count": 103,
     "metadata": {},
     "output_type": "execute_result"
    }
   ],
   "source": [
    "df_vs.head()"
   ]
  },
  {
   "cell_type": "code",
   "execution_count": 112,
   "metadata": {
    "collapsed": true
   },
   "outputs": [
    {
     "data": {
      "text/plain": [
       "<matplotlib.axes._subplots.AxesSubplot at 0x1b6b3dfbf88>"
      ]
     },
     "execution_count": 112,
     "metadata": {},
     "output_type": "execute_result"
    },
    {
     "data": {
      "image/png": "[encoded data removed]",
      "text/plain": [
       "<Figure size 432x288 with 1 Axes>"
      ]
     },
     "metadata": {
      "needs_background": "light"
     },
     "output_type": "display_data"
    }
   ],
   "source": [
    "df_vs7 = df_vs.groupby(by = ['cand_nm','label'])[['cand_nm']].count()\n",
    "df_vs7.unstack(level = 0).plot(kind = 'bar')"
   ]
  },
  {
   "cell_type": "code",
   "execution_count": null,
   "metadata": {},
   "outputs": [],
   "source": [
    "# 小额捐款，奥巴马遥遥领先\n",
    "# 大额捐款，罗姆尼领先"
   ]
  },
  {
   "cell_type": "code",
   "execution_count": 109,
   "metadata": {
    "scrolled": true
   },
   "outputs": [
    {
     "data": {
      "text/plain": [
       "cand_nm\n",
       "Obama, Barack    82594408.87\n",
       "Romney, Mitt     57023146.98\n",
       "Name: contb_receipt_amt, dtype: float64"
      ]
     },
     "execution_count": 109,
     "metadata": {},
     "output_type": "execute_result"
    }
   ],
   "source": [
    "df_vs.groupby(['cand_nm'])['contb_receipt_amt'].sum()"
   ]
  },
  {
   "cell_type": "code",
   "execution_count": 113,
   "metadata": {
    "collapsed": true
   },
   "outputs": [
    {
     "data": {
      "text/plain": [
       "<matplotlib.axes._subplots.AxesSubplot at 0x1b6b3ce9bc8>"
      ]
     },
     "execution_count": 113,
     "metadata": {},
     "output_type": "execute_result"
    },
    {
     "data": {
      "image/png": "[encoded data removed]",
      "text/plain": [
       "<Figure size 432x288 with 1 Axes>"
      ]
     },
     "metadata": {
      "needs_background": "light"
     },
     "output_type": "display_data"
    }
   ],
   "source": [
    "df_vs7 = df_vs.groupby(by = ['cand_nm','label'])[['contb_receipt_amt']].sum()\n",
    "df_vs7.unstack(level = 0).plot(kind = 'bar')"
   ]
  },
  {
   "cell_type": "code",
   "execution_count": 125,
   "metadata": {},
   "outputs": [
    {
     "data": {
      "text/html": [
       "<div>\n",
       "<style scoped>\n",
       "    .dataframe tbody tr th:only-of-type {\n",
       "        vertical-align: middle;\n",
       "    }\n",
       "\n",
       "    .dataframe tbody tr th {\n",
       "        vertical-align: top;\n",
       "    }\n",
       "\n",
       "    .dataframe thead tr th {\n",
       "        text-align: left;\n",
       "    }\n",
       "\n",
       "    .dataframe thead tr:last-of-type th {\n",
       "        text-align: right;\n",
       "    }\n",
       "</style>\n",
       "<table border=\"1\" class=\"dataframe\">\n",
       "  <thead>\n",
       "    <tr>\n",
       "      <th></th>\n",
       "      <th colspan=\"2\" halign=\"left\">contb_receipt_amt</th>\n",
       "    </tr>\n",
       "    <tr>\n",
       "      <th>cand_nm</th>\n",
       "      <th>Obama, Barack</th>\n",
       "      <th>Romney, Mitt</th>\n",
       "    </tr>\n",
       "    <tr>\n",
       "      <th>label</th>\n",
       "      <th></th>\n",
       "      <th></th>\n",
       "    </tr>\n",
       "  </thead>\n",
       "  <tbody>\n",
       "    <tr>\n",
       "      <th>(0, 1]</th>\n",
       "      <td>170.49</td>\n",
       "      <td>37.00</td>\n",
       "    </tr>\n",
       "    <tr>\n",
       "      <th>(1, 10]</th>\n",
       "      <td>148475.46</td>\n",
       "      <td>7139.38</td>\n",
       "    </tr>\n",
       "    <tr>\n",
       "      <th>(10, 100]</th>\n",
       "      <td>9629239.82</td>\n",
       "      <td>897744.11</td>\n",
       "    </tr>\n",
       "    <tr>\n",
       "      <th>(100, 1000]</th>\n",
       "      <td>33231906.36</td>\n",
       "      <td>13261862.42</td>\n",
       "    </tr>\n",
       "    <tr>\n",
       "      <th>(1000, 10000]</th>\n",
       "      <td>35105845.23</td>\n",
       "      <td>42843664.07</td>\n",
       "    </tr>\n",
       "    <tr>\n",
       "      <th>(10000, 100000]</th>\n",
       "      <td>59100.00</td>\n",
       "      <td>12700.00</td>\n",
       "    </tr>\n",
       "    <tr>\n",
       "      <th>(100000, 1000000]</th>\n",
       "      <td>964436.91</td>\n",
       "      <td>0.00</td>\n",
       "    </tr>\n",
       "    <tr>\n",
       "      <th>(1000000, 10000000]</th>\n",
       "      <td>3455234.60</td>\n",
       "      <td>0.00</td>\n",
       "    </tr>\n",
       "  </tbody>\n",
       "</table>\n",
       "</div>"
      ],
      "text/plain": [
       "                    contb_receipt_amt             \n",
       "cand_nm                 Obama, Barack Romney, Mitt\n",
       "label                                             \n",
       "(0, 1]                         170.49        37.00\n",
       "(1, 10]                     148475.46      7139.38\n",
       "(10, 100]                  9629239.82    897744.11\n",
       "(100, 1000]               33231906.36  13261862.42\n",
       "(1000, 10000]             35105845.23  42843664.07\n",
       "(10000, 100000]              59100.00     12700.00\n",
       "(100000, 1000000]           964436.91         0.00\n",
       "(1000000, 10000000]        3455234.60         0.00"
      ]
     },
     "execution_count": 125,
     "metadata": {},
     "output_type": "execute_result"
    }
   ],
   "source": [
    "# 百分比堆叠图\n",
    "df_vs7 = df_vs.groupby(by = ['cand_nm','label'])[['contb_receipt_amt']].sum()\n",
    "df_vs7 = df_vs7.unstack(level = 0)\n",
    "df_vs7.fillna(0,inplace = True)\n",
    "df_vs7"
   ]
  },
  {
   "cell_type": "code",
   "execution_count": 128,
   "metadata": {},
   "outputs": [
    {
     "data": {
      "text/plain": [
       "<matplotlib.axes._subplots.AxesSubplot at 0x1b6b4388588>"
      ]
     },
     "execution_count": 128,
     "metadata": {},
     "output_type": "execute_result"
    },
    {
     "data": {
      "image/png": "[encoded data removed]",
      "text/plain": [
       "<Figure size 432x288 with 1 Axes>"
      ]
     },
     "metadata": {
      "needs_background": "light"
     },
     "output_type": "display_data"
    }
   ],
   "source": [
    "df_vs7.div(df_vs7.sum(axis = 1),axis = 0).iloc[:-2].plot(kind = 'bar',stacked = True)"
   ]
  }
 ],
 "metadata": {
  "kernelspec": {
   "display_name": "Python 3",
   "language": "python",
   "name": "python3"
  },
  "language_info": {
   "codemirror_mode": {
    "name": "ipython",
    "version": 3
   },
   "file_extension": ".py",
   "mimetype": "text/x-python",
   "name": "python",
   "nbconvert_exporter": "python",
   "pygments_lexer": "ipython3",
   "version": "3.7.4"
  }
 },
 "nbformat": 4,
 "nbformat_minor": 2
}
