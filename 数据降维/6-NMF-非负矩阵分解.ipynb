{
 "cells": [
  {
   "cell_type": "code",
   "execution_count": 2,
   "metadata": {},
   "outputs": [],
   "source": [
    "import warnings\n",
    "warnings.filterwarnings('ignore')\n",
    "import numpy as np\n",
    "\n",
    "from sklearn.decomposition import PCA\n",
    "\n",
    "from sklearn.discriminant_analysis import LinearDiscriminantAnalysis\n",
    "\n",
    "from sklearn.decomposition import NMF\n",
    "\n",
    "from sklearn import datasets\n",
    "\n",
    "from sklearn.naive_bayes import GaussianNB\n",
    "from sklearn.model_selection import train_test_split"
   ]
  },
  {
   "cell_type": "code",
   "execution_count": 3,
   "metadata": {},
   "outputs": [],
   "source": [
    "X,y = datasets.load_iris(True)"
   ]
  },
  {
   "cell_type": "code",
   "execution_count": 29,
   "metadata": {
    "collapsed": true
   },
   "outputs": [
    {
     "data": {
      "text/plain": [
       "array([[-2.68412563,  0.31939725],\n",
       "       [-2.71414169, -0.17700123],\n",
       "       [-2.88899057, -0.14494943],\n",
       "       [-2.74534286, -0.31829898],\n",
       "       [-2.72871654,  0.32675451]])"
      ]
     },
     "metadata": {},
     "output_type": "display_data"
    },
    {
     "data": {
      "text/plain": [
       "0.868421052631579"
      ]
     },
     "execution_count": 29,
     "metadata": {},
     "output_type": "execute_result"
    }
   ],
   "source": [
    "pca = PCA(n_components=0.95,whiten=False)\n",
    "X_pca = pca.fit_transform(X)\n",
    "X_train,X_test,y_train,y_test = train_test_split(X_pca,y,random_state = 256)\n",
    "\n",
    "gNB  = GaussianNB()\n",
    "gNB.fit(X_train,y_train)\n",
    "display(X_pca[:5])\n",
    "gNB.score(X_test,y_test)"
   ]
  },
  {
   "cell_type": "code",
   "execution_count": 30,
   "metadata": {
    "collapsed": true
   },
   "outputs": [
    {
     "data": {
      "text/plain": [
       "array([[5.1, 3.5, 1.4, 0.2],\n",
       "       [4.9, 3. , 1.4, 0.2],\n",
       "       [4.7, 3.2, 1.3, 0.2],\n",
       "       [4.6, 3.1, 1.5, 0.2],\n",
       "       [5. , 3.6, 1.4, 0.2]])"
      ]
     },
     "metadata": {},
     "output_type": "display_data"
    },
    {
     "data": {
      "text/plain": [
       "array([[-7.60294366e-01,  4.60080598e-01, -2.35478628e+00,\n",
       "        -9.85801646e-01],\n",
       "       [-1.09707143e+00,  1.00166610e-01, -2.29443823e+00,\n",
       "        -9.59087413e-01],\n",
       "       [-1.13921462e+00,  1.38348265e-01, -2.44978303e+00,\n",
       "        -1.02415318e+00],\n",
       "       [-1.20112163e+00, -3.66359253e-04, -2.29667019e+00,\n",
       "        -9.59601156e-01],\n",
       "       [-7.71578225e-01,  4.69221526e-01, -2.39426155e+00,\n",
       "        -1.00233342e+00]])"
      ]
     },
     "metadata": {},
     "output_type": "display_data"
    }
   ],
   "source": [
    "H = pca.components_\n",
    "W = X_pca\n",
    "display(X[:5],W.dot(H)[:5])"
   ]
  },
  {
   "cell_type": "code",
   "execution_count": 14,
   "metadata": {},
   "outputs": [
    {
     "data": {
      "text/plain": [
       "array([4.22824171, 0.24267075, 0.0782095 , 0.02383509])"
      ]
     },
     "execution_count": 14,
     "metadata": {},
     "output_type": "execute_result"
    }
   ],
   "source": [
    "v = pca.explained_variance_\n",
    "v"
   ]
  },
  {
   "cell_type": "code",
   "execution_count": 16,
   "metadata": {},
   "outputs": [
    {
     "data": {
      "text/plain": [
       "array([0.92461872, 0.97768521, 0.99478782, 1.        ])"
      ]
     },
     "execution_count": 16,
     "metadata": {},
     "output_type": "execute_result"
    }
   ],
   "source": [
    "v.cumsum()/v.sum()"
   ]
  },
  {
   "cell_type": "code",
   "execution_count": 21,
   "metadata": {
    "collapsed": true
   },
   "outputs": [
    {
     "data": {
      "text/plain": [
       "array([[ 8.06179978,  0.30042062],\n",
       "       [ 7.12868772, -0.78666043],\n",
       "       [ 7.48982797, -0.26538449],\n",
       "       [ 6.81320057, -0.67063107],\n",
       "       [ 8.13230933,  0.51446253]])"
      ]
     },
     "metadata": {},
     "output_type": "display_data"
    },
    {
     "data": {
      "text/plain": [
       "1.0"
      ]
     },
     "execution_count": 21,
     "metadata": {},
     "output_type": "execute_result"
    }
   ],
   "source": [
    "lda = LinearDiscriminantAnalysis(n_components=2)\n",
    "\n",
    "# 类内的方差尽量小，类间方差尽量大\n",
    "lda.fit(X,y)\n",
    "X_lda = lda.transform(X)\n",
    "X_train,X_test,y_train,y_test = train_test_split(X_lda,y,random_state = 256)\n",
    "gNB = GaussianNB()\n",
    "gNB.fit(X_train,y_train)\n",
    "display(X_lda[:5])\n",
    "gNB.score(X_test,y_test)"
   ]
  },
  {
   "cell_type": "code",
   "execution_count": 24,
   "metadata": {
    "collapsed": true
   },
   "outputs": [
    {
     "data": {
      "text/plain": [
       "array([[0.10666948, 1.32441671],\n",
       "       [0.13650159, 1.1703995 ],\n",
       "       [0.10290364, 1.21005821],\n",
       "       [0.14288053, 1.12082689],\n",
       "       [0.0985986 , 1.33211468]])"
      ]
     },
     "metadata": {},
     "output_type": "display_data"
    },
    {
     "data": {
      "text/plain": [
       "0.9736842105263158"
      ]
     },
     "execution_count": 24,
     "metadata": {},
     "output_type": "execute_result"
    }
   ],
   "source": [
    "# Non-Negative Matrix Factorization\n",
    "nmf = NMF(n_components=2)\n",
    "X_nmf = nmf.fit_transform(X)\n",
    "\n",
    "X_train,X_test,y_train,y_test = train_test_split(X_nmf,y,random_state = 256)\n",
    "\n",
    "gNB = GaussianNB()\n",
    "gNB.fit(X_train,y_train)\n",
    "display(X_nmf[:5])\n",
    "gNB.score(X_test,y_test)"
   ]
  },
  {
   "cell_type": "code",
   "execution_count": 26,
   "metadata": {
    "collapsed": true
   },
   "outputs": [
    {
     "data": {
      "text/plain": [
       "array([[5.1, 3.5, 1.4, 0.2],\n",
       "       [4.9, 3. , 1.4, 0.2],\n",
       "       [4.7, 3.2, 1.3, 0.2],\n",
       "       [4.6, 3.1, 1.5, 0.2],\n",
       "       [5. , 3.6, 1.4, 0.2]])"
      ]
     },
     "metadata": {},
     "output_type": "display_data"
    },
    {
     "data": {
      "text/plain": [
       "array([[5.09591336, 3.50618857, 1.40120511, 0.20158305],\n",
       "       [4.74639643, 3.19626659, 1.4607764 , 0.25795951],\n",
       "       [4.68723639, 3.21605128, 1.30890071, 0.1944664 ],\n",
       "       [4.61535011, 3.0890499 , 1.46297066, 0.27001439],\n",
       "       [5.07551302, 3.50644084, 1.36356276, 0.18633077]])"
      ]
     },
     "metadata": {},
     "output_type": "display_data"
    }
   ],
   "source": [
    "W = X_nmf\n",
    "H = nmf.components_\n",
    "V = W.dot(H)\n",
    "display(X[:5],V[:5])"
   ]
  }
 ],
 "metadata": {
  "kernelspec": {
   "display_name": "Python 3",
   "language": "python",
   "name": "python3"
  },
  "language_info": {
   "codemirror_mode": {
    "name": "ipython",
    "version": 3
   },
   "file_extension": ".py",
   "mimetype": "text/x-python",
   "name": "python",
   "nbconvert_exporter": "python",
   "pygments_lexer": "ipython3",
   "version": "3.6.8"
  }
 },
 "nbformat": 4,
 "nbformat_minor": 2
}
