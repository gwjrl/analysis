{
 "cells": [
  {
   "cell_type": "code",
   "execution_count": 1,
   "metadata": {},
   "outputs": [],
   "source": [
    "import numpy as np\n",
    "\n",
    "import matplotlib.pyplot as plt"
   ]
  },
  {
   "cell_type": "code",
   "execution_count": 5,
   "metadata": {
    "collapsed": true
   },
   "outputs": [
    {
     "data": {
      "text/plain": [
       "[<matplotlib.lines.Line2D at 0x22fffc49550>]"
      ]
     },
     "execution_count": 5,
     "metadata": {},
     "output_type": "execute_result"
    },
    {
     "data": {
      "image/png": "[encoded data removed]",
      "text/plain": [
       "<Figure size 432x288 with 1 Axes>"
      ]
     },
     "metadata": {
      "needs_background": "light"
     },
     "output_type": "display_data"
    }
   ],
   "source": [
    "# 开口向上，最小值\n",
    "# 凹函数\n",
    "f = lambda x : (x - 2.5)**2 + 8.5*x - 11\n",
    "\n",
    "x = np.linspace(-8,5,100)\n",
    "\n",
    "y = f(x)\n",
    "\n",
    "plt.plot(x,y)"
   ]
  },
  {
   "cell_type": "code",
   "execution_count": 6,
   "metadata": {},
   "outputs": [],
   "source": [
    "d = lambda x : 2*(x-2.5) + 8.5"
   ]
  },
  {
   "cell_type": "code",
   "execution_count": null,
   "metadata": {},
   "outputs": [],
   "source": [
    "# d = 0\n",
    "# 2x + 3.5 = 0\n",
    "# x = -1.75"
   ]
  },
  {
   "cell_type": "code",
   "execution_count": 14,
   "metadata": {},
   "outputs": [
    {
     "name": "stdout",
     "output_type": "stream",
     "text": [
      "--------------------最优解初始值是： -10\n",
      "---------------------梯度下降1步，最优解更新是：-8.3500\n",
      "---------------------梯度下降2步，最优解更新是：-7.0300\n",
      "---------------------梯度下降3步，最优解更新是：-5.9740\n",
      "---------------------梯度下降4步，最优解更新是：-5.1292\n",
      "---------------------梯度下降5步，最优解更新是：-4.4534\n",
      "---------------------梯度下降6步，最优解更新是：-3.9127\n",
      "---------------------梯度下降7步，最优解更新是：-3.4802\n",
      "---------------------梯度下降8步，最优解更新是：-3.1341\n",
      "---------------------梯度下降9步，最优解更新是：-2.8573\n",
      "---------------------梯度下降10步，最优解更新是：-2.6358\n",
      "---------------------梯度下降11步，最优解更新是：-2.4587\n",
      "---------------------梯度下降12步，最优解更新是：-2.3169\n",
      "---------------------梯度下降13步，最优解更新是：-2.2035\n",
      "---------------------梯度下降14步，最优解更新是：-2.1128\n",
      "---------------------梯度下降15步，最优解更新是：-2.0403\n",
      "---------------------梯度下降16步，最优解更新是：-1.9822\n",
      "---------------------梯度下降17步，最优解更新是：-1.9358\n",
      "---------------------梯度下降18步，最优解更新是：-1.8986\n",
      "---------------------梯度下降19步，最优解更新是：-1.8689\n",
      "---------------------梯度下降20步，最优解更新是：-1.8451\n",
      "---------------------梯度下降21步，最优解更新是：-1.8261\n",
      "---------------------梯度下降22步，最优解更新是：-1.8109\n",
      "---------------------梯度下降23步，最优解更新是：-1.7987\n",
      "---------------------梯度下降24步，最优解更新是：-1.7890\n",
      "---------------------梯度下降25步，最优解更新是：-1.7812\n",
      "---------------------梯度下降26步，最优解更新是：-1.7749\n",
      "---------------------梯度下降27步，最优解更新是：-1.7699\n",
      "---------------------梯度下降28步，最优解更新是：-1.7660\n",
      "---------------------梯度下降29步，最优解更新是：-1.7628\n",
      "---------------------梯度下降30步，最优解更新是：-1.7602\n",
      "---------------------梯度下降31步，最优解更新是：-1.7582\n",
      "---------------------梯度下降32步，最优解更新是：-1.7565\n",
      "---------------------梯度下降33步，最优解更新是：-1.7552\n",
      "---------------------梯度下降34步，最优解更新是：-1.7542\n",
      "---------------------梯度下降35步，最优解更新是：-1.7533\n",
      "---------------------梯度下降36步，最优解更新是：-1.7527\n",
      "---------------------梯度下降37步，最优解更新是：-1.7521\n",
      "---------------------梯度下降38步，最优解更新是：-1.7517\n",
      "---------------------梯度下降39步，最优解更新是：-1.7514\n",
      "---------------------梯度下降40步，最优解更新是：-1.7511\n",
      "---------------------梯度下降41步，最优解更新是：-1.7509\n",
      "---------------------梯度下降42步，最优解更新是：-1.7507\n",
      "---------------------梯度下降43步，最优解更新是：-1.7506\n",
      "---------------------梯度下降44步，最优解更新是：-1.7504\n",
      "---------------------梯度下降45步，最优解更新是：-1.7504\n"
     ]
    },
    {
     "data": {
      "text/plain": [
       "<matplotlib.collections.PathCollection at 0x22fffe79400>"
      ]
     },
     "execution_count": 14,
     "metadata": {},
     "output_type": "execute_result"
    },
    {
     "data": {
      "image/png": "[encoded data removed]",
      "text/plain": [
       "<Figure size 432x288 with 1 Axes>"
      ]
     },
     "metadata": {
      "needs_background": "light"
     },
     "output_type": "display_data"
    }
   ],
   "source": [
    "# 梯度 == 导数\n",
    "step = 0.1\n",
    "# result使我们要求解的值\n",
    "result = np.random.randint(-10,10,size = 1)[0]\n",
    "# for循环找最优解，每次沿着导数‘走’一步，更新，记录上一步的解\n",
    "result_last = result + 0.5\n",
    "print('--------------------最优解初始值是：',result)\n",
    "count = 1\n",
    "results = []\n",
    "results.append(result)\n",
    "while True:\n",
    "    if abs(result - result_last) < 1e-4:#精确度\n",
    "        break\n",
    "    result_last = result\n",
    "#     最优解，更新了一步\n",
    "    result = result - d(result)*step\n",
    "    results.append(result)\n",
    "    print('---------------------梯度下降%d步，最优解更新是：%0.4f'%(count,result))\n",
    "    count += 1\n",
    "plt.plot(x,y)\n",
    "results = np.asarray(results)\n",
    "plt.scatter(results,f(results),marker = '*',c = 'red')"
   ]
  }
 ],
 "metadata": {
  "kernelspec": {
   "display_name": "Python 3",
   "language": "python",
   "name": "python3"
  },
  "language_info": {
   "codemirror_mode": {
    "name": "ipython",
    "version": 3
   },
   "file_extension": ".py",
   "mimetype": "text/x-python",
   "name": "python",
   "nbconvert_exporter": "python",
   "pygments_lexer": "ipython3",
   "version": "3.6.8"
  }
 },
 "nbformat": 4,
 "nbformat_minor": 2
}
