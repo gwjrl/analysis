{
 "cells": [
  {
   "cell_type": "markdown",
   "metadata": {},
   "source": [
    "### 导包，获取数据，进行训练"
   ]
  },
  {
   "cell_type": "code",
   "execution_count": 3,
   "metadata": {},
   "outputs": [],
   "source": [
    "import numpy as np\n",
    "\n",
    "from sklearn.linear_model import LogisticRegression\n",
    "\n",
    "from sklearn import datasets"
   ]
  },
  {
   "cell_type": "code",
   "execution_count": 2,
   "metadata": {},
   "outputs": [],
   "source": [
    "X,y = datasets.load_iris(True)"
   ]
  },
  {
   "cell_type": "code",
   "execution_count": 4,
   "metadata": {
    "collapsed": true
   },
   "outputs": [
    {
     "data": {
      "text/plain": [
       "LogisticRegression(C=1.0, class_weight=None, dual=False, fit_intercept=True,\n",
       "                   intercept_scaling=1, l1_ratio=None, max_iter=100,\n",
       "                   multi_class='ovr', n_jobs=None, penalty='l2',\n",
       "                   random_state=None, solver='lbfgs', tol=0.0001, verbose=0,\n",
       "                   warm_start=False)"
      ]
     },
     "execution_count": 4,
     "metadata": {},
     "output_type": "execute_result"
    }
   ],
   "source": [
    "lr = LogisticRegression(multi_class='ovr')\n",
    "lr.fit(X,y)"
   ]
  },
  {
   "cell_type": "markdown",
   "metadata": {},
   "source": [
    "### 获取算法预测概率"
   ]
  },
  {
   "cell_type": "code",
   "execution_count": 6,
   "metadata": {},
   "outputs": [],
   "source": [
    "proba_ = lr.predict_proba(X)"
   ]
  },
  {
   "cell_type": "markdown",
   "metadata": {},
   "source": [
    "### 自己计算概率\n"
   ]
  },
  {
   "cell_type": "code",
   "execution_count": 8,
   "metadata": {},
   "outputs": [],
   "source": [
    "w_ = lr.coef_\n",
    "b_ = lr.intercept_"
   ]
  },
  {
   "cell_type": "code",
   "execution_count": 19,
   "metadata": {
    "collapsed": true
   },
   "outputs": [
    {
     "data": {
      "text/plain": [
       "array([[8.96807569e-01, 1.03191359e-01, 1.07219602e-06],\n",
       "       [7.78979389e-01, 2.21019299e-01, 1.31168933e-06],\n",
       "       [8.34864184e-01, 1.65134802e-01, 1.01485082e-06],\n",
       "       [7.90001986e-01, 2.09996107e-01, 1.90723705e-06],\n",
       "       [9.12050403e-01, 8.79485212e-02, 1.07537143e-06]])"
      ]
     },
     "metadata": {},
     "output_type": "display_data"
    },
    {
     "data": {
      "text/plain": [
       "array([[8.96807569e-01, 1.03191359e-01, 1.07219602e-06],\n",
       "       [7.78979389e-01, 2.21019299e-01, 1.31168933e-06],\n",
       "       [8.34864184e-01, 1.65134802e-01, 1.01485082e-06],\n",
       "       [7.90001986e-01, 2.09996107e-01, 1.90723705e-06],\n",
       "       [9.12050403e-01, 8.79485212e-02, 1.07537143e-06]])"
      ]
     },
     "metadata": {},
     "output_type": "display_data"
    }
   ],
   "source": [
    "'''Else use a one-vs-rest approach, i.e calculate the probability\n",
    "of each class assuming it to be positive using the logistic function.\n",
    "and normalize these values across all the classes.'''\n",
    "f = X.dot(w_.T) + b_\n",
    "p = 1/(1 + np.e**(-f))\n",
    "# normalize 归一化\n",
    "custom_p = p/p.sum(axis = 1)[:,np.newaxis]\n",
    "display(proba_[:5],custom_p[:5])"
   ]
  }
 ],
 "metadata": {
  "kernelspec": {
   "display_name": "Python 3",
   "language": "python",
   "name": "python3"
  },
  "language_info": {
   "codemirror_mode": {
    "name": "ipython",
    "version": 3
   },
   "file_extension": ".py",
   "mimetype": "text/x-python",
   "name": "python",
   "nbconvert_exporter": "python",
   "pygments_lexer": "ipython3",
   "version": "3.7.4"
  }
 },
 "nbformat": 4,
 "nbformat_minor": 2
}
