{
 "cells": [
  {
   "cell_type": "code",
   "execution_count": 1,
   "metadata": {
    "collapsed": true
   },
   "outputs": [
    {
     "name": "stderr",
     "output_type": "stream",
     "text": [
      "d:\\python3.7.4\\lib\\importlib\\_bootstrap.py:219: RuntimeWarning: numpy.ufunc size changed, may indicate binary incompatibility. Expected 192 from C header, got 216 from PyObject\n",
      "  return f(*args, **kwds)\n"
     ]
    }
   ],
   "source": [
    "import numpy as np\n",
    "\n",
    "from sklearn.linear_model import LogisticRegression\n",
    "\n",
    "from sklearn import datasets"
   ]
  },
  {
   "cell_type": "code",
   "execution_count": 3,
   "metadata": {},
   "outputs": [],
   "source": [
    "X,y = datasets.load_iris(True)\n",
    "from sklearn.model_selection import train_test_split\n",
    "\n",
    "cond = y != 2\n",
    "\n",
    "X = X[cond]\n",
    "y = y[cond]\n",
    "\n",
    "X_train,X_test,y_train,y_test = train_test_split(X,y,test_size = 0.2)"
   ]
  },
  {
   "cell_type": "markdown",
   "metadata": {},
   "source": [
    "### 二分类问题"
   ]
  },
  {
   "cell_type": "code",
   "execution_count": 5,
   "metadata": {},
   "outputs": [
    {
     "data": {
      "text/plain": [
       "array([1, 0, 1, 1, 1, 0, 1, 0, 0, 0, 0, 1, 0, 1, 1, 1, 1, 1, 1, 0])"
      ]
     },
     "metadata": {},
     "output_type": "display_data"
    },
    {
     "data": {
      "text/plain": [
       "array([1, 0, 1, 1, 1, 0, 1, 0, 0, 0, 0, 1, 0, 1, 1, 1, 1, 1, 1, 0])"
      ]
     },
     "metadata": {},
     "output_type": "display_data"
    }
   ],
   "source": [
    "lr = LogisticRegression()\n",
    "lr.fit(X_train,y_train)\n",
    "y_ = lr.predict(X_test)\n",
    "display(y_test,y_)"
   ]
  },
  {
   "cell_type": "code",
   "execution_count": 6,
   "metadata": {},
   "outputs": [
    {
     "data": {
      "text/plain": [
       "array([[ 0.46678334, -0.79317267,  2.16664243,  0.92779621]])"
      ]
     },
     "execution_count": 6,
     "metadata": {},
     "output_type": "execute_result"
    }
   ],
   "source": [
    "lr.coef_"
   ]
  },
  {
   "cell_type": "code",
   "execution_count": 7,
   "metadata": {},
   "outputs": [
    {
     "data": {
      "text/plain": [
       "array([-6.79982852])"
      ]
     },
     "execution_count": 7,
     "metadata": {},
     "output_type": "execute_result"
    }
   ],
   "source": [
    "lr.intercept_"
   ]
  },
  {
   "cell_type": "code",
   "execution_count": 9,
   "metadata": {
    "collapsed": true
   },
   "outputs": [
    {
     "data": {
      "text/plain": [
       "array([1, 0, 1, 1, 1, 0, 1, 0, 0, 0, 0, 1, 0, 1, 1, 1, 1, 1, 1, 0])"
      ]
     },
     "metadata": {},
     "output_type": "display_data"
    },
    {
     "data": {
      "text/plain": [
       "array([[0.14337861, 0.85662139],\n",
       "       [0.97523506, 0.02476494],\n",
       "       [0.02515423, 0.97484577],\n",
       "       [0.01271956, 0.98728044],\n",
       "       [0.00782748, 0.99217252],\n",
       "       [0.97765195, 0.02234805],\n",
       "       [0.01117466, 0.98882534],\n",
       "       [0.98637083, 0.01362917],\n",
       "       [0.98719443, 0.01280557],\n",
       "       [0.96527498, 0.03472502],\n",
       "       [0.94732559, 0.05267441],\n",
       "       [0.03458261, 0.96541739],\n",
       "       [0.99095173, 0.00904827],\n",
       "       [0.05688059, 0.94311941],\n",
       "       [0.02344618, 0.97655382],\n",
       "       [0.00172885, 0.99827115],\n",
       "       [0.02414183, 0.97585817],\n",
       "       [0.0787983 , 0.9212017 ],\n",
       "       [0.02049896, 0.97950104],\n",
       "       [0.9740969 , 0.0259031 ]])"
      ]
     },
     "metadata": {},
     "output_type": "display_data"
    }
   ],
   "source": [
    "# 算法，方法，预测概率,比较大小，进行划分\n",
    "proba_ = lr.predict_proba(X_test)\n",
    "display(y_,proba_)"
   ]
  },
  {
   "cell_type": "code",
   "execution_count": 11,
   "metadata": {},
   "outputs": [
    {
     "data": {
      "text/plain": [
       "array([1, 0, 1, 1, 1, 0, 1, 0, 0, 0, 0, 1, 0, 1, 1, 1, 1, 1, 1, 0])"
      ]
     },
     "execution_count": 11,
     "metadata": {},
     "output_type": "execute_result"
    }
   ],
   "source": [
    "y_"
   ]
  },
  {
   "cell_type": "code",
   "execution_count": 10,
   "metadata": {
    "scrolled": true
   },
   "outputs": [
    {
     "data": {
      "text/plain": [
       "array([1, 0, 1, 1, 1, 0, 1, 0, 0, 0, 0, 1, 0, 1, 1, 1, 1, 1, 1, 0],\n",
       "      dtype=int64)"
      ]
     },
     "execution_count": 10,
     "metadata": {},
     "output_type": "execute_result"
    }
   ],
   "source": [
    "proba_.argmax(axis= 1)"
   ]
  },
  {
   "cell_type": "code",
   "execution_count": 14,
   "metadata": {},
   "outputs": [
    {
     "data": {
      "text/plain": [
       "array([[ 0.46678334, -0.79317267,  2.16664243,  0.92779621]])"
      ]
     },
     "execution_count": 14,
     "metadata": {},
     "output_type": "execute_result"
    }
   ],
   "source": [
    "w_ = lr.coef_\n",
    "w_"
   ]
  },
  {
   "cell_type": "code",
   "execution_count": 15,
   "metadata": {},
   "outputs": [
    {
     "data": {
      "text/plain": [
       "array([-6.79982852])"
      ]
     },
     "execution_count": 15,
     "metadata": {},
     "output_type": "execute_result"
    }
   ],
   "source": [
    "b_ = lr.intercept_\n",
    "b_"
   ]
  },
  {
   "cell_type": "code",
   "execution_count": 23,
   "metadata": {
    "collapsed": true
   },
   "outputs": [
    {
     "data": {
      "text/plain": [
       "array([[0.14337861, 0.85662139],\n",
       "       [0.97523506, 0.02476494],\n",
       "       [0.02515423, 0.97484577],\n",
       "       [0.01271956, 0.98728044],\n",
       "       [0.00782748, 0.99217252],\n",
       "       [0.97765195, 0.02234805],\n",
       "       [0.01117466, 0.98882534],\n",
       "       [0.98637083, 0.01362917],\n",
       "       [0.98719443, 0.01280557],\n",
       "       [0.96527498, 0.03472502],\n",
       "       [0.94732559, 0.05267441],\n",
       "       [0.03458261, 0.96541739],\n",
       "       [0.99095173, 0.00904827],\n",
       "       [0.05688059, 0.94311941],\n",
       "       [0.02344618, 0.97655382],\n",
       "       [0.00172885, 0.99827115],\n",
       "       [0.02414183, 0.97585817],\n",
       "       [0.0787983 , 0.9212017 ],\n",
       "       [0.02049896, 0.97950104],\n",
       "       [0.9740969 , 0.0259031 ]])"
      ]
     },
     "execution_count": 23,
     "metadata": {},
     "output_type": "execute_result"
    }
   ],
   "source": [
    "proba_"
   ]
  },
  {
   "cell_type": "code",
   "execution_count": 24,
   "metadata": {},
   "outputs": [
    {
     "data": {
      "text/plain": [
       "array([0.85662139, 0.02476494, 0.97484577, 0.98728044, 0.99217252,\n",
       "       0.02234805, 0.98882534, 0.01362917, 0.01280557, 0.03472502,\n",
       "       0.05267441, 0.96541739, 0.00904827, 0.94311941, 0.97655382,\n",
       "       0.99827115, 0.97585817, 0.9212017 , 0.97950104, 0.0259031 ])"
      ]
     },
     "execution_count": 24,
     "metadata": {},
     "output_type": "execute_result"
    }
   ],
   "source": [
    "# 根据线性方程求解的目标值\n",
    "f = X_test.dot(w_[0]) + b_\n",
    "f\n",
    "# 概率sigmoid,计算出来的是类别1的概率\n",
    "p1 = 1/(1 + np.e**(-f))\n",
    "p1"
   ]
  },
  {
   "cell_type": "code",
   "execution_count": 25,
   "metadata": {
    "scrolled": true
   },
   "outputs": [
    {
     "data": {
      "text/plain": [
       "array([0.14337861, 0.97523506, 0.02515423, 0.01271956, 0.00782748,\n",
       "       0.97765195, 0.01117466, 0.98637083, 0.98719443, 0.96527498,\n",
       "       0.94732559, 0.03458261, 0.99095173, 0.05688059, 0.02344618,\n",
       "       0.00172885, 0.02414183, 0.0787983 , 0.02049896, 0.9740969 ])"
      ]
     },
     "execution_count": 25,
     "metadata": {},
     "output_type": "execute_result"
    }
   ],
   "source": [
    "p0 = 1 - p1\n",
    "p0"
   ]
  },
  {
   "cell_type": "code",
   "execution_count": 27,
   "metadata": {
    "collapsed": true
   },
   "outputs": [
    {
     "data": {
      "text/plain": [
       "array([[0.14337861, 0.85662139],\n",
       "       [0.97523506, 0.02476494],\n",
       "       [0.02515423, 0.97484577],\n",
       "       [0.01271956, 0.98728044],\n",
       "       [0.00782748, 0.99217252]])"
      ]
     },
     "execution_count": 27,
     "metadata": {},
     "output_type": "execute_result"
    }
   ],
   "source": [
    "proba_[:5]"
   ]
  },
  {
   "cell_type": "code",
   "execution_count": 26,
   "metadata": {
    "collapsed": true
   },
   "outputs": [
    {
     "data": {
      "text/plain": [
       "array([[0.14337861, 0.85662139],\n",
       "       [0.97523506, 0.02476494],\n",
       "       [0.02515423, 0.97484577],\n",
       "       [0.01271956, 0.98728044],\n",
       "       [0.00782748, 0.99217252],\n",
       "       [0.97765195, 0.02234805],\n",
       "       [0.01117466, 0.98882534],\n",
       "       [0.98637083, 0.01362917],\n",
       "       [0.98719443, 0.01280557],\n",
       "       [0.96527498, 0.03472502],\n",
       "       [0.94732559, 0.05267441],\n",
       "       [0.03458261, 0.96541739],\n",
       "       [0.99095173, 0.00904827],\n",
       "       [0.05688059, 0.94311941],\n",
       "       [0.02344618, 0.97655382],\n",
       "       [0.00172885, 0.99827115],\n",
       "       [0.02414183, 0.97585817],\n",
       "       [0.0787983 , 0.9212017 ],\n",
       "       [0.02049896, 0.97950104],\n",
       "       [0.9740969 , 0.0259031 ]])"
      ]
     },
     "execution_count": 26,
     "metadata": {},
     "output_type": "execute_result"
    }
   ],
   "source": [
    "np.c_[p0,p1]"
   ]
  },
  {
   "cell_type": "code",
   "execution_count": null,
   "metadata": {},
   "outputs": [],
   "source": [
    "# 两个选项\n",
    "# 上帝马云\n",
    "A -----> 100万美金 100%  -----> 100万美金\n",
    "B -----> 1亿       50%\n",
    "\n",
    "# 概率角度，选择B ----> 5000万美金\n",
    "\n",
    "# 选择权买给别人，价格合理，一定会有人要"
   ]
  }
 ],
 "metadata": {
  "kernelspec": {
   "display_name": "Python 3",
   "language": "python",
   "name": "python3"
  },
  "language_info": {
   "codemirror_mode": {
    "name": "ipython",
    "version": 3
   },
   "file_extension": ".py",
   "mimetype": "text/x-python",
   "name": "python",
   "nbconvert_exporter": "python",
   "pygments_lexer": "ipython3",
   "version": "3.7.4"
  }
 },
 "nbformat": 4,
 "nbformat_minor": 2
}
