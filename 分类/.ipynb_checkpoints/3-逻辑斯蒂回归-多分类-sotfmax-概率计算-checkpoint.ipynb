{
 "cells": [
  {
   "cell_type": "markdown",
   "metadata": {},
   "source": [
    "### 导包"
   ]
  },
  {
   "cell_type": "code",
   "execution_count": 1,
   "metadata": {
    "collapsed": true
   },
   "outputs": [
    {
     "name": "stderr",
     "output_type": "stream",
     "text": [
      "d:\\python3.7.4\\lib\\importlib\\_bootstrap.py:219: RuntimeWarning: numpy.ufunc size changed, may indicate binary incompatibility. Expected 192 from C header, got 216 from PyObject\n",
      "  return f(*args, **kwds)\n"
     ]
    }
   ],
   "source": [
    "import numpy as np\n",
    "\n",
    "from sklearn.linear_model import LogisticRegression\n",
    "\n",
    "from sklearn import datasets\n",
    "\n",
    "from sklearn.model_selection import train_test_split"
   ]
  },
  {
   "cell_type": "markdown",
   "metadata": {},
   "source": [
    "### 获取数据，分割"
   ]
  },
  {
   "cell_type": "code",
   "execution_count": 2,
   "metadata": {},
   "outputs": [],
   "source": [
    "X,y = datasets.load_iris(True)\n",
    "X_train,X_test,y_train,y_test = train_test_split(X,y,test_size = 0.2)"
   ]
  },
  {
   "cell_type": "markdown",
   "metadata": {},
   "source": [
    "### 声明算法"
   ]
  },
  {
   "cell_type": "code",
   "execution_count": 56,
   "metadata": {
    "collapsed": true
   },
   "outputs": [
    {
     "name": "stderr",
     "output_type": "stream",
     "text": [
      "d:\\python3.7.4\\lib\\site-packages\\sklearn\\linear_model\\_logistic.py:939: ConvergenceWarning: lbfgs failed to converge (status=1):\n",
      "STOP: TOTAL NO. of ITERATIONS REACHED LIMIT.\n",
      "\n",
      "Increase the number of iterations (max_iter) or scale the data as shown in:\n",
      "    https://scikit-learn.org/stable/modules/preprocessing.html.\n",
      "Please also refer to the documentation for alternative solver options:\n",
      "    https://scikit-learn.org/stable/modules/linear_model.html#logistic-regression\n",
      "  extra_warning_msg=_LOGISTIC_SOLVER_CONVERGENCE_MSG)\n"
     ]
    },
    {
     "data": {
      "text/plain": [
       "array([0, 2, 1, 0, 2, 0, 0, 0, 1, 0, 1, 2, 0, 0, 0, 2, 2, 1, 1, 2, 2, 2,\n",
       "       0, 1, 1, 0, 0, 0, 1, 0])"
      ]
     },
     "metadata": {},
     "output_type": "display_data"
    },
    {
     "data": {
      "text/plain": [
       "array([0, 2, 1, 0, 2, 0, 0, 0, 1, 0, 2, 2, 0, 0, 0, 2, 2, 1, 1, 2, 2, 2,\n",
       "       0, 1, 1, 0, 0, 0, 1, 0])"
      ]
     },
     "metadata": {},
     "output_type": "display_data"
    }
   ],
   "source": [
    "'''multi_class : {'ovr', 'multinomial', 'auto'}, default='auto'\n",
    "    If the option chosen is 'ovr', then a binary problem is fit for each\n",
    "    label. For 'multinomial' the loss minimised is the multinomial loss fit\n",
    "    across the entire probability distribution, *even when the data is\n",
    "    binary*. 'multinomial' is unavailable when solver='liblinear'.\n",
    "    'auto' selects 'ovr' if the data is binary, or if solver='liblinear',\n",
    "    and otherwise selects 'multinomial'.'''\n",
    "lr = LogisticRegression()\n",
    "\n",
    "lr.fit(X_train,y_train)\n",
    "\n",
    "y_ = lr.predict(X_test)\n",
    "display(y_test,y_)"
   ]
  },
  {
   "cell_type": "markdown",
   "metadata": {},
   "source": [
    "### 分类问题的评价指标：准确率"
   ]
  },
  {
   "cell_type": "code",
   "execution_count": 40,
   "metadata": {},
   "outputs": [
    {
     "data": {
      "text/plain": [
       "0.9666666666666667"
      ]
     },
     "execution_count": 40,
     "metadata": {},
     "output_type": "execute_result"
    }
   ],
   "source": [
    "(y_ == y_test).sum()/30"
   ]
  },
  {
   "cell_type": "code",
   "execution_count": 6,
   "metadata": {},
   "outputs": [
    {
     "data": {
      "text/plain": [
       "0.9666666666666667"
      ]
     },
     "execution_count": 6,
     "metadata": {},
     "output_type": "execute_result"
    }
   ],
   "source": [
    "(y_ == y_test).mean()"
   ]
  },
  {
   "cell_type": "code",
   "execution_count": 7,
   "metadata": {
    "scrolled": true
   },
   "outputs": [
    {
     "data": {
      "text/plain": [
       "0.9666666666666667"
      ]
     },
     "execution_count": 7,
     "metadata": {},
     "output_type": "execute_result"
    }
   ],
   "source": [
    "lr.score(X_test,y_test)"
   ]
  },
  {
   "cell_type": "markdown",
   "metadata": {},
   "source": [
    "### 三分类问题，本质也是概率问题"
   ]
  },
  {
   "cell_type": "code",
   "execution_count": 57,
   "metadata": {
    "collapsed": true
   },
   "outputs": [
    {
     "data": {
      "text/plain": [
       "array([[9.67990423e-01, 3.20094619e-02, 1.15216398e-07],\n",
       "       [1.10137875e-06, 6.17739714e-03, 9.93821501e-01],\n",
       "       [3.03686762e-01, 6.94678329e-01, 1.63490964e-03],\n",
       "       [9.74135393e-01, 2.58645469e-02, 6.00669985e-08],\n",
       "       [3.85803843e-04, 2.47300251e-01, 7.52313945e-01],\n",
       "       [9.71253467e-01, 2.87464945e-02, 3.80979623e-08],\n",
       "       [9.76663635e-01, 2.33363220e-02, 4.34389809e-08],\n",
       "       [9.46305194e-01, 5.36943992e-02, 4.06920445e-07],\n",
       "       [6.41621176e-03, 8.03462212e-01, 1.90121576e-01],\n",
       "       [9.71297673e-01, 2.87023051e-02, 2.22292304e-08],\n",
       "       [3.18677951e-03, 4.02521240e-01, 5.94291980e-01],\n",
       "       [1.05222097e-06, 1.91295371e-02, 9.80869411e-01],\n",
       "       [9.74038713e-01, 2.59612099e-02, 7.72475736e-08],\n",
       "       [9.71284795e-01, 2.87151614e-02, 4.39813228e-08],\n",
       "       [9.46050918e-01, 5.39486379e-02, 4.43650712e-07],\n",
       "       [1.15422966e-06, 2.33961830e-02, 9.76602663e-01],\n",
       "       [1.45314833e-05, 2.76124579e-02, 9.72373011e-01],\n",
       "       [4.24879330e-02, 9.40661673e-01, 1.68503943e-02],\n",
       "       [1.13232988e-03, 5.79867432e-01, 4.19000238e-01],\n",
       "       [9.13360095e-05, 8.14153218e-02, 9.18493342e-01],\n",
       "       [1.12282942e-07, 5.43188973e-03, 9.94567998e-01],\n",
       "       [6.73867636e-08, 5.58730379e-03, 9.94412629e-01],\n",
       "       [9.76627172e-01, 2.33727536e-02, 7.39202564e-08],\n",
       "       [2.02240238e-01, 7.93798190e-01, 3.96157198e-03],\n",
       "       [5.26995960e-02, 9.37853932e-01, 9.44647170e-03],\n",
       "       [9.71202712e-01, 2.87971958e-02, 9.18440329e-08],\n",
       "       [9.68004761e-01, 3.19951804e-02, 5.82332608e-08],\n",
       "       [9.84700980e-01, 1.52989897e-02, 3.04055423e-08],\n",
       "       [6.53986967e-03, 9.10431129e-01, 8.30290013e-02],\n",
       "       [9.83110844e-01, 1.68891406e-02, 1.48758934e-08]])"
      ]
     },
     "execution_count": 57,
     "metadata": {},
     "output_type": "execute_result"
    }
   ],
   "source": [
    "proba_ = lr.predict_proba(X_test)\n",
    "proba_"
   ]
  },
  {
   "cell_type": "markdown",
   "metadata": {},
   "source": [
    "### 获取逻辑斯蒂回归线性方程"
   ]
  },
  {
   "cell_type": "code",
   "execution_count": 58,
   "metadata": {
    "scrolled": false
   },
   "outputs": [],
   "source": [
    "w_ = lr.coef_\n",
    "b_ = lr.intercept_"
   ]
  },
  {
   "cell_type": "code",
   "execution_count": 59,
   "metadata": {
    "collapsed": true
   },
   "outputs": [
    {
     "data": {
      "text/plain": [
       "array([[  6.45103711,   3.04184646,  -9.49288356],\n",
       "       [ -7.44827986,   1.18380963,   6.26447023],\n",
       "       [  1.46565237,   2.2931045 ,  -3.75875687],\n",
       "       [  6.7434258 ,   3.11474868,  -9.85817448],\n",
       "       [ -4.67953645,   1.78349296,   2.89604349],\n",
       "       [  6.85800296,   3.33793132, -10.19593427],\n",
       "       [  6.88747564,   3.15334437, -10.04082001],\n",
       "       [  5.84290481,   2.97364837,  -8.81655318],\n",
       "       [ -2.73964605,   2.09045623,   0.64918982],\n",
       "       [  7.03813033,   3.51647478, -10.55460511],\n",
       "       [ -3.35569897,   1.48303804,   1.87266093],\n",
       "       [ -7.85112573,   1.95695999,   5.89416574],\n",
       "       [  6.65826455,   3.033417  ,  -9.69168155],\n",
       "       [  6.8105199 ,   3.28932543, -10.09984532],\n",
       "       [  5.81234444,   2.94808049,  -8.76042494],\n",
       "       [ -7.855099  ,   2.06179601,   5.793303  ],\n",
       "       [ -6.22029399,   1.32941077,   4.89088322],\n",
       "       [ -0.72417246,   2.37319097,  -1.64901851],\n",
       "       [ -4.05070543,   2.18781673,   1.8628887 ],\n",
       "       [ -5.33623949,   1.45653416,   3.87970533],\n",
       "       [ -8.92785759,   1.85891811,   7.06893949],\n",
       "       [ -9.27759099,   2.0479678 ,   7.22962319],\n",
       "       [  6.70972088,   2.97718687,  -9.68690776],\n",
       "       [  0.85514747,   2.22252044,  -3.07766791],\n",
       "       [ -0.38667331,   2.49231311,  -2.1056398 ],\n",
       "       [  6.56407038,   3.04581318,  -9.60988355],\n",
       "       [  6.67864754,   3.26899581,  -9.94764335],\n",
       "       [  7.15259164,   2.9880404 , -10.14063204],\n",
       "       [ -2.49242458,   2.44357644,   0.04884814],\n",
       "       [  7.35684715,   3.29279613, -10.64964328]])"
      ]
     },
     "execution_count": 59,
     "metadata": {},
     "output_type": "execute_result"
    }
   ],
   "source": [
    "f = X_test.dot(w_.T) + b_\n",
    "f"
   ]
  },
  {
   "cell_type": "markdown",
   "metadata": {},
   "source": [
    "![](https://timgsa.baidu.com/timg?image&quality=80&size=b9999_10000&sec=1578723118481&di=9e6dac5ad192e01badc04e3720a29679&imgtype=0&src=http%3A%2F%2Fws1.sinaimg.cn%2Flarge%2Fb4d4e385ly1fnwdjpyd06j20kt0f7abd.jpg)"
   ]
  },
  {
   "cell_type": "markdown",
   "metadata": {},
   "source": [
    "$$\\frac{e^{f(x)}}{\\sum\\limits_{i = 1}^ne^{f(x_i)}}$$"
   ]
  },
  {
   "cell_type": "markdown",
   "metadata": {},
   "source": [
    "### softmax将线性回归求解的目标值转化成了概率"
   ]
  },
  {
   "cell_type": "code",
   "execution_count": 61,
   "metadata": {
    "collapsed": true
   },
   "outputs": [
    {
     "data": {
      "text/plain": [
       "array([[9.67990423e-01, 3.20094619e-02, 1.15216398e-07],\n",
       "       [1.10137875e-06, 6.17739714e-03, 9.93821501e-01],\n",
       "       [3.03686762e-01, 6.94678329e-01, 1.63490964e-03],\n",
       "       [9.74135393e-01, 2.58645469e-02, 6.00669985e-08],\n",
       "       [3.85803843e-04, 2.47300251e-01, 7.52313945e-01]])"
      ]
     },
     "execution_count": 61,
     "metadata": {},
     "output_type": "execute_result"
    }
   ],
   "source": [
    "proba_[:5]"
   ]
  },
  {
   "cell_type": "code",
   "execution_count": 62,
   "metadata": {},
   "outputs": [
    {
     "data": {
      "text/plain": [
       "array([0, 2, 1, 0, 2, 0, 0, 0, 1, 0, 2, 2, 0, 0, 0, 2, 2, 1, 1, 2, 2, 2,\n",
       "       0, 1, 1, 0, 0, 0, 1, 0], dtype=int64)"
      ]
     },
     "execution_count": 62,
     "metadata": {},
     "output_type": "execute_result"
    }
   ],
   "source": [
    "p = np.e**(f)/(np.e**(f)).sum(axis = 1).reshape(-1,1)\n",
    "p.argmax(axis = 1)"
   ]
  }
 ],
 "metadata": {
  "kernelspec": {
   "display_name": "Python 3",
   "language": "python",
   "name": "python3"
  },
  "language_info": {
   "codemirror_mode": {
    "name": "ipython",
    "version": 3
   },
   "file_extension": ".py",
   "mimetype": "text/x-python",
   "name": "python",
   "nbconvert_exporter": "python",
   "pygments_lexer": "ipython3",
   "version": "3.7.4"
  }
 },
 "nbformat": 4,
 "nbformat_minor": 2
}
