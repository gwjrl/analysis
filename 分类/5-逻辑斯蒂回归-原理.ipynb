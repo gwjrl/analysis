{
 "cells": [
  {
   "cell_type": "code",
   "execution_count": null,
   "metadata": {},
   "outputs": [],
   "source": [
    "'''假如有一个罐子，里面有黑白两种颜色的球，\n",
    "数目多少不知，两种颜色的比例也不知。\n",
    "我们想知道罐中白球和黑球的比例，但我们不能把罐中的球全部拿出来数。\n",
    "现在我们可以每次任意从已经摇匀的罐中拿一个球出来，记录球的颜色，\n",
    "然后把拿出来的球 再放回罐中。这个过程可以重复，\n",
    "我们可以用记录的球的颜色来估计罐中黑白球的比例。假如在前面的一百次重复记录中，\n",
    "有七十次是白球，请问罐中白球所占的比例最有可能是多少？'''\n",
    "# 70%\n",
    "# 最大似然，最有可能情况\n",
    "# 白球概率p\n",
    "# 黑球概率1-p"
   ]
  },
  {
   "cell_type": "markdown",
   "metadata": {},
   "source": [
    "$$y = P^{70}(1-p)^{30}$$"
   ]
  },
  {
   "cell_type": "markdown",
   "metadata": {},
   "source": [
    "$$y' = 70P^{69}(1-P)^{30} + P^{70}*30(1-P)^{29}*-1$$"
   ]
  },
  {
   "cell_type": "markdown",
   "metadata": {},
   "source": [
    "$$0 = 70P^{69}(1-P)^{30} + P^{70}*30(1-P)^{29}*-1$$"
   ]
  },
  {
   "cell_type": "markdown",
   "metadata": {},
   "source": [
    "$$0 = 70(1-P) + P*30*-1$$"
   ]
  },
  {
   "cell_type": "markdown",
   "metadata": {},
   "source": [
    "$$0 = 70 -  100P$$"
   ]
  },
  {
   "cell_type": "code",
   "execution_count": null,
   "metadata": {},
   "outputs": [],
   "source": [
    "P = 0.7"
   ]
  }
 ],
 "metadata": {
  "kernelspec": {
   "display_name": "Python 3",
   "language": "python",
   "name": "python3"
  },
  "language_info": {
   "codemirror_mode": {
    "name": "ipython",
    "version": 3
   },
   "file_extension": ".py",
   "mimetype": "text/x-python",
   "name": "python",
   "nbconvert_exporter": "python",
   "pygments_lexer": "ipython3",
   "version": "3.7.4"
  }
 },
 "nbformat": 4,
 "nbformat_minor": 2
}
