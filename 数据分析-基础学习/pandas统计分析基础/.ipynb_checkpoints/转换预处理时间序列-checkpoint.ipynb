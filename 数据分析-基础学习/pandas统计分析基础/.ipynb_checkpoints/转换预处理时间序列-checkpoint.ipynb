{
 "cells": [
  {
   "cell_type": "code",
   "execution_count": 1,
   "metadata": {},
   "outputs": [],
   "source": [
    "import pandas as pd\n"
   ]
  },
  {
   "cell_type": "code",
   "execution_count": 2,
   "metadata": {},
   "outputs": [],
   "source": [
    "order = pd.read_table('data/meal_order_info.csv', sep=',', encoding='gbk')"
   ]
  },
  {
   "cell_type": "code",
   "execution_count": 3,
   "metadata": {},
   "outputs": [
    {
     "data": {
      "text/plain": [
       "dtype('O')"
      ]
     },
     "execution_count": 3,
     "metadata": {},
     "output_type": "execute_result"
    }
   ],
   "source": [
    "\n",
    "order['lock_time'].dtypes"
   ]
  },
  {
   "cell_type": "code",
   "execution_count": 5,
   "metadata": {},
   "outputs": [
    {
     "data": {
      "text/plain": [
       "dtype('<M8[ns]')"
      ]
     },
     "execution_count": 5,
     "metadata": {},
     "output_type": "execute_result"
    }
   ],
   "source": [
    "# 利用to_datetime进行实践转换\n",
    "order['lock_time'] = pd.to_datetime(order['lock_time'])\n",
    "order['lock_time'].dtypes"
   ]
  },
  {
   "cell_type": "code",
   "execution_count": 6,
   "metadata": {},
   "outputs": [
    {
     "data": {
      "text/plain": [
       "Timestamp('1677-09-21 00:12:43.145225')"
      ]
     },
     "execution_count": 6,
     "metadata": {},
     "output_type": "execute_result"
    }
   ],
   "source": [
    "pd.Timestamp.min  # timestamp 最小时间"
   ]
  },
  {
   "cell_type": "code",
   "execution_count": 7,
   "metadata": {},
   "outputs": [
    {
     "data": {
      "text/plain": [
       "Timestamp('2262-04-11 23:47:16.854775807')"
      ]
     },
     "execution_count": 7,
     "metadata": {},
     "output_type": "execute_result"
    }
   ],
   "source": [
    "pd.Timestamp.max  # timestamp 最大时间"
   ]
  },
  {
   "cell_type": "code",
   "execution_count": 9,
   "metadata": {},
   "outputs": [
    {
     "data": {
      "text/plain": [
       "DatetimeIndex(['2016-08-01 11:11:46', '2016-08-01 11:31:55',\n",
       "               '2016-08-01 12:54:37', '2016-08-01 13:08:20',\n",
       "               '2016-08-01 13:07:16', '2016-08-01 13:23:42',\n",
       "               '2016-08-01 13:34:18', '2016-08-01 13:50:16',\n",
       "               '2016-08-01 17:18:20', '2016-08-01 17:44:27',\n",
       "               ...\n",
       "               '2016-08-31 18:18:31', '2016-08-31 18:42:42',\n",
       "               '2016-08-31 18:57:56', '2016-08-31 19:19:31',\n",
       "               '2016-08-31 20:39:13', '2016-08-31 21:31:48',\n",
       "               '2016-08-31 21:56:12', '2016-08-31 21:33:34',\n",
       "               '2016-08-31 21:55:39', '2016-08-31 21:32:56'],\n",
       "              dtype='datetime64[ns]', name='lock_time', length=945, freq=None)"
      ]
     },
     "execution_count": 9,
     "metadata": {},
     "output_type": "execute_result"
    }
   ],
   "source": [
    "dateIndex = pd.DatetimeIndex(order['lock_time']) # 转换为时间点索引\n",
    "dateIndex"
   ]
  },
  {
   "cell_type": "code",
   "execution_count": 11,
   "metadata": {},
   "outputs": [
    {
     "data": {
      "text/plain": [
       "PeriodIndex(['2016-08-01 11:11:46', '2016-08-01 11:31:55',\n",
       "             '2016-08-01 12:54:37', '2016-08-01 13:08:20',\n",
       "             '2016-08-01 13:07:16', '2016-08-01 13:23:42',\n",
       "             '2016-08-01 13:34:18', '2016-08-01 13:50:16',\n",
       "             '2016-08-01 17:18:20', '2016-08-01 17:44:27',\n",
       "             ...\n",
       "             '2016-08-31 18:18:31', '2016-08-31 18:42:42',\n",
       "             '2016-08-31 18:57:56', '2016-08-31 19:19:31',\n",
       "             '2016-08-31 20:39:13', '2016-08-31 21:31:48',\n",
       "             '2016-08-31 21:56:12', '2016-08-31 21:33:34',\n",
       "             '2016-08-31 21:55:39', '2016-08-31 21:32:56'],\n",
       "            dtype='period[S]', name='lock_time', length=945, freq='S')"
      ]
     },
     "execution_count": 11,
     "metadata": {},
     "output_type": "execute_result"
    }
   ],
   "source": [
    "# 转换为时间段索引\n",
    "periodIndex = pd.PeriodIndex(order['lock_time'], freq=\"S\")  # 此函数需要指定时间间隔\n",
    "periodIndex"
   ]
  },
  {
   "cell_type": "markdown",
   "metadata": {},
   "source": [
    "#### 提取时间序列"
   ]
  },
  {
   "cell_type": "code",
   "execution_count": 12,
   "metadata": {},
   "outputs": [
    {
     "data": {
      "text/plain": [
       "[2016, 2016, 2016, 2016, 2016]"
      ]
     },
     "execution_count": 12,
     "metadata": {},
     "output_type": "execute_result"
    }
   ],
   "source": [
    "year = [i.year for i in order['lock_time']]\n",
    "year[:5]"
   ]
  },
  {
   "cell_type": "code",
   "execution_count": 13,
   "metadata": {},
   "outputs": [
    {
     "data": {
      "text/plain": [
       "[8, 8, 8, 8, 8]"
      ]
     },
     "execution_count": 13,
     "metadata": {},
     "output_type": "execute_result"
    }
   ],
   "source": [
    "month = [i.month for i in order['lock_time']]\n",
    "month[:5]"
   ]
  },
  {
   "cell_type": "code",
   "execution_count": 14,
   "metadata": {},
   "outputs": [
    {
     "data": {
      "text/plain": [
       "[1, 1, 1, 1, 1]"
      ]
     },
     "execution_count": 14,
     "metadata": {},
     "output_type": "execute_result"
    }
   ],
   "source": [
    "day = [i.day for i in order['lock_time']]\n",
    "day[:5]"
   ]
  },
  {
   "cell_type": "code",
   "execution_count": 15,
   "metadata": {},
   "outputs": [
    {
     "data": {
      "text/plain": [
       "[<function Timestamp.weekday>,\n",
       " <function Timestamp.weekday>,\n",
       " <function Timestamp.weekday>,\n",
       " <function Timestamp.weekday>,\n",
       " <function Timestamp.weekday>]"
      ]
     },
     "execution_count": 15,
     "metadata": {},
     "output_type": "execute_result"
    }
   ],
   "source": [
    "weekday = [i.weekday for i in order['lock_time']]\n",
    "weekday[:5]"
   ]
  },
  {
   "cell_type": "code",
   "execution_count": 16,
   "metadata": {},
   "outputs": [
    {
     "data": {
      "text/plain": [
       "Index(['Monday', 'Monday', 'Monday', 'Monday', 'Monday'], dtype='object', name='lock_time')"
      ]
     },
     "execution_count": 16,
     "metadata": {},
     "output_type": "execute_result"
    }
   ],
   "source": [
    "dateIndex.weekday_name[:5]"
   ]
  },
  {
   "cell_type": "code",
   "execution_count": 17,
   "metadata": {},
   "outputs": [
    {
     "data": {
      "text/plain": [
       "Int64Index([0, 0, 0, 0, 0], dtype='int64', name='lock_time')"
      ]
     },
     "execution_count": 17,
     "metadata": {},
     "output_type": "execute_result"
    }
   ],
   "source": [
    "periodIndex.weekday[:5]"
   ]
  },
  {
   "cell_type": "markdown",
   "metadata": {},
   "source": [
    "#### 实现时间的加减"
   ]
  },
  {
   "cell_type": "code",
   "execution_count": 20,
   "metadata": {},
   "outputs": [
    {
     "data": {
      "text/plain": [
       "0   2016-08-01 11:11:46\n",
       "1   2016-08-01 11:31:55\n",
       "2   2016-08-01 12:54:37\n",
       "3   2016-08-01 13:08:20\n",
       "4   2016-08-01 13:07:16\n",
       "Name: lock_time, dtype: datetime64[ns]"
      ]
     },
     "execution_count": 20,
     "metadata": {},
     "output_type": "execute_result"
    }
   ],
   "source": [
    "time1 = order['lock_time'] + pd.Timedelta(days=1)\n",
    "time2 = order['lock_time'] - pd.Timedelta(days=2)\n",
    "order['lock_time'][:5]"
   ]
  },
  {
   "cell_type": "code",
   "execution_count": 19,
   "metadata": {},
   "outputs": [
    {
     "data": {
      "text/plain": [
       "0   2016-08-02 11:11:46\n",
       "1   2016-08-02 11:31:55\n",
       "2   2016-08-02 12:54:37\n",
       "3   2016-08-02 13:08:20\n",
       "4   2016-08-02 13:07:16\n",
       "Name: lock_time, dtype: datetime64[ns]"
      ]
     },
     "execution_count": 19,
     "metadata": {},
     "output_type": "execute_result"
    }
   ],
   "source": [
    "time1[:5]  # 加之后的数据"
   ]
  },
  {
   "cell_type": "code",
   "execution_count": 21,
   "metadata": {},
   "outputs": [
    {
     "data": {
      "text/plain": [
       "0   2016-07-30 11:11:46\n",
       "1   2016-07-30 11:31:55\n",
       "2   2016-07-30 12:54:37\n",
       "3   2016-07-30 13:08:20\n",
       "4   2016-07-30 13:07:16\n",
       "Name: lock_time, dtype: datetime64[ns]"
      ]
     },
     "execution_count": 21,
     "metadata": {},
     "output_type": "execute_result"
    }
   ],
   "source": [
    "time2[:5]  # 减之后数据"
   ]
  },
  {
   "cell_type": "code",
   "execution_count": null,
   "metadata": {},
   "outputs": [],
   "source": []
  }
 ],
 "metadata": {
  "kernelspec": {
   "display_name": "Python 3",
   "language": "python",
   "name": "python3"
  },
  "language_info": {
   "codemirror_mode": {
    "name": "ipython",
    "version": 3
   },
   "file_extension": ".py",
   "mimetype": "text/x-python",
   "name": "python",
   "nbconvert_exporter": "python",
   "pygments_lexer": "ipython3",
   "version": "3.7.4"
  }
 },
 "nbformat": 4,
 "nbformat_minor": 2
}
