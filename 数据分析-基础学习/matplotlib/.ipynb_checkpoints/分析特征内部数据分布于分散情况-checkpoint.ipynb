{
 "cells": [
  {
   "cell_type": "code",
   "execution_count": 3,
   "metadata": {},
   "outputs": [],
   "source": [
    "import numpy as np\n",
    "import matplotlib.pyplot as plt"
   ]
  },
  {
   "cell_type": "markdown",
   "metadata": {},
   "source": [
    "#### 绘制直方图"
   ]
  },
  {
   "cell_type": "code",
   "execution_count": 4,
   "metadata": {},
   "outputs": [],
   "source": [
    "plt.rcParams['font.sans-serif'] = 'SimHei'    # 设置中文显示\n",
    "plt.rcParams['axes.unicode_minus'] = False    # "
   ]
  },
  {
   "cell_type": "code",
   "execution_count": 5,
   "metadata": {
    "collapsed": true
   },
   "outputs": [
    {
     "data": {
      "image/png": "[encoded data removed]",
      "text/plain": [
       "<Figure size 432x360 with 1 Axes>"
      ]
     },
     "metadata": {
      "needs_background": "light"
     },
     "output_type": "display_data"
    }
   ],
   "source": [
    "data = np.load('../data/国民经济核算季度数据.npz', allow_pickle=True)\n",
    "name = data['columns']   # 提取其中的columns数组\n",
    "values = data['values']  # 提取其中的values数组，视为数据的存在位置\n",
    "label = ['第一产业', '第二产业', '第三产业']   # 刻度标签\n",
    "plt.figure(figsize=(6,5))   # 设置画布\n",
    "plt.bar(range(3), values[-1,3:6], width=0.5, color='red')   # 绘制直方图\n",
    "plt.xlabel('产业')    # 添加横轴标签\n",
    "plt.ylabel('生产总值（亿元）')   # 添加y轴标签\n",
    "plt.xticks(range(3), label)\n",
    "plt.title('2017年第一季度各产业国民生产总值直方图')  # 添加图表标题\n",
    "plt.savefig('../tmp/2017年第一季度各产业国民生产总值直方图.png')\n",
    "plt.show()"
   ]
  },
  {
   "cell_type": "code",
   "execution_count": 16,
   "metadata": {},
   "outputs": [],
   "source": [
    "# 直方图比较直观的看出产品质量特性的分布状态，便于判断其总体质量\n",
    "# 但直方图无法发现数据的模式，样本的频率分布、总体的分布"
   ]
  },
  {
   "cell_type": "markdown",
   "metadata": {},
   "source": [
    "#### 绘制饼图"
   ]
  },
  {
   "cell_type": "code",
   "execution_count": 7,
   "metadata": {
    "collapsed": true
   },
   "outputs": [
    {
     "data": {
      "text/plain": [
       "'\\nplt.pie(\\n     x,   # 接收array数据，即用于绘制饼图的数据\\n    explode=None,    # 指定项距离饼图圆心的的半径\\n    labels=None,     # 指定每一项的名称\\n    colors=None,     # 表示饼图颜色\\n    autopct=None,    # 指定数值的显示方式\\n    pctdistance=0.6, # 制定每一项比列pctdistance和距离圆心的半径，默认0.6\\n    shadow=False,\\n    labeldistance=1.1,\\n    startangle=None,\\n    radius=None,     # 表示饼图的半径\\n    counterclock=True,\\n    wedgeprops=None,\\n    textprops=None,\\n    center=(0, 0),\\n    frame=False,\\n    rotatelabels=False,\\n)\\n'"
      ]
     },
     "execution_count": 7,
     "metadata": {},
     "output_type": "execute_result"
    }
   ],
   "source": [
    "'''\n",
    "plt.pie(\n",
    "     x,   # 接收array数据，即用于绘制饼图的数据\n",
    "    explode=None,    # 指定项距离饼图圆心的的半径\n",
    "    labels=None,     # 指定每一项的名称\n",
    "    colors=None,     # 表示饼图颜色\n",
    "    autopct=None,    # 指定数值的显示方式\n",
    "    pctdistance=0.6, # 制定每一项比列pctdistance和距离圆心的半径，默认0.6\n",
    "    shadow=False,\n",
    "    labeldistance=1.1,\n",
    "    startangle=None,\n",
    "    radius=None,     # 表示饼图的半径\n",
    "    counterclock=True,\n",
    "    wedgeprops=None,\n",
    "    textprops=None,\n",
    "    center=(0, 0),\n",
    "    frame=False,\n",
    "    rotatelabels=False,\n",
    ")\n",
    "'''"
   ]
  },
  {
   "cell_type": "code",
   "execution_count": 12,
   "metadata": {
    "collapsed": true
   },
   "outputs": [
    {
     "data": {
      "image/png": "[encoded data removed]",
      "text/plain": [
       "<Figure size 432x432 with 1 Axes>"
      ]
     },
     "metadata": {},
     "output_type": "display_data"
    }
   ],
   "source": [
    "plt.figure(figsize=(6,6))   # 将画布设定为正方形\n",
    "label = ['第一产业', '第二产业', '第三产业']   # 刻度标签\n",
    "explode = [0.01,0.01,0.01]   # 设定各项距离圆心的半径\n",
    "plt.pie(values[-1, 3:6],explode=explode,labels=label,autopct='%1.1f%%')   #  绘制饼图\n",
    "plt.title('2017年第一季度各产业国民生产总值饼图')  # 添加图表标题\n",
    "plt.savefig('../tmp/2017年第一季度各产业国民生产总值饼图.png')\n",
    "plt.show()"
   ]
  },
  {
   "cell_type": "markdown",
   "metadata": {},
   "source": [
    "### 绘制箱线图"
   ]
  },
  {
   "cell_type": "code",
   "execution_count": 13,
   "metadata": {
    "collapsed": true
   },
   "outputs": [
    {
     "data": {
      "text/plain": [
       "'\\nplt.boxplot(\\n       x,                     # 绘制箱线图数据\\n    notch=None,               # 接收bool值，表示中间箱体是否有缺口\\n    sym=None,                 # 指定异常点的形状\\n    vert=None,                # 接收bool值，表示图形是纵向还是横向\\n    whis=None,\\n    positions=None,           # 表示图形位置\\n    widths=None,              # 表示每个箱体的宽度\\n    patch_artist=None,        # \\n    bootstrap=None,\\n    usermedians=None,\\n    conf_intervals=None,\\n    meanline=None,            # 表示是否显示均值线\\n    showmeans=None,\\n    showcaps=None,\\n    showbox=None,\\n    showfliers=None,\\n    boxprops=None,\\n    labels=None,\\n    flierprops=None,\\n    medianprops=None,\\n    meanprops=None,\\n    capprops=None,\\n    whiskerprops=None,\\n    manage_ticks=True,\\n    autorange=False,\\n    zorder=None,\\n    *,\\n    data=None,\\n)\\n'"
      ]
     },
     "execution_count": 13,
     "metadata": {},
     "output_type": "execute_result"
    }
   ],
   "source": [
    "'''\n",
    "plt.boxplot(\n",
    "       x,                     # 绘制箱线图数据\n",
    "    notch=None,               # 接收bool值，表示中间箱体是否有缺口\n",
    "    sym=None,                 # 指定异常点的形状\n",
    "    vert=None,                # 接收bool值，表示图形是纵向还是横向\n",
    "    whis=None,\n",
    "    positions=None,           # 表示图形位置\n",
    "    widths=None,              # 表示每个箱体的宽度\n",
    "    patch_artist=None,        # \n",
    "    bootstrap=None,\n",
    "    usermedians=None,\n",
    "    conf_intervals=None,\n",
    "    meanline=None,            # 表示是否显示均值线\n",
    "    showmeans=None,\n",
    "    showcaps=None,\n",
    "    showbox=None,\n",
    "    showfliers=None,\n",
    "    boxprops=None,\n",
    "    labels=None,\n",
    "    flierprops=None,\n",
    "    medianprops=None,\n",
    "    meanprops=None,\n",
    "    capprops=None,\n",
    "    whiskerprops=None,\n",
    "    manage_ticks=True,\n",
    "    autorange=False,\n",
    "    zorder=None,\n",
    "    *,\n",
    "    data=None,\n",
    ")\n",
    "'''"
   ]
  },
  {
   "cell_type": "code",
   "execution_count": 14,
   "metadata": {
    "collapsed": true
   },
   "outputs": [
    {
     "data": {
      "image/png": "[encoded data removed]",
      "text/plain": [
       "<Figure size 432x288 with 1 Axes>"
      ]
     },
     "metadata": {
      "needs_background": "light"
     },
     "output_type": "display_data"
    }
   ],
   "source": [
    "label = ['第一产业', '第二产业', '第三产业']   # 定义标签\n",
    "gdp = (list(values[:,3]),list(values[:,4]),list(values[:,5]))\n",
    "plt.figure(figsize=(6,4))\n",
    "plt.boxplot(gdp,notch=True, labels=label,meanline=True)\n",
    "plt.title('2017年第一季度各产业国民生产总值箱线图')  # 添加图表标题\n",
    "plt.savefig('../tmp/2017年第一季度各产业国民生产总箱线图.png')\n",
    "plt.show()"
   ]
  },
  {
   "cell_type": "code",
   "execution_count": 15,
   "metadata": {},
   "outputs": [],
   "source": [
    "# 箱线图粗略的看出数据是否具有对称性，分布的分散情况"
   ]
  },
  {
   "cell_type": "code",
   "execution_count": null,
   "metadata": {},
   "outputs": [],
   "source": []
  }
 ],
 "metadata": {
  "kernelspec": {
   "display_name": "Python 3",
   "language": "python",
   "name": "python3"
  },
  "language_info": {
   "codemirror_mode": {
    "name": "ipython",
    "version": 3
   },
   "file_extension": ".py",
   "mimetype": "text/x-python",
   "name": "python",
   "nbconvert_exporter": "python",
   "pygments_lexer": "ipython3",
   "version": "3.7.4"
  }
 },
 "nbformat": 4,
 "nbformat_minor": 2
}
