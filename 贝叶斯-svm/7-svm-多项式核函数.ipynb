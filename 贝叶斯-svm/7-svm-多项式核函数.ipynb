{
 "cells": [
  {
   "cell_type": "code",
   "execution_count": 1,
   "metadata": {
    "collapsed": true
   },
   "outputs": [
    {
     "name": "stderr",
     "output_type": "stream",
     "text": [
      "d:\\python3.6.8\\lib\\importlib\\_bootstrap.py:219: RuntimeWarning: numpy.ufunc size changed, may indicate binary incompatibility. Expected 192 from C header, got 216 from PyObject\n",
      "  return f(*args, **kwds)\n",
      "d:\\python3.6.8\\lib\\importlib\\_bootstrap.py:219: RuntimeWarning: numpy.ufunc size changed, may indicate binary incompatibility. Expected 192 from C header, got 216 from PyObject\n",
      "  return f(*args, **kwds)\n"
     ]
    }
   ],
   "source": [
    "import numpy as np\n",
    "import matplotlib.pyplot as plt\n",
    "\n",
    "from sklearn.svm import SVR"
   ]
  },
  {
   "cell_type": "code",
   "execution_count": 9,
   "metadata": {
    "collapsed": true
   },
   "outputs": [
    {
     "data": {
      "text/plain": [
       "array([[-4.        ],\n",
       "       [-3.85858586],\n",
       "       [-3.71717172],\n",
       "       [-3.57575758],\n",
       "       [-3.43434343],\n",
       "       [-3.29292929],\n",
       "       [-3.15151515],\n",
       "       [-3.01010101],\n",
       "       [-2.86868687],\n",
       "       [-2.72727273],\n",
       "       [-2.58585859],\n",
       "       [-2.44444444],\n",
       "       [-2.3030303 ],\n",
       "       [-2.16161616],\n",
       "       [-2.02020202],\n",
       "       [-1.87878788],\n",
       "       [-1.73737374],\n",
       "       [-1.5959596 ],\n",
       "       [-1.45454545],\n",
       "       [-1.31313131],\n",
       "       [-1.17171717],\n",
       "       [-1.03030303],\n",
       "       [-0.88888889],\n",
       "       [-0.74747475],\n",
       "       [-0.60606061],\n",
       "       [-0.46464646],\n",
       "       [-0.32323232],\n",
       "       [-0.18181818],\n",
       "       [-0.04040404],\n",
       "       [ 0.1010101 ],\n",
       "       [ 0.24242424],\n",
       "       [ 0.38383838],\n",
       "       [ 0.52525253],\n",
       "       [ 0.66666667],\n",
       "       [ 0.80808081],\n",
       "       [ 0.94949495],\n",
       "       [ 1.09090909],\n",
       "       [ 1.23232323],\n",
       "       [ 1.37373737],\n",
       "       [ 1.51515152],\n",
       "       [ 1.65656566],\n",
       "       [ 1.7979798 ],\n",
       "       [ 1.93939394],\n",
       "       [ 2.08080808],\n",
       "       [ 2.22222222],\n",
       "       [ 2.36363636],\n",
       "       [ 2.50505051],\n",
       "       [ 2.64646465],\n",
       "       [ 2.78787879],\n",
       "       [ 2.92929293],\n",
       "       [ 3.07070707],\n",
       "       [ 3.21212121],\n",
       "       [ 3.35353535],\n",
       "       [ 3.49494949],\n",
       "       [ 3.63636364],\n",
       "       [ 3.77777778],\n",
       "       [ 3.91919192],\n",
       "       [ 4.06060606],\n",
       "       [ 4.2020202 ],\n",
       "       [ 4.34343434],\n",
       "       [ 4.48484848],\n",
       "       [ 4.62626263],\n",
       "       [ 4.76767677],\n",
       "       [ 4.90909091],\n",
       "       [ 5.05050505],\n",
       "       [ 5.19191919],\n",
       "       [ 5.33333333],\n",
       "       [ 5.47474747],\n",
       "       [ 5.61616162],\n",
       "       [ 5.75757576],\n",
       "       [ 5.8989899 ],\n",
       "       [ 6.04040404],\n",
       "       [ 6.18181818],\n",
       "       [ 6.32323232],\n",
       "       [ 6.46464646],\n",
       "       [ 6.60606061],\n",
       "       [ 6.74747475],\n",
       "       [ 6.88888889],\n",
       "       [ 7.03030303],\n",
       "       [ 7.17171717],\n",
       "       [ 7.31313131],\n",
       "       [ 7.45454545],\n",
       "       [ 7.5959596 ],\n",
       "       [ 7.73737374],\n",
       "       [ 7.87878788],\n",
       "       [ 8.02020202],\n",
       "       [ 8.16161616],\n",
       "       [ 8.3030303 ],\n",
       "       [ 8.44444444],\n",
       "       [ 8.58585859],\n",
       "       [ 8.72727273],\n",
       "       [ 8.86868687],\n",
       "       [ 9.01010101],\n",
       "       [ 9.15151515],\n",
       "       [ 9.29292929],\n",
       "       [ 9.43434343],\n",
       "       [ 9.57575758],\n",
       "       [ 9.71717172],\n",
       "       [ 9.85858586],\n",
       "       [10.        ]])"
      ]
     },
     "execution_count": 9,
     "metadata": {},
     "output_type": "execute_result"
    }
   ],
   "source": [
    "X = np.linspace(-4,10,100).reshape(-1,1)\n",
    "X"
   ]
  },
  {
   "cell_type": "code",
   "execution_count": 3,
   "metadata": {},
   "outputs": [],
   "source": [
    "def f(x):\n",
    "    return (x - 5)**2 + 4*x -10"
   ]
  },
  {
   "cell_type": "code",
   "execution_count": 10,
   "metadata": {
    "collapsed": true
   },
   "outputs": [
    {
     "data": {
      "text/plain": [
       "array([[55.        ],\n",
       "       [53.04019998],\n",
       "       [51.12039588],\n",
       "       [49.2405877 ],\n",
       "       [47.40077543],\n",
       "       [45.60095909],\n",
       "       [43.84113866],\n",
       "       [42.12131415],\n",
       "       [40.44148556],\n",
       "       [38.80165289],\n",
       "       [37.20181614],\n",
       "       [35.64197531],\n",
       "       [34.12213039],\n",
       "       [32.6422814 ],\n",
       "       [31.20242832],\n",
       "       [29.80257117],\n",
       "       [28.44270993],\n",
       "       [27.12284461],\n",
       "       [25.84297521],\n",
       "       [24.60310172],\n",
       "       [23.40322416],\n",
       "       [22.24334252],\n",
       "       [21.12345679],\n",
       "       [20.04356698],\n",
       "       [19.00367309],\n",
       "       [18.00377512],\n",
       "       [17.04387307],\n",
       "       [16.12396694],\n",
       "       [15.24405673],\n",
       "       [14.40414243],\n",
       "       [13.60422406],\n",
       "       [12.8443016 ],\n",
       "       [12.12437506],\n",
       "       [11.44444444],\n",
       "       [10.80450974],\n",
       "       [10.20457096],\n",
       "       [ 9.6446281 ],\n",
       "       [ 9.12468115],\n",
       "       [ 8.64473013],\n",
       "       [ 8.20477502],\n",
       "       [ 7.80481584],\n",
       "       [ 7.44485257],\n",
       "       [ 7.12488522],\n",
       "       [ 6.84491378],\n",
       "       [ 6.60493827],\n",
       "       [ 6.40495868],\n",
       "       [ 6.244975  ],\n",
       "       [ 6.12498725],\n",
       "       [ 6.04499541],\n",
       "       [ 6.00499949],\n",
       "       [ 6.00499949],\n",
       "       [ 6.04499541],\n",
       "       [ 6.12498725],\n",
       "       [ 6.244975  ],\n",
       "       [ 6.40495868],\n",
       "       [ 6.60493827],\n",
       "       [ 6.84491378],\n",
       "       [ 7.12488522],\n",
       "       [ 7.44485257],\n",
       "       [ 7.80481584],\n",
       "       [ 8.20477502],\n",
       "       [ 8.64473013],\n",
       "       [ 9.12468115],\n",
       "       [ 9.6446281 ],\n",
       "       [10.20457096],\n",
       "       [10.80450974],\n",
       "       [11.44444444],\n",
       "       [12.12437506],\n",
       "       [12.8443016 ],\n",
       "       [13.60422406],\n",
       "       [14.40414243],\n",
       "       [15.24405673],\n",
       "       [16.12396694],\n",
       "       [17.04387307],\n",
       "       [18.00377512],\n",
       "       [19.00367309],\n",
       "       [20.04356698],\n",
       "       [21.12345679],\n",
       "       [22.24334252],\n",
       "       [23.40322416],\n",
       "       [24.60310172],\n",
       "       [25.84297521],\n",
       "       [27.12284461],\n",
       "       [28.44270993],\n",
       "       [29.80257117],\n",
       "       [31.20242832],\n",
       "       [32.6422814 ],\n",
       "       [34.12213039],\n",
       "       [35.64197531],\n",
       "       [37.20181614],\n",
       "       [38.80165289],\n",
       "       [40.44148556],\n",
       "       [42.12131415],\n",
       "       [43.84113866],\n",
       "       [45.60095909],\n",
       "       [47.40077543],\n",
       "       [49.2405877 ],\n",
       "       [51.12039588],\n",
       "       [53.04019998],\n",
       "       [55.        ]])"
      ]
     },
     "execution_count": 10,
     "metadata": {},
     "output_type": "execute_result"
    }
   ],
   "source": [
    "y = f(X)\n",
    "y"
   ]
  },
  {
   "cell_type": "code",
   "execution_count": 11,
   "metadata": {
    "collapsed": true
   },
   "outputs": [
    {
     "data": {
      "text/plain": [
       "[<matplotlib.lines.Line2D at 0x221e941e5c0>]"
      ]
     },
     "execution_count": 11,
     "metadata": {},
     "output_type": "execute_result"
    },
    {
     "data": {
      "image/png": "[encoded data removed]",
      "text/plain": [
       "<Figure size 432x288 with 1 Axes>"
      ]
     },
     "metadata": {
      "needs_background": "light"
     },
     "output_type": "display_data"
    }
   ],
   "source": [
    "plt.plot(X,y)"
   ]
  },
  {
   "cell_type": "code",
   "execution_count": 12,
   "metadata": {},
   "outputs": [],
   "source": [
    "X_test = np.linspace(-5,11,256).reshape(-1,1)"
   ]
  },
  {
   "cell_type": "code",
   "execution_count": 14,
   "metadata": {
    "collapsed": true
   },
   "outputs": [
    {
     "name": "stderr",
     "output_type": "stream",
     "text": [
      "d:\\python3.6.8\\lib\\site-packages\\sklearn\\utils\\validation.py:760: DataConversionWarning: A column-vector y was passed when a 1d array was expected. Please change the shape of y to (n_samples, ), for example using ravel().\n",
      "  y = column_or_1d(y, warn=True)\n"
     ]
    },
    {
     "data": {
      "text/plain": [
       "[<matplotlib.lines.Line2D at 0x221e94c0f98>]"
      ]
     },
     "execution_count": 14,
     "metadata": {},
     "output_type": "execute_result"
    },
    {
     "data": {
      "image/png": "[encoded data removed]",
      "text/plain": [
       "<Figure size 432x288 with 1 Axes>"
      ]
     },
     "metadata": {
      "needs_background": "light"
     },
     "output_type": "display_data"
    }
   ],
   "source": [
    "svr_linear = SVR(kernel='linear')\n",
    "\n",
    "svr_linear.fit(X,y)\n",
    "\n",
    "y_ = svr_linear.predict(X_test)\n",
    "\n",
    "plt.scatter(X,y)\n",
    "\n",
    "plt.plot(X_test,y_,color = 'red')"
   ]
  },
  {
   "cell_type": "code",
   "execution_count": 39,
   "metadata": {
    "collapsed": true
   },
   "outputs": [
    {
     "data": {
      "text/plain": [
       "[<matplotlib.lines.Line2D at 0x221eaec6780>]"
      ]
     },
     "execution_count": 39,
     "metadata": {},
     "output_type": "execute_result"
    },
    {
     "data": {
      "image/png": "[encoded data removed]",
      "text/plain": [
       "<Figure size 432x288 with 1 Axes>"
      ]
     },
     "metadata": {
      "needs_background": "light"
     },
     "output_type": "display_data"
    }
   ],
   "source": [
    "svr_poly = SVR(kernel='poly',degree=5,coef0=1)\n",
    "\n",
    "svr_poly.fit(X,y.reshape(-1))\n",
    "\n",
    "y_ = svr_poly.predict(X_test)\n",
    "\n",
    "plt.scatter(X,y)\n",
    "\n",
    "plt.plot(X_test,y_,color = 'red')"
   ]
  },
  {
   "cell_type": "code",
   "execution_count": 43,
   "metadata": {
    "collapsed": true
   },
   "outputs": [
    {
     "data": {
      "text/plain": [
       "[<matplotlib.lines.Line2D at 0x221eb143828>]"
      ]
     },
     "execution_count": 43,
     "metadata": {},
     "output_type": "execute_result"
    },
    {
     "data": {
      "image/png": "[encoded data removed]",
      "text/plain": [
       "<Figure size 432x288 with 1 Axes>"
      ]
     },
     "metadata": {
      "needs_background": "light"
     },
     "output_type": "display_data"
    }
   ],
   "source": [
    "X = np.linspace(-5,5,100).reshape(-1,1)\n",
    "\n",
    "y = X**2\n",
    "\n",
    "plt.plot(X,y)"
   ]
  },
  {
   "cell_type": "code",
   "execution_count": 44,
   "metadata": {},
   "outputs": [],
   "source": [
    "X_test = np.linspace(-7,7,1024).reshape(-1,1)"
   ]
  },
  {
   "cell_type": "code",
   "execution_count": 45,
   "metadata": {},
   "outputs": [
    {
     "data": {
      "text/plain": [
       "[<matplotlib.lines.Line2D at 0x221eb184e80>]"
      ]
     },
     "execution_count": 45,
     "metadata": {},
     "output_type": "execute_result"
    },
    {
     "data": {
      "image/png": "[encoded data removed]",
      "text/plain": [
       "<Figure size 432x288 with 1 Axes>"
      ]
     },
     "metadata": {
      "needs_background": "light"
     },
     "output_type": "display_data"
    }
   ],
   "source": [
    "svr_poly = SVR(kernel='poly',degree=2,coef0=0)\n",
    "\n",
    "svr_poly.fit(X,y.reshape(-1))\n",
    "\n",
    "y_ = svr_poly.predict(X_test)\n",
    "\n",
    "plt.scatter(X,y)\n",
    "\n",
    "plt.plot(X_test,y_,color = 'red')"
   ]
  },
  {
   "cell_type": "code",
   "execution_count": null,
   "metadata": {},
   "outputs": [],
   "source": [
    "svr_poly = SVR(kernel='poly',degree=5,coef0=1)\n",
    "\n",
    "svr_poly.fit(X,y.reshape(-1))\n",
    "\n",
    "y_ = svr_poly.predict(X_test)\n",
    "\n",
    "plt.scatter(X,y)\n",
    "\n",
    "plt.plot(X_test,y_,color = 'red')"
   ]
  },
  {
   "cell_type": "code",
   "execution_count": 40,
   "metadata": {},
   "outputs": [
    {
     "data": {
      "text/plain": [
       "[<matplotlib.lines.Line2D at 0x221eaffacc0>]"
      ]
     },
     "execution_count": 40,
     "metadata": {},
     "output_type": "execute_result"
    },
    {
     "data": {
      "image/png": "[encoded data removed]",
      "text/plain": [
       "<Figure size 432x288 with 1 Axes>"
      ]
     },
     "metadata": {
      "needs_background": "light"
     },
     "output_type": "display_data"
    }
   ],
   "source": [
    "svr_rbf = SVR(kernel='rbf')\n",
    "\n",
    "svr_rbf.fit(X,y.reshape(-1))\n",
    "\n",
    "y_ = svr_rbf.predict(X_test)\n",
    "\n",
    "plt.scatter(X,y)\n",
    "\n",
    "plt.plot(X_test,y_,color = 'red')"
   ]
  }
 ],
 "metadata": {
  "kernelspec": {
   "display_name": "Python 3",
   "language": "python",
   "name": "python3"
  },
  "language_info": {
   "codemirror_mode": {
    "name": "ipython",
    "version": 3
   },
   "file_extension": ".py",
   "mimetype": "text/x-python",
   "name": "python",
   "nbconvert_exporter": "python",
   "pygments_lexer": "ipython3",
   "version": "3.6.8"
  }
 },
 "nbformat": 4,
 "nbformat_minor": 2
}
