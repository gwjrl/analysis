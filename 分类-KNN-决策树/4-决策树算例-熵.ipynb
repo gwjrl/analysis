{
 "cells": [
  {
   "cell_type": "code",
   "execution_count": 1,
   "metadata": {},
   "outputs": [],
   "source": [
    "import numpy as np"
   ]
  },
  {
   "cell_type": "code",
   "execution_count": 3,
   "metadata": {},
   "outputs": [
    {
     "data": {
      "text/plain": [
       "0.8812908992306926"
      ]
     },
     "execution_count": 3,
     "metadata": {},
     "output_type": "execute_result"
    }
   ],
   "source": [
    "# 不按照特征进行划分\n",
    "# 3 no 0.3\n",
    "# 7 yes 0.7\n",
    "\n",
    "p0 = np.array([0.3,0.7])\n",
    "\n",
    "(p0*np.log2(1/p0)).sum()"
   ]
  },
  {
   "cell_type": "code",
   "execution_count": 4,
   "metadata": {},
   "outputs": [
    {
     "data": {
      "text/plain": [
       "0.5999999999999999"
      ]
     },
     "execution_count": 4,
     "metadata": {},
     "output_type": "execute_result"
    }
   ],
   "source": [
    "# 按照日志密度进行划分 \n",
    "# s 3 0.3 ----> 2no 1yes\n",
    "ps = np.array([2/3,1/3])\n",
    "# m 4 0.4 ----> 1no 3yes\n",
    "pm = np.array([0.25,0.75])\n",
    "# l 3 0.3 ----> 3yes\n",
    "pl = np.array([1.0])\n",
    "\n",
    "0.3*(ps*np.log2(1/ps)).sum() + 0.4*(pm*np.log2(1/pm)).sum() + 0.3*(pl*np.log2(1/pl)).sum()"
   ]
  },
  {
   "cell_type": "code",
   "execution_count": 5,
   "metadata": {},
   "outputs": [],
   "source": [
    "def entropy(x):\n",
    "    return (x*np.log2(1/x)).sum()"
   ]
  },
  {
   "cell_type": "code",
   "execution_count": 6,
   "metadata": {},
   "outputs": [
    {
     "data": {
      "text/plain": [
       "0.32451124978365314"
      ]
     },
     "execution_count": 6,
     "metadata": {},
     "output_type": "execute_result"
    }
   ],
   "source": [
    "# 好友密度进行划分\n",
    "# s 4 0.4   -----> 3no 1yes\n",
    "# m 4 0.4   -----> 4yes\n",
    "# l 2 0.2   -----> 2yes\n",
    "\n",
    "0.4*entropy(np.array([0.75,0.25]))"
   ]
  },
  {
   "cell_type": "code",
   "execution_count": 7,
   "metadata": {},
   "outputs": [
    {
     "data": {
      "text/plain": [
       "0.8464393446710154"
      ]
     },
     "execution_count": 7,
     "metadata": {},
     "output_type": "execute_result"
    }
   ],
   "source": [
    "# 是否使用真实头像进行划分\n",
    "# no 5  -----> 2no 3yes\n",
    "# yes 5 -----> 1no 4yes\n",
    "0.5*entropy(np.array([0.4,0.6])) + 0.5*entropy(np.array([0.2,0.8]))"
   ]
  }
 ],
 "metadata": {
  "kernelspec": {
   "display_name": "Python 3",
   "language": "python",
   "name": "python3"
  },
  "language_info": {
   "codemirror_mode": {
    "name": "ipython",
    "version": 3
   },
   "file_extension": ".py",
   "mimetype": "text/x-python",
   "name": "python",
   "nbconvert_exporter": "python",
   "pygments_lexer": "ipython3",
   "version": "3.6.8"
  }
 },
 "nbformat": 4,
 "nbformat_minor": 2
}
