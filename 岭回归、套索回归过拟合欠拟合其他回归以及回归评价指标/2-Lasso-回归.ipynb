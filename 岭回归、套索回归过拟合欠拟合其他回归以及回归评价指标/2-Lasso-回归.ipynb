{
 "cells": [
  {
   "cell_type": "code",
   "execution_count": 1,
   "metadata": {
    "collapsed": true
   },
   "outputs": [
    {
     "name": "stderr",
     "output_type": "stream",
     "text": [
      "d:\\python3.7.4\\lib\\importlib\\_bootstrap.py:219: RuntimeWarning: numpy.ufunc size changed, may indicate binary incompatibility. Expected 192 from C header, got 216 from PyObject\n",
      "  return f(*args, **kwds)\n"
     ]
    }
   ],
   "source": [
    "import numpy as np\n",
    "\n",
    "from sklearn.linear_model import LinearRegression,Lasso\n",
    "\n",
    "from sklearn.metrics import mean_squared_error,r2_score#r2_score也是回归评价指标\n",
    "\n",
    "from sklearn.model_selection import train_test_split#将数据一分为二：训练数据和测试数据\n",
    "\n",
    "from sklearn import datasets"
   ]
  },
  {
   "cell_type": "code",
   "execution_count": 2,
   "metadata": {},
   "outputs": [],
   "source": [
    "f = lambda x : (x - 2)**2 + 10\n",
    "\n",
    "# 当x取多少的时候，取最小值------> 当x = 2时，取最小值"
   ]
  },
  {
   "cell_type": "code",
   "execution_count": 3,
   "metadata": {},
   "outputs": [],
   "source": [
    "nsample = 10\n",
    "f = lambda x : 1/(2*nsample)*(x - 2)**2 + 10\n",
    "\n",
    "# 当x取多少的时候，取最小值依然也是x = 2时，取最小值"
   ]
  },
  {
   "cell_type": "code",
   "execution_count": 4,
   "metadata": {
    "scrolled": true
   },
   "outputs": [
    {
     "data": {
      "text/plain": [
       "(506, 13)"
      ]
     },
     "metadata": {},
     "output_type": "display_data"
    },
    {
     "data": {
      "text/plain": [
       "(506,)"
      ]
     },
     "metadata": {},
     "output_type": "display_data"
    }
   ],
   "source": [
    "# 波士顿房价，X是房子的属性，y是房子的价格\n",
    "X,y = datasets.load_boston(True)\n",
    "display(X.shape,y.shape)"
   ]
  },
  {
   "cell_type": "code",
   "execution_count": 9,
   "metadata": {
    "collapsed": true
   },
   "outputs": [
    {
     "data": {
      "text/plain": [
       "(404, 13)"
      ]
     },
     "metadata": {},
     "output_type": "display_data"
    },
    {
     "data": {
      "text/plain": [
       "(404,)"
      ]
     },
     "metadata": {},
     "output_type": "display_data"
    },
    {
     "data": {
      "text/plain": [
       "(102, 13)"
      ]
     },
     "metadata": {},
     "output_type": "display_data"
    },
    {
     "data": {
      "text/plain": [
       "(102,)"
      ]
     },
     "metadata": {},
     "output_type": "display_data"
    }
   ],
   "source": [
    "# train_test_split可以将数据分成两份，训练，测试，数据依然是一一对应\n",
    "X_train,X_test,y_train,y_test = train_test_split(X,y,test_size = 0.2)#20%的数据作为测试数据，80%训练\n",
    "display(X_train.shape,y_train.shape)\n",
    "display(X_test.shape,y_test.shape)"
   ]
  },
  {
   "cell_type": "code",
   "execution_count": 20,
   "metadata": {},
   "outputs": [
    {
     "name": "stdout",
     "output_type": "stream",
     "text": [
      "[-1.01620186e-01  2.95491208e-02  3.32864584e-02  3.64067374e+00\n",
      " -2.00470645e+01  3.77179311e+00  2.20047642e-03 -1.32925814e+00\n",
      "  2.66933569e-01 -9.49849789e-03 -1.03317427e+00  8.06421246e-03\n",
      " -5.23592420e-01] 38.39943379955408\n",
      "线性回归，均方误差： 17.702744833760196\n",
      "线性回归，r2_score 0.7731379668271798\n",
      "线性回归，默认的评价指标是： 0.7731379668271798\n"
     ]
    }
   ],
   "source": [
    "linear_model = LinearRegression()\n",
    "\n",
    "linear_model.fit(X_train,y_train)#训练80%的数据，学习\n",
    "\n",
    "# 学以致用，预测\n",
    "y_ = linear_model.predict(X_test)#X_test是数据，真实值是y_test(标准答案)\n",
    "\n",
    "print(linear_model.coef_,linear_model.intercept_)\n",
    "\n",
    "print('线性回归，均方误差：',mean_squared_error(y_test,y_))\n",
    "print('线性回归，r2_score',r2_score(y_test,y_))\n",
    "print('线性回归，默认的评价指标是：',linear_model.score(X_test,y_test))"
   ]
  },
  {
   "cell_type": "code",
   "execution_count": 21,
   "metadata": {
    "scrolled": true
   },
   "outputs": [
    {
     "name": "stdout",
     "output_type": "stream",
     "text": [
      "[-0.06380041  0.02857957 -0.          0.         -0.          0.93428834\n",
      "  0.02092641 -0.52975306  0.24068745 -0.01249465 -0.81007216  0.00729525\n",
      " -0.77558147] 42.143493106704\n",
      "套索回归，均方误差： 20.87842337517289\n",
      "套索回归，r2_score 0.7324414026856543\n",
      "套索回归，自带的评估 0.7324414026856543\n"
     ]
    }
   ],
   "source": [
    "lasso = Lasso(alpha = 1.0)\n",
    "\n",
    "lasso.fit(X_train,y_train)\n",
    "\n",
    "y_ = lasso.predict(X_test)\n",
    "\n",
    "print(lasso.coef_,lasso.intercept_)\n",
    "\n",
    "print('套索回归，均方误差：',mean_squared_error(y_test,y_))\n",
    "print('套索回归，r2_score',r2_score(y_test,y_))\n",
    "'''the coefficient R^2 is defined as (1 - u/v), where u is the residual\n",
    "sum of squares ((y_true - y_pred) ** 2).sum() and v is the total\n",
    "sum of squares ((y_true - y_true.mean()) ** 2).sum().\n",
    "The best possible score is 1.0 and it can be negative (because the\n",
    "model can be arbitrarily worse).'''\n",
    "print('套索回归，自带的评估',lasso.score(X_test,y_test))"
   ]
  },
  {
   "cell_type": "code",
   "execution_count": 22,
   "metadata": {},
   "outputs": [
    {
     "data": {
      "text/plain": [
       "0.7324414026856543"
      ]
     },
     "execution_count": 22,
     "metadata": {},
     "output_type": "execute_result"
    }
   ],
   "source": [
    "u = ((y_test - y_)**2).sum()\n",
    "\n",
    "v = ((y_test - y_test.mean())**2).sum()\n",
    "\n",
    "1 - u/v"
   ]
  }
 ],
 "metadata": {
  "kernelspec": {
   "display_name": "Python 3",
   "language": "python",
   "name": "python3"
  },
  "language_info": {
   "codemirror_mode": {
    "name": "ipython",
    "version": 3
   },
   "file_extension": ".py",
   "mimetype": "text/x-python",
   "name": "python",
   "nbconvert_exporter": "python",
   "pygments_lexer": "ipython3",
   "version": "3.7.4"
  }
 },
 "nbformat": 4,
 "nbformat_minor": 2
}
